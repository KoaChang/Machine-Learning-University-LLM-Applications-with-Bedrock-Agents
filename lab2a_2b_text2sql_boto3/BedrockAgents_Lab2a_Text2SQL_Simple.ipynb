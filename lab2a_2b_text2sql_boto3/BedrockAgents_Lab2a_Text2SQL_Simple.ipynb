{
 "cells": [
  {
   "cell_type": "markdown",
   "metadata": {},
   "source": [
    "\n",
    "\n",
    "<center><img src=\"images/MLU-NEW-logo.png\" alt=\"drawing\" width=\"400\" style=\"background-color:white; padding:1em;\" /></center> <br/>\n",
    "\n",
    "# <a name=\"0\">Using Bedrock Agents with Boto3 SDK </a>\n",
    "## <a name=\"0\"> Lab 2a: Text to SQL (Simple) - without Knowledge Bases using Transactional Retrieval Mechanism</a>\n",
    "\n",
    "## Lab Overview\n",
    "\n",
    "In this lab, we will recreate lab 1 but with the Boto 3 SDK API. We will learn to use Bedrock Agents with Knowledge Bases invoked via Lambdas using ReAct Prompting. Internally Bedrock Agents automate prompt engineering and orchestration of user-requested tasks.\n",
    "\n",
    "##### Notebook Kernel\n",
    "Please choose `conda_python3` as the kernel type of the top right corner of the notebook if that does not appear by default.\n",
    "\n",
    "\n",
    "<div style=\"border: 4px solid coral; text-align: left; margin: auto; padding-left: 20px; padding-right: 20px\">\n",
    "    <h4>This lab automatically cleans up resources to be frugal. </h4>\n",
    "    You can visit this section (<a href=\"#9\"> Clean-up Resources</a>) to change the setting if you need to experiment with prompts and settings. Please run clean-up resources after you are done with experiments. <br/>\n",
    "</div>\n",
    "<br/>\n",
    "\n",
    "## LLM Used\n",
    "Anthropic Claude 3 Haiku \n",
    "\n",
    "## Use-case Overview\n",
    "Here, we are setting up a retail customer service agent that helps customers purchase shoes via natural language conversations. User requests are broken down into multiple steps, with each step invoking APIs to fulfill the sub-tasks.\n",
    "\n",
    "With ReAct, the sequence of actions for Agents follows a question-thought-action-observation paradigm:\n",
    "\n",
    "    - The question is the user-requested task or problem to solve.\n",
    "    - The thought is a reasoning step that helps demonstrate to the FM how to tackle the problem and identify an action to take.\n",
    "    - The action is an API that the model can invoke from an allowed set of APIs.\n",
    "    - The observation is the result of carrying out the action.\n",
    "    \n",
    "\n",
    "#### Chat window of user-agent conversations: \n",
    "<br/> <center><img src=\"images/retail-bot-workflow.png\" alt=\"conversation between user and agent to buy a pair of shoes after validating user information. The bot gets customer information by asking the customer for their name, and then gets their details. Then the bot uses those details to find the right kinds of shoes for them, then checks its inventory database to be sure they're in stock, then creates a prompt that asks the FM to generate a response to the customer. Then the bot places an order on behalf of a customer.\" height=\"700\" width=\"700\" style=\"background-color:white; padding:1em;\" /></center> <br/>\n",
    "\n",
    "#### Sequence Diagram of user-agent conversations \n",
    "<br/> <center><img src=\"images/retail-flow-agents.png\" alt=\"This figure is to show the sequence diagram to capture user and agent interaction for every conversation in the chat session to buy a pair of shoes. The bot gets customer information by asking the customer for their name, and then gets their details. Then the bot uses those details to find the right kinds of shoes for them, then checks its inventory database to be sure they're in stock, then creates a prompt that asks the FM to generate a response to the customer. Then the bot places an order on behalf of a customer.\" height=\"700\" width=\"700\" style=\"background-color:white; padding:1em;\" /></center> <br/>\n",
    "\n",
    "In this use-case, we use the Lambda function to retrieve customer details, list shoes matching customer preferred activity and finally, place orders. Our code is backed by an in-memory SQLite database. You can use similar constructs to write to a persistent data store. \n",
    "\n",
    "This lab will demonstrate how to create your first agent for Bedrock using the BOTO3 SDK:\n",
    "\n",
    "1. Select the underlying foundation model (FM) for your agent \n",
    "2. Provide a clear and concise agent instruction \n",
    "3. Create and associate an action group with an API Schema and a Lambda function \n",
    "4. Create, invoke, test, and deploy the agent\n",
    "5. Demonstrating a chat session with multi-turn conversations\n",
    "6. Clean up resources (Be Frugal)\n",
    "\n",
    "We provide a step-by-step guide with building blocks to create a customer service retail agent bot. We use a text generation model (Anthropic Claude 2) and agents for Amazon Bedrock for this solution. \n",
    "\n",
    "This lab notebook has the following sections:\n",
    "\n",
    "1. <a href=\"#1\">Environment configuration</a>\n",
    "2. <a href=\"#2\">Set up Bedrock for inference</a>\n",
    "3. <a href=\"#3\">Setup prefix variables for various agent resources</a>\n",
    "4. <a href=\"#4\">Create Lambda function for action group </a>\n",
    "5. <a href=\"#5\">Creating an agent</a>\n",
    "6. <a href=\"#6\">Deploy agent and create agent alias</a>\n",
    "7. <a href=\"#7\">Invoke agent </a>\n",
    "8. <a href=\"#8\">Multi-turn conversations / session context management</a>\n",
    "9. <a href=\"#9\"> Clean-up resources</a>\n",
    "10. <a href=\"#10\">Challenge exercise and lab quiz</a>\n",
    "    \n",
    "Please work top to bottom of this notebook and don't skip sections as this could lead to error messages due to missing code.\n",
    "\n",
    "---\n",
    "\n",
    "\n",
    "You will be presented with two kinds of exercises throughout the notebook: activities and challenges. <br/>\n",
    "\n",
    "| <img style=\"float: center;\" src=\"images/activity.png\" alt=\"Activity\" width=\"125\"/>| <img style=\"float: center;\" src=\"images/challenge.png\" alt=\"Challenge\" width=\"125\"/>|\n",
    "| --- | --- |\n",
    "|<p style=\"text-align:center;\"> No coding is needed for an activity. You try to understand a concept, <br/>answer questions, or run a code cell.</p> |<p style=\"text-align:center;\">Challenges are where you can practice your coding skills.</p>"
   ]
  },
  {
   "cell_type": "markdown",
   "metadata": {
    "tags": []
   },
   "source": [
    "\n",
    "## <a name=\"1\">Environment Setup and Configuration</a>\n",
    "(<a href=\"#0\">Go to top</a>)\n",
    "\n",
    "Let's start by installing all required packages as specified in the `requirements.txt` file and importing several libraries."
   ]
  },
  {
   "cell_type": "code",
   "execution_count": 1,
   "metadata": {},
   "outputs": [],
   "source": [
    "%%capture\n",
    "!pip3 install -r requirements.txt --quiet"
   ]
  },
  {
   "cell_type": "code",
   "execution_count": 2,
   "metadata": {
    "tags": []
   },
   "outputs": [
    {
     "name": "stderr",
     "output_type": "stream",
     "text": [
      "[2024-07-11 18:08:12,401] p29893 {credentials.py:1075} INFO - Found credentials from IAM Role: BaseNotebookInstanceEc2InstanceRole\n"
     ]
    }
   ],
   "source": [
    "import uuid\n",
    "\n",
    "import pprint\n",
    "import botocore\n",
    "import logging\n",
    "import sys\n",
    "import boto3\n",
    "import botocore\n",
    "import json \n",
    "\n",
    "from mlu_utils.agents_utils import *\n",
    "from mlu_utils.show_trace_widget import *\n",
    "from mlu_utils.summarize_agent_trace import *\n",
    "\n",
    "# setting up the logger config and format of log messages\n",
    "logging.basicConfig(format='[%(asctime)s] p%(process)s {%(filename)s:%(lineno)d} %(levelname)s - %(message)s', level=logging.INFO)\n",
    "logger = logging.getLogger(__name__)\n"
   ]
  },
  {
   "cell_type": "code",
   "execution_count": 3,
   "metadata": {
    "tags": []
   },
   "outputs": [],
   "source": [
    "\n",
    "import logging\n",
    "import boto3\n",
    "import random\n",
    "import time\n",
    "import zipfile\n",
    "from io import BytesIO\n",
    "import json\n",
    "import uuid\n",
    "import pprint\n",
    "import os\n",
    "from opensearchpy import OpenSearch, RequestsHttpConnection\n",
    "from requests_aws4auth import AWS4Auth\n",
    "from IPython.display import Markdown\n",
    "import pandas as pd\n",
    "import json\n",
    "import pprint\n",
    "\n",
    "from mlu_utils.agents_infra_utils_no_kb_setup import *\n"
   ]
  },
  {
   "cell_type": "code",
   "execution_count": 4,
   "metadata": {
    "tags": []
   },
   "outputs": [],
   "source": [
    "# formatter for regular print\n",
    "pp = pprint.PrettyPrinter(width=41, compact=True)\n",
    "\n",
    "# getting boto3 clients for required AWS services\n",
    "sts_client = boto3.client('sts')\n",
    "iam_client = boto3.client('iam')\n",
    "s3_client = boto3.client('s3')\n",
    "lambda_client = boto3.client('lambda')\n"
   ]
  },
  {
   "cell_type": "code",
   "execution_count": 5,
   "metadata": {},
   "outputs": [],
   "source": [
    "clean_up_trace_files(\"./trace_files/\")"
   ]
  },
  {
   "cell_type": "markdown",
   "metadata": {},
   "source": [
    "#### Session, Region and Account Setup"
   ]
  },
  {
   "cell_type": "code",
   "execution_count": 6,
   "metadata": {
    "tags": []
   },
   "outputs": [
    {
     "data": {
      "text/plain": [
       "('us-east-1', '339712993987')"
      ]
     },
     "execution_count": 6,
     "metadata": {},
     "output_type": "execute_result"
    }
   ],
   "source": [
    "session = boto3.session.Session()\n",
    "region = session.region_name\n",
    "account_id = sts_client.get_caller_identity()[\"Account\"]\n",
    "region, account_id"
   ]
  },
  {
   "cell_type": "code",
   "execution_count": 7,
   "metadata": {
    "tags": []
   },
   "outputs": [],
   "source": [
    "import ipywidgets as widgets\n",
    "from IPython.display import JSON\n",
    "\n",
    "out_2a_tabs_1 = widgets.Output(layout=widgets.Layout(border = '1px solid black', width = '100%',))\n",
    "out_2a_tabs_2 = widgets.Output(layout=widgets.Layout(border = '1px solid black', width = '100%',))\n",
    "out_2a_tabs_3 = widgets.Output(layout=widgets.Layout(border = '1px solid black', width = '100%',))\n",
    "\n",
    "out_2a_turn_1_summary = widgets.Output(layout=widgets.Layout(border = '1px solid black', width = '100%',))\n",
    "out_2a_turn_2_summary = widgets.Output(layout=widgets.Layout(border = '1px solid black', width = '100%',))\n",
    "out_2a_turn_3_summary = widgets.Output(layout=widgets.Layout(border = '1px solid black', width = '100%',))\n"
   ]
  },
  {
   "cell_type": "markdown",
   "metadata": {
    "tags": []
   },
   "source": [
    "### <a name=\"2\">2. Set up Bedrock for inference</a>\n",
    "(<a href=\"#0\">Go to top</a>)\n",
    "\n",
    "To get started, set up Bedrock and instantiate an active `bedrock-runtime` to query LLMs. The code below leverages [LangChain's Bedrock integration](https://python.langchain.com/docs/integrations/llms/bedrock).\n",
    "```\n",
    "bedrock_agent_client = boto3.client('bedrock-agent')\n",
    "bedrock_agent_runtime_client = boto3.client('bedrock-agent-runtime')\n",
    "\n",
    "```\n",
    "<div style=\"border: 4px solid coral; text-align: left; margin: auto; padding-left: 20px; padding-right: 20px\">\n",
    "    <h4>A note on Bedrock API invocation</h4>\n",
    "\n",
    "Amazon Bedrock is generally available for all AWS customers. The provided lab for this course currently invokes Bedrock's external endpoint, which has access to Anthropic and AI21 models.\n",
    "\n",
    "For training and learning purposes, Amazon Bedrock is also available through an internal endpoint that allows accessing Amazon's Titan models. To use that instead, please follow the instructions in the <a href=\"https://w.amazon.com/bin/view/AmazonBedrock/Products/GetStarted/\">Amazon Bedrock Get Started wiki page</a>.\n",
    "</div>\n",
    "</br>"
   ]
  },
  {
   "cell_type": "code",
   "execution_count": 8,
   "metadata": {
    "tags": []
   },
   "outputs": [],
   "source": [
    "bedrock_agent_client = boto3.client('bedrock-agent')\n",
    "bedrock_agent_runtime_client = boto3.client('bedrock-agent-runtime')"
   ]
  },
  {
   "cell_type": "markdown",
   "metadata": {},
   "source": [
    "### <a name=\"3\">3. Setup prefix variables for various agent resources</a>\n",
    "(<a href=\"#0\">Go to top</a>)\n",
    "\n",
    "\n",
    "This is the same set of instructions for infrastructure setup as provided in Lab 2a and includes:\n",
    "- Setup for prefix variables with various agent resources\n",
    "- Create Lambda function for action group\n",
    "- Define SQL queries inside the Lambda function for each use-case API, followed by testing and deploying the Lambda function\n",
    "- Creating an agent\n",
    "\n"
   ]
  },
  {
   "cell_type": "code",
   "execution_count": 9,
   "metadata": {
    "tags": []
   },
   "outputs": [
    {
     "name": "stderr",
     "output_type": "stream",
     "text": [
      "[2024-07-11 18:08:13,134] p29893 {agents_infra_utils_no_kb_setup.py:53} INFO - random_uuid :: 01147bed-02b0-49d2-a6b4-3072996ce5f6 prefix_infra :: l201147b prefix_iam :: l202b0\n",
      "[2024-07-11 18:08:13,472] p29893 {agents_infra_utils_no_kb_setup.py:120} INFO - kb_db_files_path :: retail-kb kb_db_key :: kbdb_l201147b\n",
      "[2024-07-11 18:08:44,462] p29893 {agents_infra_utils_no_kb_setup.py:272} INFO - bucket_name :: l201147b-agent-kb-339712993987 \n",
      " agent_name :: l201147b-agent-kb \n",
      " agent_alias_name :: l201147b-workshop-alias \n",
      " schema_key :: l201147b-agent-kb-schema.json  \n"
     ]
    }
   ],
   "source": [
    "infra_response = setup_agent_infrastructure(schema_filename='retail-agent-openapi.json', \n",
    "                                            kb_db_file_uri='retail-kb', \n",
    "                                            lambda_code_uri='lambda_retail_agent.py')\n"
   ]
  },
  {
   "cell_type": "code",
   "execution_count": 10,
   "metadata": {
    "tags": []
   },
   "outputs": [],
   "source": [
    "agent_name = infra_response[\"agent_name\"]\n",
    "agent_alias_name = infra_response[\"agent_alias_name\"]\n",
    "agent_role = infra_response[\"agent_role\"]\n",
    "bucket_name = infra_response[\"bucket_name\"]\n",
    "schema_key = infra_response[\"schema_key\"]\n",
    "lambda_name = infra_response[\"lambda_name\"]\n",
    "lambda_function = infra_response[\"lambda_function\"]\n",
    "agent_bedrock_policy = infra_response[\"agent_bedrock_policy\"]\n",
    "agent_s3_schema_policy = infra_response[\"agent_s3_schema_policy\"]\n",
    "agent_role_name = infra_response[\"agent_role_name\"]\n",
    "lambda_role_name = infra_response[\"lambda_role_name\"]\n",
    "\n"
   ]
  },
  {
   "cell_type": "markdown",
   "metadata": {},
   "source": [
    "### <a name=\"5\">Creating an agent</a>\n",
    "(<a href=\"#0\">Go to top</a>)\n",
    "\n",
    "\n",
    "Once the needed IAM role is created, we can use the Bedrock agent client to create a new agent. To do so we use the create_agent function. It requires an agent name, underline foundation model and instruction. You can also provide an agent description. Note that the agent created is not yet prepared. We will focus on preparing the agent and then using it to invoke actions and use other APIs\n",
    "\n",
    "As long as the `idleSessionTTLInSeconds` time that you set in the agent configuration has not expired, you maintain the same session with the agent. \n"
   ]
  },
  {
   "cell_type": "code",
   "execution_count": 11,
   "metadata": {
    "tags": []
   },
   "outputs": [],
   "source": [
    "# Create agent\n",
    "# Haiku and Titan Premier works\n",
    "# amazon.titan-text-premier-v1:0 and anthropic.claude-3-haiku-20240307-v1:0\n",
    "agent_instruction = \"\"\"\n",
    "You are an agent that helps customers purchase shoes. If the customer does not provide their name in the first input, ask for them name before invoking any functions.\n",
    "Retrieve customer details like customer ID and preferred activity based on the name. \n",
    "Then check inventory for shoe best fit activity matching customer preferred activity. \n",
    "Generate response with shoe ID, style description and colors based on shoe inventory details. \n",
    "If multiple matches exist, display all of them to the user. \n",
    "After customer indicates they would like to order the shoe, use the shoe ID corresponding to their choice and \n",
    "customer ID from initial customer details received, to place order for the shoe.\"\"\"\n",
    "\n",
    "response = bedrock_agent_client.create_agent(\n",
    "    agentName=agent_name,\n",
    "    agentResourceRoleArn=agent_role['Role']['Arn'],\n",
    "    description=\"Retail agent for shoe purchase.\",\n",
    "    idleSessionTTLInSeconds=3600,\n",
    "    foundationModel=\"anthropic.claude-3-haiku-20240307-v1:0\",\n",
    "    instruction=agent_instruction,\n",
    ")"
   ]
  },
  {
   "cell_type": "code",
   "execution_count": 12,
   "metadata": {},
   "outputs": [
    {
     "data": {
      "text/plain": [
       "'BIXPWQTW61'"
      ]
     },
     "execution_count": 12,
     "metadata": {},
     "output_type": "execute_result"
    }
   ],
   "source": [
    "agent_id = response['agent']['agentId']\n",
    "agent_id"
   ]
  },
  {
   "cell_type": "markdown",
   "metadata": {},
   "source": [
    "### Create agent action group\n",
    "\n",
    "We will now create and agent action group that uses the lambda function and API schema files created before. The create_agent_action_group function provides this functionality. We will use DRAFT as the agent version since we haven't yet create an agent version or alias. To inform the agent about the action group functionalities, we will provide an action group description containing the functionalities of the action group.\n"
   ]
  },
  {
   "cell_type": "code",
   "execution_count": 13,
   "metadata": {},
   "outputs": [
    {
     "data": {
      "text/plain": [
       "('l201147b-agent-kb-339712993987', 'l201147b-agent-kb-schema.json')"
      ]
     },
     "execution_count": 13,
     "metadata": {},
     "output_type": "execute_result"
    }
   ],
   "source": [
    "bucket_name, schema_key"
   ]
  },
  {
   "cell_type": "code",
   "execution_count": 14,
   "metadata": {},
   "outputs": [],
   "source": [
    "# Pause to make sure agent is created\n",
    "time.sleep(30)\n",
    "# Now, we can configure and create an action group here:\n",
    "agent_action_group_response = bedrock_agent_client.create_agent_action_group(\n",
    "    agentId=agent_id,\n",
    "    agentVersion='DRAFT',\n",
    "    actionGroupExecutor={\n",
    "        'lambda': lambda_function['FunctionArn']\n",
    "    },\n",
    "    actionGroupName='RetailManagementActionGroup',\n",
    "    apiSchema={\n",
    "        's3': {\n",
    "            's3BucketName': bucket_name,\n",
    "            's3ObjectKey': schema_key\n",
    "        }\n",
    "    },\n",
    "    description='Actions for a retail agent that helps customers purchase shoes.'\n",
    ")"
   ]
  },
  {
   "cell_type": "code",
   "execution_count": 15,
   "metadata": {},
   "outputs": [
    {
     "data": {
      "text/plain": [
       "{'ResponseMetadata': {'RequestId': 'a2d865dc-3d67-4c09-99ce-888fbea50b71',\n",
       "  'HTTPStatusCode': 200,\n",
       "  'HTTPHeaders': {'date': 'Thu, 11 Jul 2024 18:09:15 GMT',\n",
       "   'content-type': 'application/json',\n",
       "   'content-length': '572',\n",
       "   'connection': 'keep-alive',\n",
       "   'x-amzn-requestid': 'a2d865dc-3d67-4c09-99ce-888fbea50b71',\n",
       "   'x-amz-apigw-id': 'awnnvFgDoAMEqZw=',\n",
       "   'x-amzn-trace-id': 'Root=1-66901fca-0f66c911767c325d160a6716'},\n",
       "  'RetryAttempts': 0},\n",
       " 'agentActionGroup': {'actionGroupExecutor': {'lambda': 'arn:aws:lambda:us-east-1:339712993987:function:l201147b-agent-kb-339712993987'},\n",
       "  'actionGroupId': 'DJR2UN54ES',\n",
       "  'actionGroupName': 'RetailManagementActionGroup',\n",
       "  'actionGroupState': 'ENABLED',\n",
       "  'agentId': 'BIXPWQTW61',\n",
       "  'agentVersion': 'DRAFT',\n",
       "  'apiSchema': {'s3': {'s3BucketName': 'l201147b-agent-kb-339712993987',\n",
       "    's3ObjectKey': 'l201147b-agent-kb-schema.json'}},\n",
       "  'createdAt': datetime.datetime(2024, 7, 11, 18, 9, 15, 486580, tzinfo=tzlocal()),\n",
       "  'description': 'Actions for a retail agent that helps customers purchase shoes.',\n",
       "  'updatedAt': datetime.datetime(2024, 7, 11, 18, 9, 15, 486580, tzinfo=tzlocal())}}"
      ]
     },
     "execution_count": 15,
     "metadata": {},
     "output_type": "execute_result"
    }
   ],
   "source": [
    "agent_action_group_response"
   ]
  },
  {
   "cell_type": "markdown",
   "metadata": {},
   "source": [
    "### Allowing agent to invoke action group Lambda\n",
    "\n",
    "Before using our action group, we need to allow our agent to invoke the Lambda function associated to the action group. This is done via resource-based policy. Let's add the resource-based policy to the Lambda function created:\n"
   ]
  },
  {
   "cell_type": "code",
   "execution_count": 16,
   "metadata": {},
   "outputs": [],
   "source": [
    "# Create allow invoke permission on Lambda\n",
    "response = lambda_client.add_permission(\n",
    "    FunctionName=lambda_name,\n",
    "    StatementId='allow_bedrock',\n",
    "    Action='lambda:InvokeFunction',\n",
    "    Principal='bedrock.amazonaws.com',\n",
    "    SourceArn=f\"arn:aws:bedrock:{region}:{account_id}:agent/{agent_id}\",\n",
    ")"
   ]
  },
  {
   "cell_type": "markdown",
   "metadata": {},
   "source": [
    "### Testing agent\n",
    "\n",
    "Let's create a DRAFT version of the agent that can be used for internal testing.\n"
   ]
  },
  {
   "cell_type": "code",
   "execution_count": 17,
   "metadata": {},
   "outputs": [
    {
     "data": {
      "text/plain": [
       "{'ResponseMetadata': {'RequestId': '65849f80-d7da-48a5-9522-a9e879eb9f22',\n",
       "  'HTTPStatusCode': 202,\n",
       "  'HTTPHeaders': {'date': 'Thu, 11 Jul 2024 18:09:15 GMT',\n",
       "   'content-type': 'application/json',\n",
       "   'content-length': '119',\n",
       "   'connection': 'keep-alive',\n",
       "   'x-amzn-requestid': '65849f80-d7da-48a5-9522-a9e879eb9f22',\n",
       "   'x-amz-apigw-id': 'awnn3GQkoAMEd5A=',\n",
       "   'x-amzn-trace-id': 'Root=1-66901fcb-57068724334b4e8927f0af14'},\n",
       "  'RetryAttempts': 0},\n",
       " 'agentId': 'BIXPWQTW61',\n",
       " 'agentStatus': 'PREPARING',\n",
       " 'agentVersion': 'DRAFT',\n",
       " 'preparedAt': datetime.datetime(2024, 7, 11, 18, 9, 15, 764635, tzinfo=tzlocal())}"
      ]
     },
     "execution_count": 17,
     "metadata": {},
     "output_type": "execute_result"
    }
   ],
   "source": [
    "agent_prepare = bedrock_agent_client.prepare_agent(agentId=agent_id)\n",
    "agent_prepare"
   ]
  },
  {
   "cell_type": "markdown",
   "metadata": {},
   "source": [
    "### <a name=\"6\">Deploy agent and create agent alias</a>\n",
    "(<a href=\"#0\">Go to top</a>)\n",
    "\n",
    "We will now create an alias of the agent that can be used to deploy the agent.\n"
   ]
  },
  {
   "cell_type": "code",
   "execution_count": 18,
   "metadata": {},
   "outputs": [],
   "source": [
    "# Pause to make sure agent is prepared\n",
    "time.sleep(10)\n",
    "agent_alias = bedrock_agent_client.create_agent_alias(\n",
    "    agentId=agent_id,\n",
    "    agentAliasName=agent_alias_name\n",
    ")\n",
    "# Pause to make sure agent alias is ready\n",
    "time.sleep(10)"
   ]
  },
  {
   "cell_type": "code",
   "execution_count": 19,
   "metadata": {},
   "outputs": [
    {
     "data": {
      "text/plain": [
       "{'ResponseMetadata': {'RequestId': '4b43fc73-4205-4229-82b6-1817a1432578',\n",
       "  'HTTPStatusCode': 202,\n",
       "  'HTTPHeaders': {'date': 'Thu, 11 Jul 2024 18:09:25 GMT',\n",
       "   'content-type': 'application/json',\n",
       "   'content-length': '349',\n",
       "   'connection': 'keep-alive',\n",
       "   'x-amzn-requestid': '4b43fc73-4205-4229-82b6-1817a1432578',\n",
       "   'x-amz-apigw-id': 'awnpdE0DIAMEPvA=',\n",
       "   'x-amzn-trace-id': 'Root=1-66901fd5-41c1c4893ff0ff7b33f0599f'},\n",
       "  'RetryAttempts': 0},\n",
       " 'agentAlias': {'agentAliasArn': 'arn:aws:bedrock:us-east-1:339712993987:agent-alias/BIXPWQTW61/JUQXRTZUM9',\n",
       "  'agentAliasId': 'JUQXRTZUM9',\n",
       "  'agentAliasName': 'l201147b-workshop-alias',\n",
       "  'agentAliasStatus': 'CREATING',\n",
       "  'agentId': 'BIXPWQTW61',\n",
       "  'createdAt': datetime.datetime(2024, 7, 11, 18, 9, 25, 923664, tzinfo=tzlocal()),\n",
       "  'routingConfiguration': [{}],\n",
       "  'updatedAt': datetime.datetime(2024, 7, 11, 18, 9, 25, 923664, tzinfo=tzlocal())}}"
      ]
     },
     "execution_count": 19,
     "metadata": {},
     "output_type": "execute_result"
    }
   ],
   "source": [
    "agent_alias"
   ]
  },
  {
   "cell_type": "markdown",
   "metadata": {},
   "source": [
    "### <a name=\"7\">Invoke agent</a>\n",
    "(<a href=\"#0\">Go to top</a>)\n",
    "\n",
    "Now that we've created the agent, let's use the bedrock-agent-runtime client to invoke this agent and perform some tasks.\n",
    "\n",
    "<b> Note: If your kernel session is active, you will need to re-run this section for any new prompts you want to try once the session is over </b>\n",
    "\n",
    "\n"
   ]
  },
  {
   "cell_type": "code",
   "execution_count": 20,
   "metadata": {},
   "outputs": [
    {
     "name": "stdout",
     "output_type": "stream",
     "text": [
      "agent_alias_id :::: JUQXRTZUM9\n",
      "agent_id :::: BIXPWQTW61\n"
     ]
    }
   ],
   "source": [
    "\n",
    "# Extract the agentAliasId from the response\n",
    "agent_alias_id = agent_alias['agentAlias']['agentAliasId']\n",
    "\n",
    "print(f\"agent_alias_id :::: {agent_alias_id}\")\n",
    "print(f\"agent_id :::: {agent_id}\")"
   ]
  },
  {
   "cell_type": "markdown",
   "metadata": {},
   "source": [
    "### Turn 1 : First user interaction with agent"
   ]
  },
  {
   "cell_type": "code",
   "execution_count": 21,
   "metadata": {
    "scrolled": true,
    "tags": []
   },
   "outputs": [
    {
     "name": "stdout",
     "output_type": "stream",
     "text": [
      "session_id :::: bb3fb528-3fb0-11ef-b235-16ffc4ecb111\n"
     ]
    },
    {
     "name": "stderr",
     "output_type": "stream",
     "text": [
      "[2024-07-11 18:09:37,391] p29893 {agents_utils.py:87} INFO - Final answer ->\n",
      "Hello, could you please provide your name?\n"
     ]
    },
    {
     "name": "stdout",
     "output_type": "stream",
     "text": [
      "CPU times: user 20.8 ms, sys: 3.02 ms, total: 23.8 ms\n",
      "Wall time: 1.38 s\n"
     ]
    }
   ],
   "source": [
    "%%time\n",
    "\n",
    "# first question - turn 1\n",
    "session_id:str = str(uuid.uuid1()) # random identifier\n",
    "enable_trace:bool = True\n",
    "end_session:bool = False\n",
    "final_answer = None\n",
    "\n",
    "print(f\"session_id :::: {session_id}\")\n",
    "# replace this with a prompt relevant to your agent\n",
    "input_text:str = \"Hello, My name is John Doe. I am looking to buy running shoes\" \n",
    "\n",
    "final_answer = invoke_agent_generate_response(bedrock_agent_runtime_client,\n",
    "                                               input_text, \n",
    "                                               agent_id, \n",
    "                                               agent_alias_id, \n",
    "                                               session_id, \n",
    "                                               enable_trace,\n",
    "                                               end_session,\n",
    "                                               trace_filename_prefix = 'lab2a_agent_trace',\n",
    "                                               turn_number = 1)"
   ]
  },
  {
   "cell_type": "code",
   "execution_count": 22,
   "metadata": {},
   "outputs": [
    {
     "data": {
      "text/html": [
       "<table border=\"1\" class=\"dataframe\">\n",
       "  <thead>\n",
       "    <tr style=\"text-align: right;\">\n",
       "      <th></th>\n",
       "      <th>User Question</th>\n",
       "      <th>Agent Answer</th>\n",
       "    </tr>\n",
       "  </thead>\n",
       "  <tbody>\n",
       "    <tr>\n",
       "      <th>0</th>\n",
       "      <td>Hello, My name is John Doe. I am looking to buy running shoes</td>\n",
       "      <td>Hello, could you please provide your name?</td>\n",
       "    </tr>\n",
       "  </tbody>\n",
       "</table>"
      ],
      "text/plain": [
       "<IPython.core.display.HTML object>"
      ]
     },
     "metadata": {},
     "output_type": "display_data"
    }
   ],
   "source": [
    "# Print the final response for turn-1\n",
    "format_final_response(question=input_text, final_answer=final_answer, lab_number=\"2a\", turn_number=\"1\", gen_sql=False)"
   ]
  },
  {
   "cell_type": "code",
   "execution_count": 23,
   "metadata": {
    "tags": []
   },
   "outputs": [
    {
     "name": "stdout",
     "output_type": "stream",
     "text": [
      "trace_filename_prefix = lab2a_agent_trace and turn_number = 1\n"
     ]
    },
    {
     "data": {
      "application/vnd.jupyter.widget-view+json": {
       "model_id": "60c78ed4d4d8423b8b5dfc2d87943752",
       "version_major": 2,
       "version_minor": 0
      },
      "text/plain": [
       "ToggleButtons(button_style='success', description='Agent Trace: (Last Logged trace only) Full trace available …"
      ]
     },
     "metadata": {},
     "output_type": "display_data"
    },
    {
     "data": {
      "application/vnd.jupyter.widget-view+json": {
       "model_id": "82f94725e36a4ef18a533abe1c0eed2f",
       "version_major": 2,
       "version_minor": 0
      },
      "text/plain": [
       "Output(layout=Layout(border_bottom='1px solid black', border_left='1px solid black', border_right='1px solid b…"
      ]
     },
     "metadata": {},
     "output_type": "display_data"
    }
   ],
   "source": [
    "# Deep dive into Agent-workflow steps in each of the tab\n",
    "%load_ext autoreload\n",
    "%autoreload 2\n",
    "from mlu_utils.show_trace_widget import *\n",
    "\n",
    "show_tabs(trace_filename_prefix = 'lab2a_agent_trace', turn_number = 1)\n",
    "display(out_2a_tabs_1)"
   ]
  },
  {
   "cell_type": "code",
   "execution_count": 24,
   "metadata": {},
   "outputs": [],
   "source": [
    "# Wait for tab output async processes to complete\n",
    "#time.sleep(10)"
   ]
  },
  {
   "cell_type": "code",
   "execution_count": 25,
   "metadata": {
    "tags": []
   },
   "outputs": [
    {
     "name": "stdout",
     "output_type": "stream",
     "text": [
      ">>>>>>>> complete_log_path to summarize==> trace_files/full_trace_lab2a_agent_trace_1.log\n"
     ]
    },
    {
     "name": "stderr",
     "output_type": "stream",
     "text": [
      "/home/ec2-user/anaconda3/envs/python3/lib/python3.10/site-packages/langchain_core/_api/deprecation.py:117: LangChainDeprecationWarning: The function `__call__` was deprecated in LangChain 0.1.7 and will be removed in 0.2.0. Use invoke instead.\n",
      "  warn_deprecated(\n"
     ]
    },
    {
     "name": "stdout",
     "output_type": "stream",
     "text": [
      "CPU times: user 136 ms, sys: 25.3 ms, total: 161 ms\n",
      "Wall time: 3.5 s\n"
     ]
    }
   ],
   "source": [
    "%%time\n",
    "# using Claude-v3 Haiku to generate a summary of the agent's workflow for this conversation turn\n",
    "turn_1_summary = summarize_agent_trace(trace_file_base_path= \"trace_files/\", lab_number=\"2a\", turn_number=\"1\")\n",
    "with out_2a_turn_1_summary:\n",
    "    out_2a_turn_1_summary.clear_output()\n",
    "    display(Markdown(turn_1_summary))\n"
   ]
  },
  {
   "cell_type": "code",
   "execution_count": 26,
   "metadata": {},
   "outputs": [
    {
     "data": {
      "application/vnd.jupyter.widget-view+json": {
       "model_id": "b94f9ddf7ead41a8ac80e2993c0f3b93",
       "version_major": 2,
       "version_minor": 0
      },
      "text/plain": [
       "Output(layout=Layout(border_bottom='1px solid black', border_left='1px solid black', border_right='1px solid b…"
      ]
     },
     "metadata": {},
     "output_type": "display_data"
    }
   ],
   "source": [
    "## Display the summary of the agent workflow trace\n",
    "display(out_2a_turn_1_summary)"
   ]
  },
  {
   "cell_type": "markdown",
   "metadata": {},
   "source": [
    "### <a name=\"8\">Multi-turn conversations / session context management</a>\n",
    "(<a href=\"#0\">Go to top</a>)\n",
    "\n",
    "\n",
    "In this section, we continue with the same user-session using the `session_id` parameter and answer and ask followup questions to the agent.\n",
    "We call every round of conversation a turn, so therefore this chat session can be considered as a multi-turn conversation.\n"
   ]
  },
  {
   "cell_type": "markdown",
   "metadata": {
    "tags": []
   },
   "source": [
    "### Turn 2 : Second user interaction with agent for same session"
   ]
  },
  {
   "cell_type": "code",
   "execution_count": 27,
   "metadata": {
    "scrolled": true,
    "tags": []
   },
   "outputs": [
    {
     "name": "stdout",
     "output_type": "stream",
     "text": [
      "Session ID :: bb3fb528-3fb0-11ef-b235-16ffc4ecb111\n"
     ]
    },
    {
     "name": "stderr",
     "output_type": "stream",
     "text": [
      "[2024-07-11 18:09:49,088] p29893 {agents_utils.py:87} INFO - Final answer ->\n",
      "The Shoe ID 10 are lightweight racing flats designed for running. They have a breathable mesh upper, responsive cushioning, and a flexible outsole for a fast, efficient ride. The shoes come in bright yellow and orange color options and are priced at $129.99. The current inventory count for this shoe is 912 units.\n"
     ]
    },
    {
     "name": "stdout",
     "output_type": "stream",
     "text": [
      "CPU times: user 17.4 ms, sys: 606 µs, total: 18 ms\n",
      "Wall time: 7.25 s\n"
     ]
    }
   ],
   "source": [
    "%%time\n",
    "# Follow-up question - turn 2\n",
    "print(f\"Session ID :: {session_id}\")\n",
    "enable_trace:bool = True\n",
    "end_session:bool = False\n",
    "\n",
    "# Replace this with a prompt relevant to your agent\n",
    "input_text:str = \"Can you elaborate more about Shoe ID 10?\" \n",
    "\n",
    "final_answer = invoke_agent_generate_response(bedrock_agent_runtime_client,\n",
    "                                               input_text, \n",
    "                                               agent_id, \n",
    "                                               agent_alias_id, \n",
    "                                               session_id, \n",
    "                                               enable_trace,\n",
    "                                               end_session,\n",
    "                                               trace_filename_prefix = 'lab2a_agent_trace',\n",
    "                                               turn_number = 2)"
   ]
  },
  {
   "cell_type": "code",
   "execution_count": 28,
   "metadata": {
    "tags": []
   },
   "outputs": [
    {
     "data": {
      "text/html": [
       "<table border=\"1\" class=\"dataframe\">\n",
       "  <thead>\n",
       "    <tr style=\"text-align: right;\">\n",
       "      <th></th>\n",
       "      <th>User Question</th>\n",
       "      <th>Agent Answer</th>\n",
       "    </tr>\n",
       "  </thead>\n",
       "  <tbody>\n",
       "    <tr>\n",
       "      <th>0</th>\n",
       "      <td>Can you elaborate more about Shoe ID 10?</td>\n",
       "      <td>The Shoe ID 10 are lightweight racing flats designed for running. They have a breathable mesh upper, responsive cushioning, and a flexible outsole for a fast, efficient ride. The shoes come in bright yellow and orange color options and are priced at \\$129.99. The current inventory count for this shoe is 912 units.</td>\n",
       "    </tr>\n",
       "  </tbody>\n",
       "</table>"
      ],
      "text/plain": [
       "<IPython.core.display.HTML object>"
      ]
     },
     "metadata": {},
     "output_type": "display_data"
    }
   ],
   "source": [
    "# Print the final response for turn-2\n",
    "format_final_response(question=input_text, final_answer=final_answer, lab_number=\"2a\", turn_number=\"2\", gen_sql=False)"
   ]
  },
  {
   "cell_type": "code",
   "execution_count": 29,
   "metadata": {
    "tags": []
   },
   "outputs": [
    {
     "name": "stdout",
     "output_type": "stream",
     "text": [
      "The autoreload extension is already loaded. To reload it, use:\n",
      "  %reload_ext autoreload\n",
      "trace_filename_prefix = lab2a_agent_trace and turn_number = 2\n"
     ]
    },
    {
     "data": {
      "application/vnd.jupyter.widget-view+json": {
       "model_id": "29917b64b4e3412280f86b1bf76bbfdb",
       "version_major": 2,
       "version_minor": 0
      },
      "text/plain": [
       "ToggleButtons(button_style='success', description='Agent Trace: (Last Logged trace only) Full trace available …"
      ]
     },
     "metadata": {},
     "output_type": "display_data"
    },
    {
     "data": {
      "application/vnd.jupyter.widget-view+json": {
       "model_id": "cad91e47e9434951a694f474e6349b36",
       "version_major": 2,
       "version_minor": 0
      },
      "text/plain": [
       "Output(layout=Layout(border_bottom='1px solid black', border_left='1px solid black', border_right='1px solid b…"
      ]
     },
     "metadata": {},
     "output_type": "display_data"
    }
   ],
   "source": [
    "# Deep dive into agent-workflow steps in each of the tab\n",
    "%load_ext autoreload\n",
    "%autoreload 2\n",
    "from mlu_utils.show_trace_widget import *\n",
    "\n",
    "show_tabs(trace_filename_prefix = 'lab2a_agent_trace', turn_number = 2)\n",
    "display(out_2a_tabs_2)"
   ]
  },
  {
   "cell_type": "code",
   "execution_count": 30,
   "metadata": {},
   "outputs": [],
   "source": [
    "# Wait for tab output async processes to complete\n",
    "time.sleep(10)"
   ]
  },
  {
   "cell_type": "code",
   "execution_count": 31,
   "metadata": {},
   "outputs": [
    {
     "name": "stdout",
     "output_type": "stream",
     "text": [
      ">>>>>>>> complete_log_path to summarize==> trace_files/full_trace_lab2a_agent_trace_2.log\n",
      "CPU times: user 12.3 ms, sys: 315 µs, total: 12.6 ms\n",
      "Wall time: 3.65 s\n"
     ]
    }
   ],
   "source": [
    "%%time\n",
    "# Using Claude-v3 Haiku to generate a summary of the agent's workflow for this conversation turn\n",
    "turn_2_summary = summarize_agent_trace(trace_file_base_path= \"trace_files/\", lab_number=\"2a\", turn_number=\"2\")\n",
    "with out_2a_turn_2_summary:\n",
    "    out_2a_turn_2_summary.clear_output()\n",
    "    display(Markdown(turn_2_summary))\n"
   ]
  },
  {
   "cell_type": "code",
   "execution_count": 32,
   "metadata": {
    "tags": []
   },
   "outputs": [
    {
     "data": {
      "application/vnd.jupyter.widget-view+json": {
       "model_id": "36755dad1eca4790a21eb6c0728cbc64",
       "version_major": 2,
       "version_minor": 0
      },
      "text/plain": [
       "Output(layout=Layout(border_bottom='1px solid black', border_left='1px solid black', border_right='1px solid b…"
      ]
     },
     "metadata": {},
     "output_type": "display_data"
    }
   ],
   "source": [
    "## Display the summary of the agent workflow trace\n",
    "display(out_2a_turn_2_summary)"
   ]
  },
  {
   "cell_type": "markdown",
   "metadata": {
    "tags": []
   },
   "source": [
    "### Turn 3 : Third user interaction with agent for same session"
   ]
  },
  {
   "cell_type": "code",
   "execution_count": 33,
   "metadata": {
    "scrolled": true,
    "tags": []
   },
   "outputs": [
    {
     "name": "stdout",
     "output_type": "stream",
     "text": [
      "Session ID :: bb3fb528-3fb0-11ef-b235-16ffc4ecb111\n"
     ]
    },
    {
     "name": "stderr",
     "output_type": "stream",
     "text": [
      "[2024-07-11 18:10:09,198] p29893 {agents_utils.py:87} INFO - Final answer ->\n",
      "I have placed the order for Shoe ID 10 for you, John Doe. The order has been processed and recorded in our system. Please let me know if you need anything else!\n"
     ]
    },
    {
     "name": "stdout",
     "output_type": "stream",
     "text": [
      "CPU times: user 21.7 ms, sys: 76 µs, total: 21.8 ms\n",
      "Wall time: 6.15 s\n"
     ]
    }
   ],
   "source": [
    "%%time\n",
    "# Follow-up question - turn 3\n",
    "print(f\"Session ID :: {session_id}\")\n",
    "enable_trace:bool = True\n",
    "end_session:bool = False\n",
    "\n",
    "# Replace this with a prompt relevant to your agent\n",
    "input_text:str = \"Place order for shoe ID 10\" \n",
    "\n",
    "final_answer = invoke_agent_generate_response(bedrock_agent_runtime_client,\n",
    "                                               input_text, \n",
    "                                               agent_id, \n",
    "                                               agent_alias_id, \n",
    "                                               session_id, \n",
    "                                               enable_trace,\n",
    "                                               end_session,\n",
    "                                               trace_filename_prefix = 'lab2a_agent_trace',\n",
    "                                               turn_number = 3)"
   ]
  },
  {
   "cell_type": "code",
   "execution_count": 34,
   "metadata": {
    "tags": []
   },
   "outputs": [
    {
     "data": {
      "text/html": [
       "<table border=\"1\" class=\"dataframe\">\n",
       "  <thead>\n",
       "    <tr style=\"text-align: right;\">\n",
       "      <th></th>\n",
       "      <th>User Question</th>\n",
       "      <th>Agent Answer</th>\n",
       "    </tr>\n",
       "  </thead>\n",
       "  <tbody>\n",
       "    <tr>\n",
       "      <th>0</th>\n",
       "      <td>Place order for shoe ID 10</td>\n",
       "      <td>I have placed the order for Shoe ID 10 for you, John Doe. The order has been processed and recorded in our system. Please let me know if you need anything else!</td>\n",
       "    </tr>\n",
       "  </tbody>\n",
       "</table>"
      ],
      "text/plain": [
       "<IPython.core.display.HTML object>"
      ]
     },
     "metadata": {},
     "output_type": "display_data"
    }
   ],
   "source": [
    "# Print the final response for turn-3\n",
    "format_final_response(question=input_text, final_answer=final_answer, lab_number=\"2a\", turn_number=\"3\", gen_sql=False)"
   ]
  },
  {
   "cell_type": "code",
   "execution_count": 35,
   "metadata": {
    "tags": []
   },
   "outputs": [
    {
     "name": "stdout",
     "output_type": "stream",
     "text": [
      "The autoreload extension is already loaded. To reload it, use:\n",
      "  %reload_ext autoreload\n",
      "trace_filename_prefix = lab2a_agent_trace and turn_number = 3\n"
     ]
    },
    {
     "data": {
      "application/vnd.jupyter.widget-view+json": {
       "model_id": "3bde756b04014411b6b3cb745e876431",
       "version_major": 2,
       "version_minor": 0
      },
      "text/plain": [
       "ToggleButtons(button_style='success', description='Agent Trace: (Last Logged trace only) Full trace available …"
      ]
     },
     "metadata": {},
     "output_type": "display_data"
    },
    {
     "data": {
      "application/vnd.jupyter.widget-view+json": {
       "model_id": "ee0e0bdf59b34c72b144ae72695c7af9",
       "version_major": 2,
       "version_minor": 0
      },
      "text/plain": [
       "Output(layout=Layout(border_bottom='1px solid black', border_left='1px solid black', border_right='1px solid b…"
      ]
     },
     "metadata": {},
     "output_type": "display_data"
    }
   ],
   "source": [
    "# Deep dive into Agent-workflow steps in each of the tab\n",
    "%load_ext autoreload\n",
    "%autoreload 2\n",
    "from mlu_utils.show_trace_widget import *\n",
    "\n",
    "show_tabs(trace_filename_prefix = 'lab2a_agent_trace', turn_number = 3)\n",
    "display(out_2a_tabs_3)"
   ]
  },
  {
   "cell_type": "code",
   "execution_count": 36,
   "metadata": {},
   "outputs": [],
   "source": [
    "# Wait for tab output async processes to complete\n",
    "time.sleep(10)"
   ]
  },
  {
   "cell_type": "code",
   "execution_count": 37,
   "metadata": {
    "tags": []
   },
   "outputs": [
    {
     "name": "stdout",
     "output_type": "stream",
     "text": [
      ">>>>>>>> complete_log_path to summarize==> trace_files/full_trace_lab2a_agent_trace_3.log\n",
      "CPU times: user 13.2 ms, sys: 160 µs, total: 13.4 ms\n",
      "Wall time: 3.52 s\n"
     ]
    }
   ],
   "source": [
    "%%time\n",
    "# Using Claude-v3 Haiku to generate a summary of the agent's workflow for this conversation turn\n",
    "turn_3_summary = summarize_agent_trace(trace_file_base_path= \"trace_files/\", lab_number=\"2a\", turn_number=\"3\")\n",
    "with out_2a_turn_3_summary:\n",
    "    out_2a_turn_3_summary.clear_output()\n",
    "    display(Markdown(turn_3_summary))\n"
   ]
  },
  {
   "cell_type": "code",
   "execution_count": 38,
   "metadata": {},
   "outputs": [
    {
     "data": {
      "application/vnd.jupyter.widget-view+json": {
       "model_id": "9a3c046a4c2243bc968b56ce6f39d689",
       "version_major": 2,
       "version_minor": 0
      },
      "text/plain": [
       "Output(layout=Layout(border_bottom='1px solid black', border_left='1px solid black', border_right='1px solid b…"
      ]
     },
     "metadata": {},
     "output_type": "display_data"
    },
    {
     "name": "stdout",
     "output_type": "stream",
     "text": [
      "CPU times: user 2.51 ms, sys: 0 ns, total: 2.51 ms\n",
      "Wall time: 2.75 ms\n"
     ]
    }
   ],
   "source": [
    "%%time\n",
    "## Display the summary of the agent workflow trace\n",
    "display(out_2a_turn_3_summary)"
   ]
  },
  {
   "cell_type": "markdown",
   "metadata": {},
   "source": [
    "### <a name=\"9\">[Be Frugal] Clean up resources </a>\n",
    "(<a href=\"#0\">Go to top</a>)\n"
   ]
  },
  {
   "cell_type": "markdown",
   "metadata": {},
   "source": [
    "##### In the following cell, we keep an option to raise an exception to avoid auto-executing the next block of lines and optionally cleanup all resources. This is useful when the `Kernel > run all` option is used.\n",
    "\n",
    "`Please be frugal if you choose to enable this exception in the code cell below. By default it is disabled and all resources will be cleaned up immediately to avoid additional costs.`\n",
    "\n",
    "##### Within the same kernel session, this will allow experimentation with different prompts without having to recreate agent resources (takes ~5 minutes)"
   ]
  },
  {
   "cell_type": "code",
   "execution_count": 39,
   "metadata": {
    "tags": []
   },
   "outputs": [
    {
     "ename": "SyntaxError",
     "evalue": "invalid syntax (3470409141.py, line 2)",
     "output_type": "error",
     "traceback": [
      "\u001b[0;36m  Cell \u001b[0;32mIn[39], line 2\u001b[0;36m\u001b[0m\n\u001b[0;31m    Raise Exception('Avoiding Auto-Cleanup of Bedrock Agent Resources')\u001b[0m\n\u001b[0m          ^\u001b[0m\n\u001b[0;31mSyntaxError\u001b[0m\u001b[0;31m:\u001b[0m invalid syntax\n"
     ]
    }
   ],
   "source": [
    "# This avoids auto-cleanup\n",
    "Raise Exception('Avoiding Auto-Cleanup of Bedrock Agent Resources')\n"
   ]
  },
  {
   "cell_type": "code",
   "execution_count": null,
   "metadata": {},
   "outputs": [],
   "source": [
    "cleanup_infrastructure(agent_action_group_response, lambda_name, lambda_function, lambda_role_name, agent_id, agent_alias_id, agent_role_name, bucket_name, schema_key, agent_bedrock_policy, agent_s3_schema_policy)"
   ]
  },
  {
   "cell_type": "markdown",
   "metadata": {},
   "source": [
    "### <a name=\"10\">Challenge Exercise and Lab Quiz </a>\n",
    "(<a href=\"#0\">Go to top</a>)"
   ]
  },
  {
   "cell_type": "markdown",
   "metadata": {},
   "source": [
    "### Challenge Exercise \n",
    "\n",
    "<div style=\"border: 4px solid coral; text-align: center; margin: auto;\">\n",
    "    <h2><i>Try it Yourself!</i></h2>\n",
    "    <br>\n",
    "    <p style=\"text-align:center;margin:auto;\"><img src=\"./images/challenge.png\" alt=\"Challenge\" width=\"100\" /> </p>\n",
    "    <p style=\" text-align: center; margin: auto;\">Try the following exercise to harness the power of bedrock agents uptil now:</p>\n",
    "    <br>\n",
    "</div>\n",
    "\n",
    "\n",
    "- Try a new set of conversations/prompts to buy another pair of shoes for the same customer and list inventory\n",
    "- Try adding more customer information in the customer retail SQLite DB like maybe your name and preference of shoes and use that in your prompts"
   ]
  },
  {
   "cell_type": "markdown",
   "metadata": {
    "tags": []
   },
   "source": [
    "---\n",
    "\n",
    "### Lab Quiz\n",
    "\n",
    "Well done on completing the lab! Now, it's time for a brief knowledge assessment.\n",
    "\n",
    "<div style=\"border: 4px solid coral; text-align: center; margin: auto;\">\n",
    "    <h2><i>Try it Yourself!</i></h2>\n",
    "    <br>\n",
    "    <p style=\"text-align:center;margin:auto;\"><img src=\"./images/activity.png\" alt=\"Challenge\" width=\"100\" /> </p>\n",
    "    <p style=\" text-align: center; margin: auto;\">Answer the following questions to test your understanding of bedrock agents uptil now.</p>\n",
    "    <br>\n",
    "</div>\n"
   ]
  },
  {
   "cell_type": "code",
   "execution_count": null,
   "metadata": {
    "tags": []
   },
   "outputs": [],
   "source": [
    "from mlu_utils.agents_quiz import *\n",
    "\n",
    "lab2a_question1"
   ]
  },
  {
   "cell_type": "code",
   "execution_count": null,
   "metadata": {
    "tags": []
   },
   "outputs": [],
   "source": [
    "lab2a_question2"
   ]
  },
  {
   "cell_type": "code",
   "execution_count": null,
   "metadata": {},
   "outputs": [],
   "source": []
  }
 ],
 "metadata": {
  "kernelspec": {
   "display_name": "conda_python3",
   "language": "python",
   "name": "conda_python3"
  },
  "language_info": {
   "codemirror_mode": {
    "name": "ipython",
    "version": 3
   },
   "file_extension": ".py",
   "mimetype": "text/x-python",
   "name": "python",
   "nbconvert_exporter": "python",
   "pygments_lexer": "ipython3",
   "version": "3.10.14"
  }
 },
 "nbformat": 4,
 "nbformat_minor": 4
}
