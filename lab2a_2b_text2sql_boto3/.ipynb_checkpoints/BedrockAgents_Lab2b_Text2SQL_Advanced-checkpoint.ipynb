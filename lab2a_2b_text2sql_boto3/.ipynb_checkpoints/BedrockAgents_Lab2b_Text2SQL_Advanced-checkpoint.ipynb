{
 "cells": [
  {
   "cell_type": "markdown",
   "id": "98851f24-a2f5-42c6-8435-219764f5af33",
   "metadata": {},
   "source": [
    "<center><img src=\"images/MLU-NEW-logo.png\" alt=\"drawing\" width=\"400\" style=\"background-color:white; padding:1em;\" /></center> <br/>\n",
    "\n",
    "# <a name=\"0\">Bedrock Agents and Knowledge Bases with Boto3 SDK </a>\n",
    "## <a name=\"0\">Module 2, Lab 2b: Text to SQL (Advanced) - with Knowledge Bases using Semantic Retrieval </a>\n",
    "\n",
    "## Lab Overview\n",
    "\n",
    "In this lab, we will generate SQL from text but unlike in Lab 2a, this time use LLMs to generate SQL from text using a SQlite database schema as the knowledge base. The agent then invokes the appropriate Lambda API to execute this generated SQL statement against a SQlite database.\n",
    "\n",
    "##### Notebook Kernel\n",
    "Please choose `conda_python3` as the kernel type of the top right corner of the notebook if that does not appear by default.\n",
    "\n",
    "<div style=\"border: 4px solid coral; text-align: left; margin: auto; padding-left: 20px; padding-right: 20px\">\n",
    "    <h4>This lab auto-cleans up resources to be frugal. </h4>\n",
    "    You can visit this section (<a href=\"#10\"> Clean-up Resources</a>) to change the setting if you need to experiment with prompts and settings. Please run clean-up resources after you are done with experiments. <br/>\n",
    "</div>\n",
    "<br/>\n",
    "\n",
    "## LLM Used\n",
    "Anthropic Claude 3 Sonnet\n",
    "\n",
    "## Use-Case Overview\n",
    "In this lab, we convert natural language text to SQL and execute it against the database to return the results. This enables non-tech and tech workers to easily collect results for their reports with simple, natural language-based query.\n",
    "\n",
    "We use the Lambda function to only execute LLM-generated SQL statements against an in-memory SQLite database. Unlike lab 2a, where each lambda API implementation has a specific SQL query associated with it, in this lab it is up to the LLM to generate the SQL from natural language understanding, few-shot examples and a database schema as a Knowledge Base.\n",
    "\n",
    "Without the knowledge base of the database schema and RAG, the SQL queries generated will have column names and table names that will never be the same as the database schema, therefore it will almost always never be syntactically correct to execute against a database.\n",
    "\n",
    "\n",
    "It demonstrates how to:\n",
    "1. Select the underlying foundation model (FM) for your agent \n",
    "2. Provide a clear and concise agent instruction \n",
    "3. Create and associate an action group with an API schema and a Lambda function \n",
    "4. Create and associate a knowledge base with the agent\n",
    "5. Create, invoke, test, and deploy the agent\n",
    "6. Demonstrate how to generate the SQL from natural language understanding via LLMs, few shot examples, and a database schema as a knowledge base\n",
    "7. Clean up resources (Be Frugal)\n",
    "\n",
    "\n",
    "We are using the Retrieval Augmented Generation (RAG) technique with Amazon Bedrock. A RAG implementation consists of two parts:\n",
    "\n",
    "    1. A data pipeline that ingests that from documents (typically stored in Amazon S3) into a Knowledge Base i.e. a vector database such as Amazon OpenSearch Service Serverless (AOSS) so that it is available for lookup when a question is received.\n",
    "\n",
    "    2. An application that receives a question from the user, looks up the knowledge base for relevant pieces of information (context) and then creates a prompt that includes the question and the context and provides it to an LLM for generating a response.\n",
    "\n",
    "The data pipeline represents an undifferentiated heavy lifting and can be implemented using Amazon Bedrock Agents for Knowledge Base. We can now connect an S3 bucket to a vector database such as AOSS and have a Bedrock agent read the objects (html, pdf, text etc.), chunk them, and then convert these chunks into embeddings using Amazon Titan Embeddings model and then store these embeddings in AOSS. All of this without having to build, deploy, and manage the data pipeline.\n",
    "\n",
    "#### Amazon Titan Embeddings Overview\n",
    "Amazon Titan Embeddings is a text embeddings model that converts natural language text including single words, phrases, or even large documents, into numerical representations that can be used to power use cases such as search, personalization, and clustering based on semantic similarity. Optimized for text retrieval to enable retrieval augmented generation (RAG) use cases, Amazon Titan Embeddings, enables you to first convert your text data into numerical representations or vectors and then use those vectors to accurately search for relevant passages from a vector database, allowing you to make the most of your proprietary data in combination with other foundation models (FMs).\n",
    "\n",
    "\n",
    "\n",
    "Once the data is available in the Bedrock knowledge base, then user questions can be answered using the following system design:\n",
    "\n",
    "<center><img src=\"images/bedrock-agents-kb.png\" alt=\"This image shows the retrieval augmented generation (RAG) system design setup with knowledge bases, S3, and AOSS. Knowledge corpus is ingested into a vector database using Amazon Bedrock Knowledge Base Agent and then RAG approach is used to work question answering. The question is converted into embeddings followed by semantic similarity search to get similar documents. With the user prompt being augmented with the RAG search response, the LLM is invoked to get the final raw response for the user.\" height=\"700\" width=\"700\" style=\"background-color:white; padding:1em;\" /></center> <br/>\n",
    "\n",
    "\n",
    "#### Lab Use-Case diagram for this lab \n",
    "\n",
    "<center><img src=\"images/lab2b-agents.png\" alt=\"This image shows how to use an LLM to generate SQL from text via database schema description, then invoke the appropriate Lambda API which executes this LLM generated SQL statement to execute against a SQLlite database to return the SQL output to the user.\" height=\"700\" width=\"700\" style=\"background-color:white; padding:1em;\" /></center> <br/>\n",
    "\n",
    "This lab notebook has the following sections:\n",
    "\n",
    "1. <a href=\"#1\">Environment setup and configuration</a>\n",
    "2. <a href=\"#2\">Set up Bedrock for inference</a>\n",
    "3. <a href=\"#3\">Setup prefix variables for various agent resources</a>\n",
    "4. <a href=\"#4\">Create Lambda function for action group </a>\n",
    "5. <a href=\"#5\">Create knowledge base</a>\n",
    "6. <a href=\"#6\">Creating an agent</a>\n",
    "7. <a href=\"#7\">Deploy agent and create agent alias</a>\n",
    "8. <a href=\"#8\">Invoke agent</a>\n",
    "9. <a href=\"#9\">Multi-turn conversations / Session context management</a>\n",
    "10. <a href=\"#10\">Clean up resources</a>\n",
    "11. <a href=\"#11\">Challenge exercise and lab quiz</a>\n",
    "    \n",
    "Please work top to bottom of this notebook and don't skip sections as this could lead to error messages due to missing code.\n",
    "\n",
    "\n",
    "----\n",
    "\n",
    "You will be presented with two kinds of exercises throughout the notebook: activities and challenges. <br/>\n",
    "\n",
    "| <img style=\"float: center;\" src=\"images/activity.png\" alt=\"Activity\" width=\"125\"/>| <img style=\"float: center;\" src=\"images/challenge.png\" alt=\"Challenge\" width=\"125\"/>|\n",
    "| --- | --- |\n",
    "|<p style=\"text-align:center;\"> No coding is needed for an activity. You try to understand a concept, <br/>answer questions, or run a code cell.</p> |<p style=\"text-align:center;\">Challenges are where you can practice your coding skills.</p>"
   ]
  },
  {
   "cell_type": "markdown",
   "id": "8b54de30-fe9e-4b38-943a-330065bfa7ef",
   "metadata": {},
   "source": [
    "\n",
    "Let's start by installing all required packages as specified in the `requirements.txt` file and importing several libraries."
   ]
  },
  {
   "cell_type": "markdown",
   "id": "5463f03b-7f8b-4a95-a7c8-0caa46d6ae4b",
   "metadata": {},
   "source": [
    "\n",
    "## <a name=\"1\">Environment setup and configuration</a>\n",
    "(<a href=\"#0\">Go to top</a>)\n",
    "\n",
    "Before starting, let's import the required packages and configure the support variables:"
   ]
  },
  {
   "cell_type": "code",
   "execution_count": 1,
   "id": "83787e3d-4694-498e-9ecc-7df43bd0cae3",
   "metadata": {
    "tags": []
   },
   "outputs": [],
   "source": [
    "%%capture\n",
    "!pip3 install -r requirements.txt --quiet"
   ]
  },
  {
   "cell_type": "code",
   "execution_count": 2,
   "id": "1b5428e2-37d0-4199-a234-33521ec995ad",
   "metadata": {
    "tags": []
   },
   "outputs": [
    {
     "name": "stderr",
     "output_type": "stream",
     "text": [
      "[2024-06-06 16:50:52,709] p30155 {credentials.py:1075} INFO - Found credentials from IAM Role: BaseNotebookInstanceEc2InstanceRole\n"
     ]
    }
   ],
   "source": [
    "import logging\n",
    "import boto3\n",
    "import random\n",
    "import time\n",
    "import zipfile\n",
    "from io import BytesIO\n",
    "import json\n",
    "import uuid\n",
    "import pprint\n",
    "import os\n",
    "from opensearchpy import OpenSearch, RequestsHttpConnection\n",
    "from requests_aws4auth import AWS4Auth\n",
    "from IPython.display import Markdown\n",
    "\n",
    "from mlu_utils.agents_utils import *\n",
    "from mlu_utils.agents_infra_utils_one_kb_setup import *\n",
    "from mlu_utils.summarize_agent_trace import *\n",
    "from mlu_utils.show_trace_widget import *"
   ]
  },
  {
   "cell_type": "code",
   "execution_count": 3,
   "id": "ea10158d-adb7-463e-ae3e-df72da6e850b",
   "metadata": {
    "tags": []
   },
   "outputs": [],
   "source": [
    "# setting logger\n",
    "logging.basicConfig(format='[%(asctime)s] p%(process)s {%(filename)s:%(lineno)d} %(levelname)s - %(message)s', level=logging.INFO)\n",
    "logger = logging.getLogger(__name__)\n",
    "\n",
    "pp = pprint.PrettyPrinter(width=41, compact=True)"
   ]
  },
  {
   "cell_type": "code",
   "execution_count": 4,
   "id": "cc24e323-eac7-4ad5-bcc4-2b4659d282b1",
   "metadata": {
    "tags": []
   },
   "outputs": [],
   "source": [
    "import ipywidgets as widgets\n",
    "from IPython.display import JSON\n",
    "out_2b_tabs_1 = widgets.Output(layout=widgets.Layout(border = '1px solid black', width = '100%',))\n",
    "out_2b_summary = widgets.Output(layout=widgets.Layout(border = '1px solid black', width = '100%',))\n"
   ]
  },
  {
   "cell_type": "code",
   "execution_count": 5,
   "id": "a4a83780-07e5-48ba-9bea-a20598ee58eb",
   "metadata": {},
   "outputs": [],
   "source": [
    "#clean_up_trace_files(\"./trace_files/\")"
   ]
  },
  {
   "cell_type": "markdown",
   "id": "2b84a1f4-9ecb-4e03-a252-7f6fe7832763",
   "metadata": {},
   "source": [
    "### <a name=\"2\">2. Set up Bedrock for inference</a>\n",
    "(<a href=\"#0\">Go to top</a>)\n",
    "\n",
    "To get started, set up Bedrock and instantiate an active `bedrock-runtime` to query LLMs. The code below leverages [LangChain's Bedrock integration](https://python.langchain.com/docs/integrations/llms/bedrock).\n",
    "```\n",
    "bedrock_agent_client = boto3.client('bedrock-agent')\n",
    "bedrock_agent_runtime_client = boto3.client('bedrock-agent-runtime')\n",
    "\n",
    "```\n",
    "<div style=\"border: 4px solid coral; text-align: left; margin: auto; padding-left: 20px; padding-right: 20px\">\n",
    "    <h4>A note on Bedrock API invocation</h4>\n",
    "\n",
    "Amazon Bedrock is generally available for all AWS customers. The provided lab for this course currently invokes Bedrock's external endpoint, which has access to Anthropic and AI21 models.\n",
    "\n",
    "For training and learning purposes, Amazon Bedrock is also available through an internal endpoint that allows accessing Amazon's Titan models. To use that instead, please follow the instructions in the <a href=\"https://w.amazon.com/bin/view/AmazonBedrock/Products/GetStarted/\">Amazon Bedrock Get Started wiki page</a>.\n",
    "</div>\n",
    "</br>"
   ]
  },
  {
   "cell_type": "code",
   "execution_count": 6,
   "id": "be67a917-11f8-43a0-a8d5-1b379ec77119",
   "metadata": {
    "tags": []
   },
   "outputs": [
    {
     "data": {
      "text/plain": [
       "('us-east-1', '381492259435')"
      ]
     },
     "execution_count": 6,
     "metadata": {},
     "output_type": "execute_result"
    }
   ],
   "source": [
    "# getting boto3 clients for required AWS services\n",
    "sts_client = boto3.client('sts')\n",
    "iam_client = boto3.client('iam')\n",
    "s3_client = boto3.client('s3')\n",
    "lambda_client = boto3.client('lambda')\n",
    "\n",
    "bedrock_agent_client = boto3.client('bedrock-agent')\n",
    "bedrock_agent_runtime_client = boto3.client('bedrock-agent-runtime')\n",
    "open_search_serverless_client = boto3.client('opensearchserverless')\n",
    "\n",
    "session = boto3.session.Session()\n",
    "region = session.region_name\n",
    "account_id = sts_client.get_caller_identity()[\"Account\"]\n",
    "region, account_id"
   ]
  },
  {
   "cell_type": "code",
   "execution_count": 7,
   "id": "8951e498-1ae7-431d-b58d-914d6d0979fe",
   "metadata": {},
   "outputs": [],
   "source": [
    "import ipywidgets as widgets\n",
    "from IPython.display import JSON\n",
    "out = widgets.Output(layout=widgets.Layout(border = '1px solid black', width = '100%',))\n"
   ]
  },
  {
   "cell_type": "code",
   "execution_count": 8,
   "id": "f9f00d84-8fc0-4aaf-8438-731a17e9bb19",
   "metadata": {},
   "outputs": [],
   "source": [
    "# action on tab click for agent trace\n",
    "\n",
    "def click_button(obj):\n",
    "    with out:\n",
    "        out.clear_output()\n",
    "        logger.info(f'Expand JSON elements (if available) in {obj.new}')\n",
    "        if obj.new == \"Pre-Processing\":\n",
    "             with open(\"trace_files/preProcessingTrace_\" + trace_filename_prefix + \"_\" + str(turn_number) + \".log\", \"r\") as agent_trace_fp:\n",
    "                display(JSON(agent_trace_fp.read()))\n",
    "        elif obj.new == \"Orchestration\":\n",
    "             with open(\"trace_files/orchestrationTrace_\" + trace_filename_prefix + \"_\" + str(turn_number) + \".log\", \"r\") as agent_trace_fp:\n",
    "                display(JSON(agent_trace_fp.read()))\n",
    "        elif obj.new == \"Knowledge-Base\":\n",
    "             with open(\"trace_files/knowledgeBaseLookupOutput_\" + trace_filename_prefix + \"_\" + str(turn_number) + \".log\", \"r\") as agent_trace_fp:\n",
    "                display(JSON(agent_trace_fp.read()))\n",
    "        elif obj.new == \"Post-Processing\":\n",
    "             with open(\"trace_files/postProcessingTrace_\" + trace_filename_prefix + \"_\" + str(turn_number) + \".log\", \"r\") as agent_trace_fp:\n",
    "                display(JSON(agent_trace_fp.read()))\n"
   ]
  },
  {
   "cell_type": "markdown",
   "id": "4ec89861-d8dc-4bef-b4f6-f07a6ff49a2b",
   "metadata": {},
   "source": [
    "### <a name=\"3\">3. Setup prefix variables for various agent resources</a>\n",
    "(<a href=\"#0\">Go to top</a>)\n",
    "\n",
    "\n",
    "This is the same set of instructions for infrastructure setup as provided in Lab 2a and includes:\n",
    "- Setup for prefix variables with various agent resources\n",
    "- Create Lambda function for action group\n",
    "- Create Knowledge Base 1 for SQL generation with Northwind Database\n",
    "- Create Knowledge Base 2 for system design recommendation with AWS Well-architected framework\n",
    "- Creating an agent\n"
   ]
  },
  {
   "cell_type": "code",
   "execution_count": 9,
   "id": "58b67872-2702-415b-aba9-3218b1ce884f",
   "metadata": {
    "tags": []
   },
   "outputs": [
    {
     "name": "stderr",
     "output_type": "stream",
     "text": [
      "[2024-06-06 16:50:53,861] p30155 {agents_infra_utils_one_kb_setup.py:54} INFO - random_uuid :: fa93c58b-9093-4a38-b324-5771487bc8ab prefix_infra :: l2fa93c5 prefix_iam :: l29093\n"
     ]
    },
    {
     "name": "stdout",
     "output_type": "stream",
     "text": [
      "Creating collection...\n"
     ]
    },
    {
     "name": "stderr",
     "output_type": "stream",
     "text": [
      "[2024-06-06 16:51:56,514] p30155 {credentials.py:1075} INFO - Found credentials from IAM Role: BaseNotebookInstanceEc2InstanceRole\n"
     ]
    },
    {
     "name": "stdout",
     "output_type": "stream",
     "text": [
      "\n",
      "Collection successfully created:\n"
     ]
    },
    {
     "name": "stderr",
     "output_type": "stream",
     "text": [
      "[2024-06-06 16:52:42,045] p30155 {base.py:258} INFO - PUT https://jsgphtmel6fohglecoh9.us-east-1.aoss.amazonaws.com:443/bedrock-knowledge-base-l2fa93c5-kbdb-index [status:200 request:0.487s]\n",
      "[2024-06-06 16:52:42,047] p30155 {agents_infra_utils_one_kb_setup.py:524} INFO - response :: {'acknowledged': True, 'shards_acknowledged': True, 'index': 'bedrock-knowledge-base-l2fa93c5-kbdb-index'} \n"
     ]
    },
    {
     "name": "stdout",
     "output_type": "stream",
     "text": [
      "\n",
      "Creating index:\n"
     ]
    },
    {
     "name": "stderr",
     "output_type": "stream",
     "text": [
      "[2024-06-06 16:55:09,060] p30155 {agents_infra_utils_one_kb_setup.py:753} INFO - agent_name :: l2fa93c5-agent-kb \n",
      " agent_alias_name :: l2fa93c5-workshop-alias \n",
      " bucket_name :: l2fa93c5-agent-kb-381492259435 \n",
      " schema_key :: l2fa93c5-agent-kb-schema.json \n",
      " knowledge_base_db_id :: T7DF5IA0UX \n"
     ]
    },
    {
     "name": "stdout",
     "output_type": "stream",
     "text": [
      "CPU times: user 414 ms, sys: 121 ms, total: 535 ms\n",
      "Wall time: 4min 15s\n"
     ]
    }
   ],
   "source": [
    "%%time\n",
    "infra_response = setup_agent_infrastructure(schema_filename='sql_gen_agent_openapi_schema_with_kb.json', \n",
    "                                            kb_db_file_uri='kb_sqlgen', \n",
    "                                            lambda_code_uri='lambda_function_sql_gen.py')\n",
    "\n",
    "\n"
   ]
  },
  {
   "cell_type": "code",
   "execution_count": 10,
   "id": "ce57f567-607a-4dd2-b9de-014eddf6dafb",
   "metadata": {},
   "outputs": [],
   "source": [
    "agent_name = infra_response[\"agent_name\"]\n",
    "agent_alias_name = infra_response[\"agent_alias_name\"]\n",
    "agent_role = infra_response[\"agent_role\"]\n",
    "bucket_name = infra_response[\"bucket_name\"]\n",
    "schema_key = infra_response[\"schema_key\"]\n",
    "knowledge_base_db_id = infra_response[\"knowledge_base_db_id\"]\n",
    "lambda_name = infra_response[\"lambda_name\"]\n",
    "lambda_function = infra_response[\"lambda_function\"]\n",
    "agent_bedrock_policy = infra_response[\"agent_bedrock_policy\"]\n",
    "agent_s3_schema_policy = infra_response[\"agent_s3_schema_policy\"]\n",
    "agent_role_name = infra_response[\"agent_role_name\"]\n",
    "lambda_role_name = infra_response[\"lambda_role_name\"]\n",
    "kb_db_collection_name = infra_response[\"kb_db_collection_name\"]\n",
    "kb_db_bedrock_policy = infra_response[\"kb_db_bedrock_policy\"]\n",
    "kb_db_aoss_policy = infra_response[\"kb_db_aoss_policy\"]\n",
    "kb_db_s3_policy = infra_response[\"kb_db_s3_policy\"]\n",
    "agent_kb_schema_policy = infra_response[\"agent_kb_schema_policy\"]\n",
    "kb_db_role_name = infra_response[\"kb_db_role_name\"]\n",
    "kb_db_opensearch_collection_response = infra_response[\"kb_db_opensearch_collection_response\"]"
   ]
  },
  {
   "cell_type": "markdown",
   "id": "96b86215-bc3d-47f6-a98c-6f96c513d886",
   "metadata": {},
   "source": [
    "#### Creating agent\n",
    "Once the needed IAM role is created, we can use the Bedrock agent client to create a new agent. To do so we use the `create_agent` function. It requires an agent name, underline foundation model and instruction. You can also provide an agent description. Note that the agent created is not yet prepared. We will focus on preparing the agent and then using it to invoke actions and use other APIs"
   ]
  },
  {
   "cell_type": "code",
   "execution_count": null,
   "id": "015c5c0a-de1c-4388-9f85-c4f9baffd4da",
   "metadata": {},
   "outputs": [],
   "source": []
  },
  {
   "cell_type": "code",
   "execution_count": 11,
   "id": "e1d7c63b-6bc0-4b48-a5c0-2db24fa5a21e",
   "metadata": {
    "tags": []
   },
   "outputs": [],
   "source": [
    "# Create agent\n",
    "agent_instruction = \"\"\"\n",
    "Hello, I am SQL assistant. I can take a natural language question as input, analyze the intent and context, \n",
    "and generate a valid SQLite query using the database schema inside the Knowledge Base  \n",
    "and then execute the query that answers the question based on the [Northwind] dataset.\n",
    "\n",
    "If the Knowledge Base search function result did not contain enough information to construct a full query \n",
    "try to construct a query to the best of your ability based on the Northwind database schema.\n",
    "\n",
    "Feel free to ask any questions along those lines!\n",
    "Here are a few examples of questions I can help answer by generating and then executing a SQLite query:\n",
    "\n",
    "- What are the total sales amounts by year?\n",
    "\n",
    "- What are the top 5 most expensive products? \n",
    "\n",
    "- What is the total revenue for each employee?\n",
    "\n",
    "\n",
    "\"\"\"\n",
    "# anthropic.claude-3-sonnet-20240229-v1:0\n",
    "# anthropic.claude-v2\n",
    "\n",
    "response = bedrock_agent_client.create_agent(\n",
    "    agentName=agent_name,\n",
    "    agentResourceRoleArn=agent_role['Role']['Arn'],\n",
    "    description=\"Generate and Run SQL queries.\",\n",
    "    idleSessionTTLInSeconds=1800,\n",
    "    foundationModel=\"anthropic.claude-v2\",\n",
    "    instruction=agent_instruction,\n",
    ")"
   ]
  },
  {
   "cell_type": "markdown",
   "id": "aa89ac0d-b1af-4efa-bbb8-59a8f486a622",
   "metadata": {},
   "source": [
    "Looking at the created agent, we can see its status and agent id"
   ]
  },
  {
   "cell_type": "markdown",
   "id": "780ce247-ff4c-4ecf-8558-222581d2ea52",
   "metadata": {},
   "source": [
    "Let's now store the agent id in a local variable to use it on the next steps"
   ]
  },
  {
   "cell_type": "code",
   "execution_count": 12,
   "id": "4d2bf0ea-5c5c-4afc-9b4d-19158b48bb50",
   "metadata": {
    "tags": []
   },
   "outputs": [
    {
     "data": {
      "text/plain": [
       "'KLJAOTBFRO'"
      ]
     },
     "execution_count": 12,
     "metadata": {},
     "output_type": "execute_result"
    }
   ],
   "source": [
    "agent_id = response['agent']['agentId']\n",
    "agent_id"
   ]
  },
  {
   "cell_type": "markdown",
   "id": "32158234-b474-4bfa-8efd-afe5aa087df8",
   "metadata": {},
   "source": [
    "### Create agent action group\n",
    "We will now create an agent action group that uses the Lambda function and API schema files created before.\n",
    "The `create_agent_action_group` function provides this functionality. We will use `DRAFT` as the agent version since we haven't yet created an agent version or alias. To inform the agent about the action group functionalities, we will provide an action group description containing the functionalities of the action group."
   ]
  },
  {
   "cell_type": "code",
   "execution_count": 13,
   "id": "2b8ef041-3273-44c4-93ef-8a4a28987c0d",
   "metadata": {
    "tags": []
   },
   "outputs": [
    {
     "data": {
      "text/plain": [
       "('l2fa93c5-agent-kb-381492259435', 'l2fa93c5-agent-kb-schema.json')"
      ]
     },
     "execution_count": 13,
     "metadata": {},
     "output_type": "execute_result"
    }
   ],
   "source": [
    "bucket_name, schema_key"
   ]
  },
  {
   "cell_type": "code",
   "execution_count": 14,
   "id": "ca4dd6c1-5151-4846-ac75-e8b23e299a90",
   "metadata": {
    "tags": []
   },
   "outputs": [],
   "source": [
    "# Pause to make sure agent is created\n",
    "time.sleep(30)\n",
    "# Now, we can configure and create an action group here:\n",
    "agent_action_group_response = bedrock_agent_client.create_agent_action_group(\n",
    "    agentId=agent_id,\n",
    "    agentVersion='DRAFT',\n",
    "    actionGroupExecutor={\n",
    "        'lambda': lambda_function['FunctionArn']\n",
    "    },\n",
    "    actionGroupName='SqlQueryManagementActionGroup',\n",
    "    apiSchema={\n",
    "        's3': {\n",
    "            's3BucketName': bucket_name,\n",
    "            's3ObjectKey': schema_key\n",
    "        }\n",
    "    },\n",
    "    description='Actions for executing a valid SQLite query that answers the question based on the Northwind database'\n",
    ")"
   ]
  },
  {
   "cell_type": "code",
   "execution_count": 15,
   "id": "74945f90-4777-40da-bc5e-ca0b31fdbb6b",
   "metadata": {
    "tags": []
   },
   "outputs": [
    {
     "data": {
      "text/plain": [
       "{'ResponseMetadata': {'RequestId': '49ffac6d-e5f5-42d7-8929-71c362d969a7',\n",
       "  'HTTPStatusCode': 200,\n",
       "  'HTTPHeaders': {'date': 'Thu, 06 Jun 2024 16:55:40 GMT',\n",
       "   'content-type': 'application/json',\n",
       "   'content-length': '611',\n",
       "   'connection': 'keep-alive',\n",
       "   'x-amzn-requestid': '49ffac6d-e5f5-42d7-8929-71c362d969a7',\n",
       "   'x-amz-apigw-id': 'Y9GB1GzgIAMEO4w=',\n",
       "   'x-amzn-trace-id': 'Root=1-6661ea0b-5205cc814a9b17583603b855'},\n",
       "  'RetryAttempts': 0},\n",
       " 'agentActionGroup': {'actionGroupExecutor': {'lambda': 'arn:aws:lambda:us-east-1:381492259435:function:l2fa93c5-agent-kb-381492259435'},\n",
       "  'actionGroupId': 'DZEFSHPWKT',\n",
       "  'actionGroupName': 'SqlQueryManagementActionGroup',\n",
       "  'actionGroupState': 'ENABLED',\n",
       "  'agentId': 'KLJAOTBFRO',\n",
       "  'agentVersion': 'DRAFT',\n",
       "  'apiSchema': {'s3': {'s3BucketName': 'l2fa93c5-agent-kb-381492259435',\n",
       "    's3ObjectKey': 'l2fa93c5-agent-kb-schema.json'}},\n",
       "  'createdAt': datetime.datetime(2024, 6, 6, 16, 55, 39, 990389, tzinfo=tzlocal()),\n",
       "  'description': 'Actions for executing a valid SQLite query that answers the question based on the Northwind database',\n",
       "  'updatedAt': datetime.datetime(2024, 6, 6, 16, 55, 39, 990389, tzinfo=tzlocal())}}"
      ]
     },
     "execution_count": 15,
     "metadata": {},
     "output_type": "execute_result"
    }
   ],
   "source": [
    "agent_action_group_response"
   ]
  },
  {
   "cell_type": "markdown",
   "id": "04586a08-764b-499a-a52a-5b199b061890",
   "metadata": {},
   "source": [
    "### Allowing agent to invoke action group Lambda\n",
    "Before using our action group, we need to allow our agent to invoke the Lambda function associated to the action group. This is done via resource-based policy. Let's add the resource-based policy to the lambda function created:"
   ]
  },
  {
   "cell_type": "code",
   "execution_count": 16,
   "id": "33555ead-bc3c-420b-b0fd-ee644863ce57",
   "metadata": {
    "tags": []
   },
   "outputs": [],
   "source": [
    "# Create allow invoke permission on lambda\n",
    "response = lambda_client.add_permission(\n",
    "    FunctionName=lambda_name,\n",
    "    StatementId='allow_bedrock',\n",
    "    Action='lambda:InvokeFunction',\n",
    "    Principal='bedrock.amazonaws.com',\n",
    "    SourceArn=f\"arn:aws:bedrock:{region}:{account_id}:agent/{agent_id}\",\n",
    ")"
   ]
  },
  {
   "cell_type": "markdown",
   "id": "7cae86e5-de02-430a-a094-86ae25957998",
   "metadata": {},
   "source": [
    "### Associating the agent to a knowledge base\n"
   ]
  },
  {
   "cell_type": "code",
   "execution_count": 17,
   "id": "951e3c5d-27c7-4a4f-9519-41984559367c",
   "metadata": {
    "tags": []
   },
   "outputs": [],
   "source": [
    "agent_kb_description = bedrock_agent_client.associate_agent_knowledge_base(\n",
    "    agentId=agent_id,\n",
    "    agentVersion='DRAFT',\n",
    "    description=f'Use the information in the {knowledge_base_db_id} Knowledge Base to generate a valid SQLite Query to answer the questions based on the Northwind database',\n",
    "    knowledgeBaseId=knowledge_base_db_id \n",
    ")"
   ]
  },
  {
   "cell_type": "markdown",
   "id": "c449b466-3d92-49e7-aef2-168c8f669c40",
   "metadata": {},
   "source": [
    "### Preparing agent\n",
    "Let's create a DRAFT version of the agent that can be used for internal testing."
   ]
  },
  {
   "cell_type": "code",
   "execution_count": 18,
   "id": "37a8d75d-9661-4b4f-95af-c3ab05e00b75",
   "metadata": {
    "tags": []
   },
   "outputs": [
    {
     "data": {
      "text/plain": [
       "{'ResponseMetadata': {'RequestId': '13ab0a41-8820-4325-baec-f1e321625a7f',\n",
       "  'HTTPStatusCode': 202,\n",
       "  'HTTPHeaders': {'date': 'Thu, 06 Jun 2024 16:55:40 GMT',\n",
       "   'content-type': 'application/json',\n",
       "   'content-length': '119',\n",
       "   'connection': 'keep-alive',\n",
       "   'x-amzn-requestid': '13ab0a41-8820-4325-baec-f1e321625a7f',\n",
       "   'x-amz-apigw-id': 'Y9GB-H3roAMEWRw=',\n",
       "   'x-amzn-trace-id': 'Root=1-6661ea0c-3d1f2a4651d75da565b08e73'},\n",
       "  'RetryAttempts': 0},\n",
       " 'agentId': 'KLJAOTBFRO',\n",
       " 'agentStatus': 'PREPARING',\n",
       " 'agentVersion': 'DRAFT',\n",
       " 'preparedAt': datetime.datetime(2024, 6, 6, 16, 55, 40, 476199, tzinfo=tzlocal())}"
      ]
     },
     "execution_count": 18,
     "metadata": {},
     "output_type": "execute_result"
    }
   ],
   "source": [
    "agent_prepare = bedrock_agent_client.prepare_agent(agentId=agent_id)\n",
    "agent_prepare"
   ]
  },
  {
   "cell_type": "markdown",
   "id": "092dc0d0-3597-4ec2-8959-e1c968c9670b",
   "metadata": {},
   "source": [
    "### <a name=\"5\">Create agent alias to deploy agent</a>\n",
    "(<a href=\"#0\">Go to top</a>)\n",
    "\n",
    "We will now create an alias of the agent that can be used to deploy the agent."
   ]
  },
  {
   "cell_type": "code",
   "execution_count": 19,
   "id": "3f93af07-ac4b-45a0-89b5-7a90929df6f5",
   "metadata": {
    "tags": []
   },
   "outputs": [],
   "source": [
    "# Pause to make sure agent is prepared\n",
    "time.sleep(30)\n",
    "agent_alias = bedrock_agent_client.create_agent_alias(\n",
    "    agentId=agent_id,\n",
    "    agentAliasName=agent_alias_name\n",
    ")\n",
    "# Pause to make sure agent alias is ready\n",
    "time.sleep(30)"
   ]
  },
  {
   "cell_type": "code",
   "execution_count": 20,
   "id": "35de5613-638c-4f04-88e0-6fc9689b5f5d",
   "metadata": {
    "tags": []
   },
   "outputs": [
    {
     "data": {
      "text/plain": [
       "{'ResponseMetadata': {'RequestId': '251ce582-56a7-4237-be5c-c33fcf2c7437',\n",
       "  'HTTPStatusCode': 202,\n",
       "  'HTTPHeaders': {'date': 'Thu, 06 Jun 2024 16:56:10 GMT',\n",
       "   'content-type': 'application/json',\n",
       "   'content-length': '349',\n",
       "   'connection': 'keep-alive',\n",
       "   'x-amzn-requestid': '251ce582-56a7-4237-be5c-c33fcf2c7437',\n",
       "   'x-amz-apigw-id': 'Y9GGsGooIAMEpaw=',\n",
       "   'x-amzn-trace-id': 'Root=1-6661ea2a-707312e2757dc36f728f0a18'},\n",
       "  'RetryAttempts': 0},\n",
       " 'agentAlias': {'agentAliasArn': 'arn:aws:bedrock:us-east-1:381492259435:agent-alias/KLJAOTBFRO/RVTFYXVEDO',\n",
       "  'agentAliasId': 'RVTFYXVEDO',\n",
       "  'agentAliasName': 'l2fa93c5-workshop-alias',\n",
       "  'agentAliasStatus': 'CREATING',\n",
       "  'agentId': 'KLJAOTBFRO',\n",
       "  'createdAt': datetime.datetime(2024, 6, 6, 16, 56, 10, 635007, tzinfo=tzlocal()),\n",
       "  'routingConfiguration': [{}],\n",
       "  'updatedAt': datetime.datetime(2024, 6, 6, 16, 56, 10, 635007, tzinfo=tzlocal())}}"
      ]
     },
     "execution_count": 20,
     "metadata": {},
     "output_type": "execute_result"
    }
   ],
   "source": [
    "agent_alias"
   ]
  },
  {
   "cell_type": "markdown",
   "id": "ada2844c-04fd-4dfc-a87d-0a668afb8f82",
   "metadata": {},
   "source": [
    "### <a name=\"4\">Invoke agent</a>\n",
    "(<a href=\"#0\">Go to top</a>)\n",
    "\n",
    "Now that we've created the agent, let's use the `bedrock-agent-runtime` client to invoke this agent and perform some tasks."
   ]
  },
  {
   "cell_type": "code",
   "execution_count": 21,
   "id": "b773f7db-6135-4050-a2fa-0bb6779c3c80",
   "metadata": {},
   "outputs": [],
   "source": [
    "USER_PROMPT_TEMPLATE = \"\"\"Question: {question}\n",
    "\n",
    "Given an input question, you will use the existing database schemas in the Knowledge Base to create a syntactically correct SQLite query and then you will use the functions and API provided to EXECUTE the SQL Query generated previously to answer the user question. \n",
    "\n",
    "Make sure to use only existing columns and tables based on the database schema. Make sure to wrap table names with square brackets. Make sure to add a semicolon after the end of the SQL statement generated.\n",
    "Remove any backticks and any html tags like <table><th><tr> in the final response.\n",
    "\n",
    "\n",
    "\"\"\""
   ]
  },
  {
   "cell_type": "code",
   "execution_count": 22,
   "id": "74fea95e-4948-4ae1-b4b5-c7e100005409",
   "metadata": {},
   "outputs": [],
   "source": [
    "question = \"What are the total sales amounts by year?\""
   ]
  },
  {
   "cell_type": "code",
   "execution_count": 23,
   "id": "9c871ab3-f371-4087-a959-17edbddf70a0",
   "metadata": {
    "tags": []
   },
   "outputs": [
    {
     "data": {
      "text/plain": [
       "'RVTFYXVEDO'"
      ]
     },
     "execution_count": 23,
     "metadata": {},
     "output_type": "execute_result"
    }
   ],
   "source": [
    "# Extract the agentAliasId from the response\n",
    "agent_alias_id = agent_alias['agentAlias']['agentAliasId']\n",
    "agent_alias_id"
   ]
  },
  {
   "cell_type": "code",
   "execution_count": 24,
   "id": "a9363ef1-42fa-4a21-be89-2d8ee88bf844",
   "metadata": {},
   "outputs": [
    {
     "name": "stdout",
     "output_type": "stream",
     "text": [
      "session_id :::: bef39b7c-2425-11ef-8526-16fff8208ff5\n"
     ]
    },
    {
     "name": "stderr",
     "output_type": "stream",
     "text": [
      "[2024-06-06 16:57:29,508] p30155 {agents_utils.py:87} INFO - Final answer ->\n",
      "Here are the total sales amounts by year:\n",
      "\n",
      "2012 - $18,823,201.72\n",
      "2013 - $38,633,120.01  \n",
      "2014 - $38,870,148.13\n",
      "2015 - $41,423,456.72\n",
      "2016 - $40,568,672.36\n",
      "2017 - $40,209,904.23\n",
      "2018 - $38,326,623.43\n",
      "2019 - $38,516,963.86\n",
      "2020 - $38,862,436.79\n",
      "2021 - $41,355,549.74\n",
      "2022 - $39,742,066.18\n",
      "2023 - $33,054,490.00\n"
     ]
    },
    {
     "name": "stdout",
     "output_type": "stream",
     "text": [
      "CPU times: user 52.2 ms, sys: 7.74 ms, total: 60 ms\n",
      "Wall time: 48.7 s\n"
     ]
    }
   ],
   "source": [
    "%%time\n",
    "\n",
    "session_id:str = str(uuid.uuid1()) # random identifier\n",
    "enable_trace:bool = True\n",
    "end_session:bool = False\n",
    "final_answer = None\n",
    "\n",
    "print(f\"session_id :::: {session_id}\")\n",
    "\n",
    "final_answer = invoke_agent_generate_response(bedrock_agent_runtime_client,\n",
    "                                               USER_PROMPT_TEMPLATE.format(question=question),\n",
    "                                               agent_id, \n",
    "                                               agent_alias_id, \n",
    "                                               session_id, \n",
    "                                               enable_trace,\n",
    "                                               end_session,\n",
    "                                               trace_filename_prefix = 'lab2b_agent_trace',\n",
    "                                               turn_number = 1)"
   ]
  },
  {
   "cell_type": "code",
   "execution_count": 25,
   "id": "72fbe3c9-c32f-44a6-8579-1d432a15036e",
   "metadata": {
    "tags": []
   },
   "outputs": [
    {
     "data": {
      "text/html": [
       "<table border=\"1\" class=\"dataframe\">\n",
       "  <thead>\n",
       "    <tr style=\"text-align: right;\">\n",
       "      <th></th>\n",
       "      <th>User Question</th>\n",
       "      <th>Agent Generated SQL</th>\n",
       "      <th>Agent Answer</th>\n",
       "    </tr>\n",
       "  </thead>\n",
       "  <tbody>\n",
       "    <tr>\n",
       "      <th>0</th>\n",
       "      <td>What are the total sales amounts by year?</td>\n",
       "      <td>SELECT strftime('%Y', [OrderDate]) AS [Year], SUM([Quantity] * [UnitPrice] * (1 - [Discount])) AS TotalSales FROM [Order Details] JOIN Orders ON [Order Details].[OrderID] = [Orders].[OrderID] GROUP BY [Year] ORDER BY [Year]</td>\n",
       "      <td>Here are the total sales amounts by year:<br><br>2012 - \\$18,823,201.72<br>2013 - \\$38,633,120.01  <br>2014 - \\$38,870,148.13<br>2015 - \\$41,423,456.72<br>2016 - \\$40,568,672.36<br>2017 - \\$40,209,904.23<br>2018 - \\$38,326,623.43<br>2019 - \\$38,516,963.86<br>2020 - \\$38,862,436.79<br>2021 - \\$41,355,549.74<br>2022 - \\$39,742,066.18<br>2023 - \\$33,054,490.00</td>\n",
       "    </tr>\n",
       "  </tbody>\n",
       "</table>"
      ],
      "text/plain": [
       "<IPython.core.display.HTML object>"
      ]
     },
     "metadata": {},
     "output_type": "display_data"
    }
   ],
   "source": [
    "# And here is the response if you just want to see agent's reply\n",
    "format_final_response(question=question, final_answer=final_answer, lab_number=\"2b\", turn_number=\"1\", gen_sql=True)"
   ]
  },
  {
   "cell_type": "code",
   "execution_count": 26,
   "id": "e52f48c6-ab12-43fc-852b-adccdae5a40a",
   "metadata": {},
   "outputs": [
    {
     "name": "stdout",
     "output_type": "stream",
     "text": [
      "trace_filename_prefix = lab2b_agent_trace and turn_number = 1\n"
     ]
    },
    {
     "data": {
      "application/vnd.jupyter.widget-view+json": {
       "model_id": "80a56376b54246e499548be7967fe995",
       "version_major": 2,
       "version_minor": 0
      },
      "text/plain": [
       "ToggleButtons(button_style='success', description='Agent Trace: (Last Logged trace only) Full trace available …"
      ]
     },
     "metadata": {},
     "output_type": "display_data"
    },
    {
     "data": {
      "application/vnd.jupyter.widget-view+json": {
       "model_id": "127c0a77c3ca44888e36db6e3190a85d",
       "version_major": 2,
       "version_minor": 0
      },
      "text/plain": [
       "Output(layout=Layout(border_bottom='1px solid black', border_left='1px solid black', border_right='1px solid b…"
      ]
     },
     "metadata": {},
     "output_type": "display_data"
    }
   ],
   "source": [
    "# Deep dive into Agent-workflow steps in each of the tabs\n",
    "%load_ext autoreload\n",
    "%autoreload 2\n",
    "from mlu_utils.show_trace_widget import *\n",
    "\n",
    "show_tabs(trace_filename_prefix = 'lab2b_agent_trace', turn_number = 1)\n",
    "display(out_2b_tabs_1)"
   ]
  },
  {
   "cell_type": "code",
   "execution_count": 27,
   "id": "7ed3d52b-ca4c-4ee2-83f7-ddb6f35ea0ec",
   "metadata": {},
   "outputs": [],
   "source": [
    "# Wait for tab output async processes to complete\n",
    "time.sleep(10)"
   ]
  },
  {
   "cell_type": "code",
   "execution_count": 28,
   "id": "2940b0a6-c6a6-48de-bfe9-910fc5c7e786",
   "metadata": {
    "tags": []
   },
   "outputs": [
    {
     "name": "stdout",
     "output_type": "stream",
     "text": [
      ">>>>>>>> complete_log_path to summarize==> trace_files/full_trace_lab2b_agent_trace_1.log\n"
     ]
    },
    {
     "name": "stderr",
     "output_type": "stream",
     "text": [
      "/home/ec2-user/anaconda3/envs/python3/lib/python3.10/site-packages/langchain_core/_api/deprecation.py:117: LangChainDeprecationWarning: The function `__call__` was deprecated in LangChain 0.1.7 and will be removed in 0.2.0. Use invoke instead.\n",
      "  warn_deprecated(\n"
     ]
    },
    {
     "name": "stdout",
     "output_type": "stream",
     "text": [
      "CPU times: user 113 ms, sys: 48.8 ms, total: 162 ms\n",
      "Wall time: 3.55 s\n"
     ]
    }
   ],
   "source": [
    "%%time\n",
    "# Using Claude-v3 Haiku to generate a summary of the agent's workflow for this conversation turn\n",
    "summary = summarize_agent_trace(trace_file_base_path= \"trace_files/\", lab_number=\"2b\", turn_number=\"1\")\n",
    "with out_2b_summary:\n",
    "    out_2b_summary.clear_output()\n",
    "    display(Markdown(summary))"
   ]
  },
  {
   "cell_type": "code",
   "execution_count": 29,
   "id": "5a397b2b-0f85-4743-a569-303d27f44114",
   "metadata": {
    "tags": []
   },
   "outputs": [
    {
     "data": {
      "application/vnd.jupyter.widget-view+json": {
       "model_id": "e511eb809ff549509c013af5caf855db",
       "version_major": 2,
       "version_minor": 0
      },
      "text/plain": [
       "Output(layout=Layout(border_bottom='1px solid black', border_left='1px solid black', border_right='1px solid b…"
      ]
     },
     "metadata": {},
     "output_type": "display_data"
    }
   ],
   "source": [
    "\n",
    "## Display the summary of the agent workflow trace\n",
    "display(out_2b_summary)"
   ]
  },
  {
   "cell_type": "markdown",
   "id": "9a81ac3f-a880-446b-99dd-7507b86a75c8",
   "metadata": {},
   "source": [
    "### <a name=\"9\">[Be Frugal] Clean up resources </a>\n",
    "(<a href=\"#0\">Go to top</a>)\n"
   ]
  },
  {
   "cell_type": "markdown",
   "id": "636168de-bc90-46d2-a7c5-43e0904b0fc5",
   "metadata": {
    "tags": []
   },
   "source": [
    "##### In the following cell, we offer the option to raise an exception to avoid auto-executing the next block of lines and optionally clean up all resources. This is useful when the `Kernel > run all` option is used.\n",
    "\n",
    "`Please be frugal if you choose to enable this exception in the code cell below. By default it is disabled and all resources will be cleaned up immediately to avoid additional costs.`\n",
    "\n",
    "##### Within the same kernel session, this will allow experimentation with different prompts without having to recreate agent resources (takes ~5 minutes)"
   ]
  },
  {
   "cell_type": "code",
   "execution_count": 30,
   "id": "d6aac2b7-dc28-4122-ab3e-5d3d28abd42d",
   "metadata": {
    "tags": []
   },
   "outputs": [
    {
     "ename": "Exception",
     "evalue": "Avoiding Auto-Cleanup of Bedrock Agent Resources",
     "output_type": "error",
     "traceback": [
      "\u001b[0;31m---------------------------------------------------------------------------\u001b[0m",
      "\u001b[0;31mException\u001b[0m                                 Traceback (most recent call last)",
      "Cell \u001b[0;32mIn[30], line 2\u001b[0m\n\u001b[1;32m      1\u001b[0m \u001b[38;5;66;03m# this avoids auto-cleanup\u001b[39;00m\n\u001b[0;32m----> 2\u001b[0m \u001b[38;5;28;01mraise\u001b[39;00m \u001b[38;5;167;01mException\u001b[39;00m(\u001b[38;5;124m'\u001b[39m\u001b[38;5;124mAvoiding Auto-Cleanup of Bedrock Agent Resources\u001b[39m\u001b[38;5;124m'\u001b[39m)\n",
      "\u001b[0;31mException\u001b[0m: Avoiding Auto-Cleanup of Bedrock Agent Resources"
     ]
    }
   ],
   "source": [
    "# this avoids auto-cleanup\n",
    "#raise Exception('Avoiding Auto-Cleanup of Bedrock Agent Resources')"
   ]
  },
  {
   "cell_type": "code",
   "execution_count": null,
   "id": "6ffc0fcf-20d4-48da-802b-c3ddf70f9b3b",
   "metadata": {},
   "outputs": [
    {
     "name": "stdout",
     "output_type": "stream",
     "text": [
      "bucket_name ::: l2fa93c5-agent-kb-381492259435\n"
     ]
    }
   ],
   "source": [
    "%%time\n",
    "cleanup_infrastructure(agent_action_group_response, lambda_name, lambda_function, lambda_role_name, agent_id, agent_alias_id, agent_role_name, bucket_name, schema_key, agent_bedrock_policy, agent_s3_schema_policy, agent_kb_schema_policy, kb_db_bedrock_policy, kb_db_aoss_policy, kb_db_s3_policy, kb_db_role_name, kb_db_collection_name, kb_db_opensearch_collection_response, knowledge_base_db_id)"
   ]
  },
  {
   "cell_type": "markdown",
   "id": "95fd93d3-cb28-44ca-b066-4aef8780b936",
   "metadata": {},
   "source": [
    "---\n",
    "\n",
    "### <a name=\"10\">Challenge Exercise and Lab Quiz </a>\n",
    "(<a href=\"#0\">Go to top</a>)\n",
    "\n",
    "\n"
   ]
  },
  {
   "cell_type": "markdown",
   "id": "e46561ae-e828-48eb-9675-38adfe0541c4",
   "metadata": {
    "tags": []
   },
   "source": [
    "### Challenge Exercise \n",
    "\n",
    "<div style=\"border: 4px solid coral; text-align: center; margin: auto;\">\n",
    "    <h2><i>Try it Yourself!</i></h2>\n",
    "    <br>\n",
    "    <p style=\"text-align:center;margin:auto;\"><img src=\"./images/challenge.png\" alt=\"Challenge\" width=\"100\" /> </p>\n",
    "    <p style=\" text-align: center; margin: auto;\">Try the following exercise to harness the power of Bedrock agents we have taught you so far.</p>\n",
    "    <br>\n",
    "</div>\n",
    "\n",
    "\n",
    "Try a new set of questions to run against the database.\n",
    "\n",
    "- Get alphabetical list of products\n",
    "- For each order, calculate a subtotal for each order (identified by OrderID)?\n",
    "- For each employee, get their sales amount, broken down by country name"
   ]
  },
  {
   "cell_type": "markdown",
   "id": "c54a3d06-01c9-4c01-9501-6594b9300bba",
   "metadata": {
    "tags": []
   },
   "source": [
    "### Lab Quiz\n",
    "\n",
    "Well done on completing the lab! Now, it's time for a brief knowledge assessment.\n",
    "\n",
    "<div style=\"border: 4px solid coral; text-align: center; margin: auto;\">\n",
    "    <h2><i>Try it Yourself!</i></h2>\n",
    "    <br>\n",
    "    <p style=\"text-align:center;margin:auto;\"><img src=\"./images/activity.png\" alt=\"Challenge\" width=\"100\" /> </p>\n",
    "    <p style=\" text-align: center; margin: auto;\">Answer the following questions to test your understanding of Bedrock Agents.</p>\n",
    "    <br>\n",
    "</div>"
   ]
  },
  {
   "cell_type": "code",
   "execution_count": null,
   "id": "eda4f82c-7933-426c-a970-fe58461c9a6e",
   "metadata": {
    "tags": []
   },
   "outputs": [],
   "source": [
    "from mlu_utils.agents_quiz import *\n",
    "\n",
    "lab2b_question1"
   ]
  },
  {
   "cell_type": "code",
   "execution_count": null,
   "id": "955ee215-0bc7-404b-a3d8-7fb8e92264fb",
   "metadata": {
    "tags": []
   },
   "outputs": [],
   "source": [
    "lab2b_question2"
   ]
  },
  {
   "cell_type": "markdown",
   "id": "47ce5c54-3e54-40fc-aa10-d7ec785ea832",
   "metadata": {},
   "source": [
    "## Conclusion\n",
    "We have now experimented with using `boto3` SDK to create, invoke and delete an agent.\n",
    "\n",
    "### Take aways\n",
    "- Adapt this notebook to create new agents for your application\n",
    "\n",
    "## Thank You"
   ]
  }
 ],
 "metadata": {
  "availableInstances": [
   {
    "_defaultOrder": 0,
    "_isFastLaunch": true,
    "category": "General purpose",
    "gpuNum": 0,
    "hideHardwareSpecs": false,
    "memoryGiB": 4,
    "name": "ml.t3.medium",
    "vcpuNum": 2
   },
   {
    "_defaultOrder": 1,
    "_isFastLaunch": false,
    "category": "General purpose",
    "gpuNum": 0,
    "hideHardwareSpecs": false,
    "memoryGiB": 8,
    "name": "ml.t3.large",
    "vcpuNum": 2
   },
   {
    "_defaultOrder": 2,
    "_isFastLaunch": false,
    "category": "General purpose",
    "gpuNum": 0,
    "hideHardwareSpecs": false,
    "memoryGiB": 16,
    "name": "ml.t3.xlarge",
    "vcpuNum": 4
   },
   {
    "_defaultOrder": 3,
    "_isFastLaunch": false,
    "category": "General purpose",
    "gpuNum": 0,
    "hideHardwareSpecs": false,
    "memoryGiB": 32,
    "name": "ml.t3.2xlarge",
    "vcpuNum": 8
   },
   {
    "_defaultOrder": 4,
    "_isFastLaunch": true,
    "category": "General purpose",
    "gpuNum": 0,
    "hideHardwareSpecs": false,
    "memoryGiB": 8,
    "name": "ml.m5.large",
    "vcpuNum": 2
   },
   {
    "_defaultOrder": 5,
    "_isFastLaunch": false,
    "category": "General purpose",
    "gpuNum": 0,
    "hideHardwareSpecs": false,
    "memoryGiB": 16,
    "name": "ml.m5.xlarge",
    "vcpuNum": 4
   },
   {
    "_defaultOrder": 6,
    "_isFastLaunch": false,
    "category": "General purpose",
    "gpuNum": 0,
    "hideHardwareSpecs": false,
    "memoryGiB": 32,
    "name": "ml.m5.2xlarge",
    "vcpuNum": 8
   },
   {
    "_defaultOrder": 7,
    "_isFastLaunch": false,
    "category": "General purpose",
    "gpuNum": 0,
    "hideHardwareSpecs": false,
    "memoryGiB": 64,
    "name": "ml.m5.4xlarge",
    "vcpuNum": 16
   },
   {
    "_defaultOrder": 8,
    "_isFastLaunch": false,
    "category": "General purpose",
    "gpuNum": 0,
    "hideHardwareSpecs": false,
    "memoryGiB": 128,
    "name": "ml.m5.8xlarge",
    "vcpuNum": 32
   },
   {
    "_defaultOrder": 9,
    "_isFastLaunch": false,
    "category": "General purpose",
    "gpuNum": 0,
    "hideHardwareSpecs": false,
    "memoryGiB": 192,
    "name": "ml.m5.12xlarge",
    "vcpuNum": 48
   },
   {
    "_defaultOrder": 10,
    "_isFastLaunch": false,
    "category": "General purpose",
    "gpuNum": 0,
    "hideHardwareSpecs": false,
    "memoryGiB": 256,
    "name": "ml.m5.16xlarge",
    "vcpuNum": 64
   },
   {
    "_defaultOrder": 11,
    "_isFastLaunch": false,
    "category": "General purpose",
    "gpuNum": 0,
    "hideHardwareSpecs": false,
    "memoryGiB": 384,
    "name": "ml.m5.24xlarge",
    "vcpuNum": 96
   },
   {
    "_defaultOrder": 12,
    "_isFastLaunch": false,
    "category": "General purpose",
    "gpuNum": 0,
    "hideHardwareSpecs": false,
    "memoryGiB": 8,
    "name": "ml.m5d.large",
    "vcpuNum": 2
   },
   {
    "_defaultOrder": 13,
    "_isFastLaunch": false,
    "category": "General purpose",
    "gpuNum": 0,
    "hideHardwareSpecs": false,
    "memoryGiB": 16,
    "name": "ml.m5d.xlarge",
    "vcpuNum": 4
   },
   {
    "_defaultOrder": 14,
    "_isFastLaunch": false,
    "category": "General purpose",
    "gpuNum": 0,
    "hideHardwareSpecs": false,
    "memoryGiB": 32,
    "name": "ml.m5d.2xlarge",
    "vcpuNum": 8
   },
   {
    "_defaultOrder": 15,
    "_isFastLaunch": false,
    "category": "General purpose",
    "gpuNum": 0,
    "hideHardwareSpecs": false,
    "memoryGiB": 64,
    "name": "ml.m5d.4xlarge",
    "vcpuNum": 16
   },
   {
    "_defaultOrder": 16,
    "_isFastLaunch": false,
    "category": "General purpose",
    "gpuNum": 0,
    "hideHardwareSpecs": false,
    "memoryGiB": 128,
    "name": "ml.m5d.8xlarge",
    "vcpuNum": 32
   },
   {
    "_defaultOrder": 17,
    "_isFastLaunch": false,
    "category": "General purpose",
    "gpuNum": 0,
    "hideHardwareSpecs": false,
    "memoryGiB": 192,
    "name": "ml.m5d.12xlarge",
    "vcpuNum": 48
   },
   {
    "_defaultOrder": 18,
    "_isFastLaunch": false,
    "category": "General purpose",
    "gpuNum": 0,
    "hideHardwareSpecs": false,
    "memoryGiB": 256,
    "name": "ml.m5d.16xlarge",
    "vcpuNum": 64
   },
   {
    "_defaultOrder": 19,
    "_isFastLaunch": false,
    "category": "General purpose",
    "gpuNum": 0,
    "hideHardwareSpecs": false,
    "memoryGiB": 384,
    "name": "ml.m5d.24xlarge",
    "vcpuNum": 96
   },
   {
    "_defaultOrder": 20,
    "_isFastLaunch": false,
    "category": "General purpose",
    "gpuNum": 0,
    "hideHardwareSpecs": true,
    "memoryGiB": 0,
    "name": "ml.geospatial.interactive",
    "supportedImageNames": [
     "sagemaker-geospatial-v1-0"
    ],
    "vcpuNum": 0
   },
   {
    "_defaultOrder": 21,
    "_isFastLaunch": true,
    "category": "Compute optimized",
    "gpuNum": 0,
    "hideHardwareSpecs": false,
    "memoryGiB": 4,
    "name": "ml.c5.large",
    "vcpuNum": 2
   },
   {
    "_defaultOrder": 22,
    "_isFastLaunch": false,
    "category": "Compute optimized",
    "gpuNum": 0,
    "hideHardwareSpecs": false,
    "memoryGiB": 8,
    "name": "ml.c5.xlarge",
    "vcpuNum": 4
   },
   {
    "_defaultOrder": 23,
    "_isFastLaunch": false,
    "category": "Compute optimized",
    "gpuNum": 0,
    "hideHardwareSpecs": false,
    "memoryGiB": 16,
    "name": "ml.c5.2xlarge",
    "vcpuNum": 8
   },
   {
    "_defaultOrder": 24,
    "_isFastLaunch": false,
    "category": "Compute optimized",
    "gpuNum": 0,
    "hideHardwareSpecs": false,
    "memoryGiB": 32,
    "name": "ml.c5.4xlarge",
    "vcpuNum": 16
   },
   {
    "_defaultOrder": 25,
    "_isFastLaunch": false,
    "category": "Compute optimized",
    "gpuNum": 0,
    "hideHardwareSpecs": false,
    "memoryGiB": 72,
    "name": "ml.c5.9xlarge",
    "vcpuNum": 36
   },
   {
    "_defaultOrder": 26,
    "_isFastLaunch": false,
    "category": "Compute optimized",
    "gpuNum": 0,
    "hideHardwareSpecs": false,
    "memoryGiB": 96,
    "name": "ml.c5.12xlarge",
    "vcpuNum": 48
   },
   {
    "_defaultOrder": 27,
    "_isFastLaunch": false,
    "category": "Compute optimized",
    "gpuNum": 0,
    "hideHardwareSpecs": false,
    "memoryGiB": 144,
    "name": "ml.c5.18xlarge",
    "vcpuNum": 72
   },
   {
    "_defaultOrder": 28,
    "_isFastLaunch": false,
    "category": "Compute optimized",
    "gpuNum": 0,
    "hideHardwareSpecs": false,
    "memoryGiB": 192,
    "name": "ml.c5.24xlarge",
    "vcpuNum": 96
   },
   {
    "_defaultOrder": 29,
    "_isFastLaunch": true,
    "category": "Accelerated computing",
    "gpuNum": 1,
    "hideHardwareSpecs": false,
    "memoryGiB": 16,
    "name": "ml.g4dn.xlarge",
    "vcpuNum": 4
   },
   {
    "_defaultOrder": 30,
    "_isFastLaunch": false,
    "category": "Accelerated computing",
    "gpuNum": 1,
    "hideHardwareSpecs": false,
    "memoryGiB": 32,
    "name": "ml.g4dn.2xlarge",
    "vcpuNum": 8
   },
   {
    "_defaultOrder": 31,
    "_isFastLaunch": false,
    "category": "Accelerated computing",
    "gpuNum": 1,
    "hideHardwareSpecs": false,
    "memoryGiB": 64,
    "name": "ml.g4dn.4xlarge",
    "vcpuNum": 16
   },
   {
    "_defaultOrder": 32,
    "_isFastLaunch": false,
    "category": "Accelerated computing",
    "gpuNum": 1,
    "hideHardwareSpecs": false,
    "memoryGiB": 128,
    "name": "ml.g4dn.8xlarge",
    "vcpuNum": 32
   },
   {
    "_defaultOrder": 33,
    "_isFastLaunch": false,
    "category": "Accelerated computing",
    "gpuNum": 4,
    "hideHardwareSpecs": false,
    "memoryGiB": 192,
    "name": "ml.g4dn.12xlarge",
    "vcpuNum": 48
   },
   {
    "_defaultOrder": 34,
    "_isFastLaunch": false,
    "category": "Accelerated computing",
    "gpuNum": 1,
    "hideHardwareSpecs": false,
    "memoryGiB": 256,
    "name": "ml.g4dn.16xlarge",
    "vcpuNum": 64
   },
   {
    "_defaultOrder": 35,
    "_isFastLaunch": false,
    "category": "Accelerated computing",
    "gpuNum": 1,
    "hideHardwareSpecs": false,
    "memoryGiB": 61,
    "name": "ml.p3.2xlarge",
    "vcpuNum": 8
   },
   {
    "_defaultOrder": 36,
    "_isFastLaunch": false,
    "category": "Accelerated computing",
    "gpuNum": 4,
    "hideHardwareSpecs": false,
    "memoryGiB": 244,
    "name": "ml.p3.8xlarge",
    "vcpuNum": 32
   },
   {
    "_defaultOrder": 37,
    "_isFastLaunch": false,
    "category": "Accelerated computing",
    "gpuNum": 8,
    "hideHardwareSpecs": false,
    "memoryGiB": 488,
    "name": "ml.p3.16xlarge",
    "vcpuNum": 64
   },
   {
    "_defaultOrder": 38,
    "_isFastLaunch": false,
    "category": "Accelerated computing",
    "gpuNum": 8,
    "hideHardwareSpecs": false,
    "memoryGiB": 768,
    "name": "ml.p3dn.24xlarge",
    "vcpuNum": 96
   },
   {
    "_defaultOrder": 39,
    "_isFastLaunch": false,
    "category": "Memory Optimized",
    "gpuNum": 0,
    "hideHardwareSpecs": false,
    "memoryGiB": 16,
    "name": "ml.r5.large",
    "vcpuNum": 2
   },
   {
    "_defaultOrder": 40,
    "_isFastLaunch": false,
    "category": "Memory Optimized",
    "gpuNum": 0,
    "hideHardwareSpecs": false,
    "memoryGiB": 32,
    "name": "ml.r5.xlarge",
    "vcpuNum": 4
   },
   {
    "_defaultOrder": 41,
    "_isFastLaunch": false,
    "category": "Memory Optimized",
    "gpuNum": 0,
    "hideHardwareSpecs": false,
    "memoryGiB": 64,
    "name": "ml.r5.2xlarge",
    "vcpuNum": 8
   },
   {
    "_defaultOrder": 42,
    "_isFastLaunch": false,
    "category": "Memory Optimized",
    "gpuNum": 0,
    "hideHardwareSpecs": false,
    "memoryGiB": 128,
    "name": "ml.r5.4xlarge",
    "vcpuNum": 16
   },
   {
    "_defaultOrder": 43,
    "_isFastLaunch": false,
    "category": "Memory Optimized",
    "gpuNum": 0,
    "hideHardwareSpecs": false,
    "memoryGiB": 256,
    "name": "ml.r5.8xlarge",
    "vcpuNum": 32
   },
   {
    "_defaultOrder": 44,
    "_isFastLaunch": false,
    "category": "Memory Optimized",
    "gpuNum": 0,
    "hideHardwareSpecs": false,
    "memoryGiB": 384,
    "name": "ml.r5.12xlarge",
    "vcpuNum": 48
   },
   {
    "_defaultOrder": 45,
    "_isFastLaunch": false,
    "category": "Memory Optimized",
    "gpuNum": 0,
    "hideHardwareSpecs": false,
    "memoryGiB": 512,
    "name": "ml.r5.16xlarge",
    "vcpuNum": 64
   },
   {
    "_defaultOrder": 46,
    "_isFastLaunch": false,
    "category": "Memory Optimized",
    "gpuNum": 0,
    "hideHardwareSpecs": false,
    "memoryGiB": 768,
    "name": "ml.r5.24xlarge",
    "vcpuNum": 96
   },
   {
    "_defaultOrder": 47,
    "_isFastLaunch": false,
    "category": "Accelerated computing",
    "gpuNum": 1,
    "hideHardwareSpecs": false,
    "memoryGiB": 16,
    "name": "ml.g5.xlarge",
    "vcpuNum": 4
   },
   {
    "_defaultOrder": 48,
    "_isFastLaunch": false,
    "category": "Accelerated computing",
    "gpuNum": 1,
    "hideHardwareSpecs": false,
    "memoryGiB": 32,
    "name": "ml.g5.2xlarge",
    "vcpuNum": 8
   },
   {
    "_defaultOrder": 49,
    "_isFastLaunch": false,
    "category": "Accelerated computing",
    "gpuNum": 1,
    "hideHardwareSpecs": false,
    "memoryGiB": 64,
    "name": "ml.g5.4xlarge",
    "vcpuNum": 16
   },
   {
    "_defaultOrder": 50,
    "_isFastLaunch": false,
    "category": "Accelerated computing",
    "gpuNum": 1,
    "hideHardwareSpecs": false,
    "memoryGiB": 128,
    "name": "ml.g5.8xlarge",
    "vcpuNum": 32
   },
   {
    "_defaultOrder": 51,
    "_isFastLaunch": false,
    "category": "Accelerated computing",
    "gpuNum": 1,
    "hideHardwareSpecs": false,
    "memoryGiB": 256,
    "name": "ml.g5.16xlarge",
    "vcpuNum": 64
   },
   {
    "_defaultOrder": 52,
    "_isFastLaunch": false,
    "category": "Accelerated computing",
    "gpuNum": 4,
    "hideHardwareSpecs": false,
    "memoryGiB": 192,
    "name": "ml.g5.12xlarge",
    "vcpuNum": 48
   },
   {
    "_defaultOrder": 53,
    "_isFastLaunch": false,
    "category": "Accelerated computing",
    "gpuNum": 4,
    "hideHardwareSpecs": false,
    "memoryGiB": 384,
    "name": "ml.g5.24xlarge",
    "vcpuNum": 96
   },
   {
    "_defaultOrder": 54,
    "_isFastLaunch": false,
    "category": "Accelerated computing",
    "gpuNum": 8,
    "hideHardwareSpecs": false,
    "memoryGiB": 768,
    "name": "ml.g5.48xlarge",
    "vcpuNum": 192
   },
   {
    "_defaultOrder": 55,
    "_isFastLaunch": false,
    "category": "Accelerated computing",
    "gpuNum": 8,
    "hideHardwareSpecs": false,
    "memoryGiB": 1152,
    "name": "ml.p4d.24xlarge",
    "vcpuNum": 96
   },
   {
    "_defaultOrder": 56,
    "_isFastLaunch": false,
    "category": "Accelerated computing",
    "gpuNum": 8,
    "hideHardwareSpecs": false,
    "memoryGiB": 1152,
    "name": "ml.p4de.24xlarge",
    "vcpuNum": 96
   },
   {
    "_defaultOrder": 57,
    "_isFastLaunch": false,
    "category": "Accelerated computing",
    "gpuNum": 0,
    "hideHardwareSpecs": false,
    "memoryGiB": 32,
    "name": "ml.trn1.2xlarge",
    "vcpuNum": 8
   },
   {
    "_defaultOrder": 58,
    "_isFastLaunch": false,
    "category": "Accelerated computing",
    "gpuNum": 0,
    "hideHardwareSpecs": false,
    "memoryGiB": 512,
    "name": "ml.trn1.32xlarge",
    "vcpuNum": 128
   },
   {
    "_defaultOrder": 59,
    "_isFastLaunch": false,
    "category": "Accelerated computing",
    "gpuNum": 0,
    "hideHardwareSpecs": false,
    "memoryGiB": 512,
    "name": "ml.trn1n.32xlarge",
    "vcpuNum": 128
   }
  ],
  "instance_type": "ml.t3.medium",
  "kernelspec": {
   "display_name": "conda_python3",
   "language": "python",
   "name": "conda_python3"
  },
  "language_info": {
   "codemirror_mode": {
    "name": "ipython",
    "version": 3
   },
   "file_extension": ".py",
   "mimetype": "text/x-python",
   "name": "python",
   "nbconvert_exporter": "python",
   "pygments_lexer": "ipython3",
   "version": "3.10.14"
  }
 },
 "nbformat": 4,
 "nbformat_minor": 5
}
