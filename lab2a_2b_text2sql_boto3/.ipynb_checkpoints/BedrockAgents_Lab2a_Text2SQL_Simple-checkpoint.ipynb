{
 "cells": [
  {
   "cell_type": "markdown",
   "metadata": {},
   "source": [
    "\n",
    "\n",
    "<center><img src=\"images/MLU-NEW-logo.png\" alt=\"drawing\" width=\"400\" style=\"background-color:white; padding:1em;\" /></center> <br/>\n",
    "\n",
    "# <a name=\"0\">Using Bedrock Agents with Boto3 SDK </a>\n",
    "## <a name=\"0\"> Lab 2a: Text to SQL (Simple) - without Knowledge Bases using Transactional Retrieval Mechanism</a>\n",
    "\n",
    "## Lab Overview\n",
    "\n",
    "In this lab, we will recreate lab 1 but with the Boto 3 SDK API. We will learn to use Bedrock Agents with Knowledge Bases invoked via Lambdas using ReAct Prompting. Internally Bedrock Agents automate prompt engineering and orchestration of user-requested tasks.\n",
    "\n",
    "##### Notebook Kernel\n",
    "Please choose `conda_python3` as the kernel type of the top right corner of the notebook if that does not appear by default.\n",
    "\n",
    "\n",
    "<div style=\"border: 4px solid coral; text-align: left; margin: auto; padding-left: 20px; padding-right: 20px\">\n",
    "    <h4>This lab automatically cleans up resources to be frugal. </h4>\n",
    "    You can visit this section (<a href=\"#9\"> Clean-up Resources</a>) to change the setting if you need to experiment with prompts and settings. Please run clean-up resources after you are done with experiments. <br/>\n",
    "</div>\n",
    "<br/>\n",
    "\n",
    "## LLM Used\n",
    "Anthropic Claude 3 Haiku \n",
    "\n",
    "## Use-case Overview\n",
    "Here, we are setting up a retail customer service agent that helps customers purchase shoes via natural language conversations. User requests are broken down into multiple steps, with each step invoking APIs to fulfill the sub-tasks.\n",
    "\n",
    "With ReAct, the sequence of actions for Agents follows a question-thought-action-observation paradigm:\n",
    "\n",
    "    - The question is the user-requested task or problem to solve.\n",
    "    - The thought is a reasoning step that helps demonstrate to the FM how to tackle the problem and identify an action to take.\n",
    "    - The action is an API that the model can invoke from an allowed set of APIs.\n",
    "    - The observation is the result of carrying out the action.\n",
    "    \n",
    "\n",
    "#### Chat window of user-agent conversations: \n",
    "<br/> <center><img src=\"images/retail-bot-workflow.png\" alt=\"conversation between user and agent to buy a pair of shoes after validating user information. The bot gets customer information by asking the customer for their name, and then gets their details. Then the bot uses those details to find the right kinds of shoes for them, then checks its inventory database to be sure they're in stock, then creates a prompt that asks the FM to generate a response to the customer. Then the bot places an order on behalf of a customer.\" height=\"700\" width=\"700\" style=\"background-color:white; padding:1em;\" /></center> <br/>\n",
    "\n",
    "#### Sequence Diagram of user-agent conversations \n",
    "<br/> <center><img src=\"images/retail-flow-agents.png\" alt=\"This figure is to show the sequence diagram to capture user and agent interaction for every conversation in the chat session to buy a pair of shoes. The bot gets customer information by asking the customer for their name, and then gets their details. Then the bot uses those details to find the right kinds of shoes for them, then checks its inventory database to be sure they're in stock, then creates a prompt that asks the FM to generate a response to the customer. Then the bot places an order on behalf of a customer.\" height=\"700\" width=\"700\" style=\"background-color:white; padding:1em;\" /></center> <br/>\n",
    "\n",
    "In this use-case, we use the Lambda function to retrieve customer details, list shoes matching customer preferred activity and finally, place orders. Our code is backed by an in-memory SQLite database. You can use similar constructs to write to a persistent data store. \n",
    "\n",
    "This lab will demonstrate how to create your first agent for Bedrock using the BOTO3 SDK:\n",
    "\n",
    "1. Select the underlying foundation model (FM) for your agent \n",
    "2. Provide a clear and concise agent instruction \n",
    "3. Create and associate an action group with an API Schema and a Lambda function \n",
    "4. Create, invoke, test, and deploy the agent\n",
    "5. Demonstrating a chat session with multi-turn conversations\n",
    "6. Clean up resources (Be Frugal)\n",
    "\n",
    "We provide a step-by-step guide with building blocks to create a customer service retail agent bot. We use a text generation model (Anthropic Claude 2) and agents for Amazon Bedrock for this solution. \n",
    "\n",
    "This lab notebook has the following sections:\n",
    "\n",
    "1. <a href=\"#1\">Environment configuration</a>\n",
    "2. <a href=\"#2\">Set up Bedrock for inference</a>\n",
    "3. <a href=\"#3\">Setup prefix variables for various agent resources</a>\n",
    "4. <a href=\"#4\">Create Lambda function for action group </a>\n",
    "5. <a href=\"#5\">Creating an agent</a>\n",
    "6. <a href=\"#6\">Deploy agent and create agent alias</a>\n",
    "7. <a href=\"#7\">Invoke agent </a>\n",
    "8. <a href=\"#8\">Multi-turn conversations / session context management</a>\n",
    "9. <a href=\"#9\"> Clean-up resources</a>\n",
    "10. <a href=\"#10\">Challenge exercise and lab quiz</a>\n",
    "    \n",
    "Please work top to bottom of this notebook and don't skip sections as this could lead to error messages due to missing code.\n",
    "\n",
    "---\n",
    "\n",
    "\n",
    "You will be presented with two kinds of exercises throughout the notebook: activities and challenges. <br/>\n",
    "\n",
    "| <img style=\"float: center;\" src=\"images/activity.png\" alt=\"Activity\" width=\"125\"/>| <img style=\"float: center;\" src=\"images/challenge.png\" alt=\"Challenge\" width=\"125\"/>|\n",
    "| --- | --- |\n",
    "|<p style=\"text-align:center;\"> No coding is needed for an activity. You try to understand a concept, <br/>answer questions, or run a code cell.</p> |<p style=\"text-align:center;\">Challenges are where you can practice your coding skills.</p>"
   ]
  },
  {
   "cell_type": "markdown",
   "metadata": {
    "tags": []
   },
   "source": [
    "\n",
    "## <a name=\"1\">Environment Setup and Configuration</a>\n",
    "(<a href=\"#0\">Go to top</a>)\n",
    "\n",
    "Let's start by installing all required packages as specified in the `requirements.txt` file and importing several libraries."
   ]
  },
  {
   "cell_type": "code",
   "execution_count": 1,
   "metadata": {},
   "outputs": [],
   "source": [
    "%%capture\n",
    "!pip3 install -r requirements.txt --quiet"
   ]
  },
  {
   "cell_type": "code",
   "execution_count": 2,
   "metadata": {
    "tags": []
   },
   "outputs": [
    {
     "name": "stderr",
     "output_type": "stream",
     "text": [
      "[2024-06-06 17:58:27,145] p20896 {credentials.py:1075} INFO - Found credentials from IAM Role: BaseNotebookInstanceEc2InstanceRole\n"
     ]
    }
   ],
   "source": [
    "import uuid\n",
    "\n",
    "import pprint\n",
    "import botocore\n",
    "import logging\n",
    "import sys\n",
    "import boto3\n",
    "import botocore\n",
    "import json \n",
    "\n",
    "from mlu_utils.agents_utils import *\n",
    "from mlu_utils.show_trace_widget import *\n",
    "from mlu_utils.summarize_agent_trace import *\n",
    "\n",
    "# setting up the logger config and format of log messages\n",
    "logging.basicConfig(format='[%(asctime)s] p%(process)s {%(filename)s:%(lineno)d} %(levelname)s - %(message)s', level=logging.INFO)\n",
    "logger = logging.getLogger(__name__)\n"
   ]
  },
  {
   "cell_type": "code",
   "execution_count": 3,
   "metadata": {
    "tags": []
   },
   "outputs": [],
   "source": [
    "\n",
    "import logging\n",
    "import boto3\n",
    "import random\n",
    "import time\n",
    "import zipfile\n",
    "from io import BytesIO\n",
    "import json\n",
    "import uuid\n",
    "import pprint\n",
    "import os\n",
    "from opensearchpy import OpenSearch, RequestsHttpConnection\n",
    "from requests_aws4auth import AWS4Auth\n",
    "from IPython.display import Markdown\n",
    "import pandas as pd\n",
    "import json\n",
    "import pprint\n",
    "\n",
    "from mlu_utils.agents_infra_utils_no_kb_setup import *\n"
   ]
  },
  {
   "cell_type": "code",
   "execution_count": 4,
   "metadata": {
    "tags": []
   },
   "outputs": [],
   "source": [
    "# formatter for regular print\n",
    "pp = pprint.PrettyPrinter(width=41, compact=True)\n",
    "\n",
    "# getting boto3 clients for required AWS services\n",
    "sts_client = boto3.client('sts')\n",
    "iam_client = boto3.client('iam')\n",
    "s3_client = boto3.client('s3')\n",
    "lambda_client = boto3.client('lambda')\n"
   ]
  },
  {
   "cell_type": "code",
   "execution_count": 5,
   "metadata": {},
   "outputs": [],
   "source": [
    "clean_up_trace_files(\"./trace_files/\")"
   ]
  },
  {
   "cell_type": "markdown",
   "metadata": {},
   "source": [
    "#### Session, Region and Account Setup"
   ]
  },
  {
   "cell_type": "code",
   "execution_count": 6,
   "metadata": {
    "tags": []
   },
   "outputs": [
    {
     "data": {
      "text/plain": [
       "('us-east-1', '381492259435')"
      ]
     },
     "execution_count": 6,
     "metadata": {},
     "output_type": "execute_result"
    }
   ],
   "source": [
    "session = boto3.session.Session()\n",
    "region = session.region_name\n",
    "account_id = sts_client.get_caller_identity()[\"Account\"]\n",
    "region, account_id"
   ]
  },
  {
   "cell_type": "code",
   "execution_count": 7,
   "metadata": {
    "tags": []
   },
   "outputs": [],
   "source": [
    "import ipywidgets as widgets\n",
    "from IPython.display import JSON\n",
    "\n",
    "out_2a_tabs_1 = widgets.Output(layout=widgets.Layout(border = '1px solid black', width = '100%',))\n",
    "out_2a_tabs_2 = widgets.Output(layout=widgets.Layout(border = '1px solid black', width = '100%',))\n",
    "out_2a_tabs_3 = widgets.Output(layout=widgets.Layout(border = '1px solid black', width = '100%',))\n",
    "\n",
    "out_2a_turn_1_summary = widgets.Output(layout=widgets.Layout(border = '1px solid black', width = '100%',))\n",
    "out_2a_turn_2_summary = widgets.Output(layout=widgets.Layout(border = '1px solid black', width = '100%',))\n",
    "out_2a_turn_3_summary = widgets.Output(layout=widgets.Layout(border = '1px solid black', width = '100%',))\n"
   ]
  },
  {
   "cell_type": "markdown",
   "metadata": {
    "tags": []
   },
   "source": [
    "### <a name=\"2\">2. Set up Bedrock for inference</a>\n",
    "(<a href=\"#0\">Go to top</a>)\n",
    "\n",
    "To get started, set up Bedrock and instantiate an active `bedrock-runtime` to query LLMs. The code below leverages [LangChain's Bedrock integration](https://python.langchain.com/docs/integrations/llms/bedrock).\n",
    "```\n",
    "bedrock_agent_client = boto3.client('bedrock-agent')\n",
    "bedrock_agent_runtime_client = boto3.client('bedrock-agent-runtime')\n",
    "\n",
    "```\n",
    "<div style=\"border: 4px solid coral; text-align: left; margin: auto; padding-left: 20px; padding-right: 20px\">\n",
    "    <h4>A note on Bedrock API invocation</h4>\n",
    "\n",
    "Amazon Bedrock is generally available for all AWS customers. The provided lab for this course currently invokes Bedrock's external endpoint, which has access to Anthropic and AI21 models.\n",
    "\n",
    "For training and learning purposes, Amazon Bedrock is also available through an internal endpoint that allows accessing Amazon's Titan models. To use that instead, please follow the instructions in the <a href=\"https://w.amazon.com/bin/view/AmazonBedrock/Products/GetStarted/\">Amazon Bedrock Get Started wiki page</a>.\n",
    "</div>\n",
    "</br>"
   ]
  },
  {
   "cell_type": "code",
   "execution_count": 8,
   "metadata": {
    "tags": []
   },
   "outputs": [],
   "source": [
    "bedrock_agent_client = boto3.client('bedrock-agent')\n",
    "bedrock_agent_runtime_client = boto3.client('bedrock-agent-runtime')"
   ]
  },
  {
   "cell_type": "markdown",
   "metadata": {},
   "source": [
    "### <a name=\"3\">3. Setup prefix variables for various agent resources</a>\n",
    "(<a href=\"#0\">Go to top</a>)\n",
    "\n",
    "\n",
    "This is the same set of instructions for infrastructure setup as provided in Lab 2a and includes:\n",
    "- Setup for prefix variables with various agent resources\n",
    "- Create Lambda function for action group\n",
    "- Define SQL queries inside the Lambda function for each use-case API, followed by testing and deploying the Lambda function\n",
    "- Creating an agent\n",
    "\n"
   ]
  },
  {
   "cell_type": "code",
   "execution_count": 9,
   "metadata": {
    "tags": []
   },
   "outputs": [
    {
     "name": "stderr",
     "output_type": "stream",
     "text": [
      "[2024-06-06 17:58:27,964] p20896 {agents_infra_utils_no_kb_setup.py:53} INFO - random_uuid :: 92976e48-d751-4113-861a-243043df8253 prefix_infra :: l292976e prefix_iam :: l2d751\n",
      "[2024-06-06 17:58:28,289] p20896 {agents_infra_utils_no_kb_setup.py:120} INFO - kb_db_files_path :: retail-kb kb_db_key :: kbdb_l292976e\n",
      "[2024-06-06 17:58:59,701] p20896 {agents_infra_utils_no_kb_setup.py:272} INFO - bucket_name :: l292976e-agent-kb-381492259435 \n",
      " agent_name :: l292976e-agent-kb \n",
      " agent_alias_name :: l292976e-workshop-alias \n",
      " schema_key :: l292976e-agent-kb-schema.json  \n"
     ]
    }
   ],
   "source": [
    "infra_response = setup_agent_infrastructure(schema_filename='retail-agent-openapi.json', \n",
    "                                            kb_db_file_uri='retail-kb', \n",
    "                                            lambda_code_uri='lambda_retail_agent.py')\n"
   ]
  },
  {
   "cell_type": "code",
   "execution_count": 10,
   "metadata": {
    "tags": []
   },
   "outputs": [],
   "source": [
    "agent_name = infra_response[\"agent_name\"]\n",
    "agent_alias_name = infra_response[\"agent_alias_name\"]\n",
    "agent_role = infra_response[\"agent_role\"]\n",
    "bucket_name = infra_response[\"bucket_name\"]\n",
    "schema_key = infra_response[\"schema_key\"]\n",
    "lambda_name = infra_response[\"lambda_name\"]\n",
    "lambda_function = infra_response[\"lambda_function\"]\n",
    "agent_bedrock_policy = infra_response[\"agent_bedrock_policy\"]\n",
    "agent_s3_schema_policy = infra_response[\"agent_s3_schema_policy\"]\n",
    "agent_role_name = infra_response[\"agent_role_name\"]\n",
    "lambda_role_name = infra_response[\"lambda_role_name\"]\n",
    "\n"
   ]
  },
  {
   "cell_type": "markdown",
   "metadata": {},
   "source": [
    "### <a name=\"5\">Creating an agent</a>\n",
    "(<a href=\"#0\">Go to top</a>)\n",
    "\n",
    "\n",
    "Once the needed IAM role is created, we can use the Bedrock agent client to create a new agent. To do so we use the create_agent function. It requires an agent name, underline foundation model and instruction. You can also provide an agent description. Note that the agent created is not yet prepared. We will focus on preparing the agent and then using it to invoke actions and use other APIs\n",
    "\n",
    "As long as the `idleSessionTTLInSeconds` time that you set in the agent configuration has not expired, you maintain the same session with the agent. \n"
   ]
  },
  {
   "cell_type": "code",
   "execution_count": 11,
   "metadata": {
    "tags": []
   },
   "outputs": [],
   "source": [
    "# Create agent\n",
    "# Haiku and Titan Premier works\n",
    "# amazon.titan-text-premier-v1:0 and anthropic.claude-3-haiku-20240307-v1:0\n",
    "agent_instruction = \"\"\"\n",
    "You are an agent that helps customers purchase shoes. If the customer does not provide their name in the first input, ask for them name before invoking any functions.\n",
    "Retrieve customer details like customer ID and preferred activity based on the name. \n",
    "Then check inventory for shoe best fit activity matching customer preferred activity. \n",
    "Generate response with shoe ID, style description and colors based on shoe inventory details. \n",
    "If multiple matches exist, display all of them to the user. \n",
    "After customer indicates they would like to order the shoe, use the shoe ID corresponding to their choice and \n",
    "customer ID from initial customer details received, to place order for the shoe.\"\"\"\n",
    "\n",
    "response = bedrock_agent_client.create_agent(\n",
    "    agentName=agent_name,\n",
    "    agentResourceRoleArn=agent_role['Role']['Arn'],\n",
    "    description=\"Retail agent for shoe purchase.\",\n",
    "    idleSessionTTLInSeconds=3600,\n",
    "    foundationModel=\"anthropic.claude-3-haiku-20240307-v1:0\",\n",
    "    instruction=agent_instruction,\n",
    ")"
   ]
  },
  {
   "cell_type": "code",
   "execution_count": 12,
   "metadata": {},
   "outputs": [
    {
     "data": {
      "text/plain": [
       "'LM2XDYWOVS'"
      ]
     },
     "execution_count": 12,
     "metadata": {},
     "output_type": "execute_result"
    }
   ],
   "source": [
    "agent_id = response['agent']['agentId']\n",
    "agent_id"
   ]
  },
  {
   "cell_type": "markdown",
   "metadata": {},
   "source": [
    "### Create agent action group\n",
    "\n",
    "We will now create and agent action group that uses the lambda function and API schema files created before. The create_agent_action_group function provides this functionality. We will use DRAFT as the agent version since we haven't yet create an agent version or alias. To inform the agent about the action group functionalities, we will provide an action group description containing the functionalities of the action group.\n"
   ]
  },
  {
   "cell_type": "code",
   "execution_count": 13,
   "metadata": {},
   "outputs": [
    {
     "data": {
      "text/plain": [
       "('l292976e-agent-kb-381492259435', 'l292976e-agent-kb-schema.json')"
      ]
     },
     "execution_count": 13,
     "metadata": {},
     "output_type": "execute_result"
    }
   ],
   "source": [
    "bucket_name, schema_key"
   ]
  },
  {
   "cell_type": "code",
   "execution_count": 14,
   "metadata": {},
   "outputs": [],
   "source": [
    "# Pause to make sure agent is created\n",
    "time.sleep(30)\n",
    "# Now, we can configure and create an action group here:\n",
    "agent_action_group_response = bedrock_agent_client.create_agent_action_group(\n",
    "    agentId=agent_id,\n",
    "    agentVersion='DRAFT',\n",
    "    actionGroupExecutor={\n",
    "        'lambda': lambda_function['FunctionArn']\n",
    "    },\n",
    "    actionGroupName='RetailManagementActionGroup',\n",
    "    apiSchema={\n",
    "        's3': {\n",
    "            's3BucketName': bucket_name,\n",
    "            's3ObjectKey': schema_key\n",
    "        }\n",
    "    },\n",
    "    description='Actions for a retail agent that helps customers purchase shoes.'\n",
    ")"
   ]
  },
  {
   "cell_type": "code",
   "execution_count": 15,
   "metadata": {},
   "outputs": [
    {
     "data": {
      "text/plain": [
       "{'ResponseMetadata': {'RequestId': 'fe098c53-749a-4847-b5d9-429bf16fb570',\n",
       "  'HTTPStatusCode': 200,\n",
       "  'HTTPHeaders': {'date': 'Thu, 06 Jun 2024 17:59:30 GMT',\n",
       "   'content-type': 'application/json',\n",
       "   'content-length': '572',\n",
       "   'connection': 'keep-alive',\n",
       "   'x-amzn-requestid': 'fe098c53-749a-4847-b5d9-429bf16fb570',\n",
       "   'x-amz-apigw-id': 'Y9PYXEyPoAMEO4w=',\n",
       "   'x-amzn-trace-id': 'Root=1-6661f902-0f55c2435d28c3083daed775'},\n",
       "  'RetryAttempts': 0},\n",
       " 'agentActionGroup': {'actionGroupExecutor': {'lambda': 'arn:aws:lambda:us-east-1:381492259435:function:l292976e-agent-kb-381492259435'},\n",
       "  'actionGroupId': 'O3RFUK7F9R',\n",
       "  'actionGroupName': 'RetailManagementActionGroup',\n",
       "  'actionGroupState': 'ENABLED',\n",
       "  'agentId': 'LM2XDYWOVS',\n",
       "  'agentVersion': 'DRAFT',\n",
       "  'apiSchema': {'s3': {'s3BucketName': 'l292976e-agent-kb-381492259435',\n",
       "    's3ObjectKey': 'l292976e-agent-kb-schema.json'}},\n",
       "  'createdAt': datetime.datetime(2024, 6, 6, 17, 59, 30, 634833, tzinfo=tzlocal()),\n",
       "  'description': 'Actions for a retail agent that helps customers purchase shoes.',\n",
       "  'updatedAt': datetime.datetime(2024, 6, 6, 17, 59, 30, 634833, tzinfo=tzlocal())}}"
      ]
     },
     "execution_count": 15,
     "metadata": {},
     "output_type": "execute_result"
    }
   ],
   "source": [
    "agent_action_group_response"
   ]
  },
  {
   "cell_type": "markdown",
   "metadata": {},
   "source": [
    "### Allowing agent to invoke action group Lambda\n",
    "\n",
    "Before using our action group, we need to allow our agent to invoke the Lambda function associated to the action group. This is done via resource-based policy. Let's add the resource-based policy to the Lambda function created:\n"
   ]
  },
  {
   "cell_type": "code",
   "execution_count": 16,
   "metadata": {},
   "outputs": [],
   "source": [
    "# Create allow invoke permission on Lambda\n",
    "response = lambda_client.add_permission(\n",
    "    FunctionName=lambda_name,\n",
    "    StatementId='allow_bedrock',\n",
    "    Action='lambda:InvokeFunction',\n",
    "    Principal='bedrock.amazonaws.com',\n",
    "    SourceArn=f\"arn:aws:bedrock:{region}:{account_id}:agent/{agent_id}\",\n",
    ")"
   ]
  },
  {
   "cell_type": "markdown",
   "metadata": {},
   "source": [
    "### Testing agent\n",
    "\n",
    "Let's create a DRAFT version of the agent that can be used for internal testing.\n"
   ]
  },
  {
   "cell_type": "code",
   "execution_count": 17,
   "metadata": {},
   "outputs": [
    {
     "data": {
      "text/plain": [
       "{'ResponseMetadata': {'RequestId': '1b2d20cf-437b-4b5f-9f72-e5f5311b302c',\n",
       "  'HTTPStatusCode': 202,\n",
       "  'HTTPHeaders': {'date': 'Thu, 06 Jun 2024 17:59:30 GMT',\n",
       "   'content-type': 'application/json',\n",
       "   'content-length': '119',\n",
       "   'connection': 'keep-alive',\n",
       "   'x-amzn-requestid': '1b2d20cf-437b-4b5f-9f72-e5f5311b302c',\n",
       "   'x-amz-apigw-id': 'Y9PYfEKXIAMEo0A=',\n",
       "   'x-amzn-trace-id': 'Root=1-6661f902-724e727c694217bd5a7be81d'},\n",
       "  'RetryAttempts': 0},\n",
       " 'agentId': 'LM2XDYWOVS',\n",
       " 'agentStatus': 'PREPARING',\n",
       " 'agentVersion': 'DRAFT',\n",
       " 'preparedAt': datetime.datetime(2024, 6, 6, 17, 59, 30, 934074, tzinfo=tzlocal())}"
      ]
     },
     "execution_count": 17,
     "metadata": {},
     "output_type": "execute_result"
    }
   ],
   "source": [
    "agent_prepare = bedrock_agent_client.prepare_agent(agentId=agent_id)\n",
    "agent_prepare"
   ]
  },
  {
   "cell_type": "markdown",
   "metadata": {},
   "source": [
    "### <a name=\"6\">Deploy agent and create agent alias</a>\n",
    "(<a href=\"#0\">Go to top</a>)\n",
    "\n",
    "We will now create an alias of the agent that can be used to deploy the agent.\n"
   ]
  },
  {
   "cell_type": "code",
   "execution_count": 18,
   "metadata": {},
   "outputs": [],
   "source": [
    "# Pause to make sure agent is prepared\n",
    "time.sleep(10)\n",
    "agent_alias = bedrock_agent_client.create_agent_alias(\n",
    "    agentId=agent_id,\n",
    "    agentAliasName=agent_alias_name\n",
    ")\n",
    "# Pause to make sure agent alias is ready\n",
    "time.sleep(10)"
   ]
  },
  {
   "cell_type": "code",
   "execution_count": 19,
   "metadata": {},
   "outputs": [
    {
     "data": {
      "text/plain": [
       "{'ResponseMetadata': {'RequestId': 'e80b7bb4-28e0-4628-b163-3ddfa3ac36ea',\n",
       "  'HTTPStatusCode': 202,\n",
       "  'HTTPHeaders': {'date': 'Thu, 06 Jun 2024 17:59:41 GMT',\n",
       "   'content-type': 'application/json',\n",
       "   'content-length': '349',\n",
       "   'connection': 'keep-alive',\n",
       "   'x-amzn-requestid': 'e80b7bb4-28e0-4628-b163-3ddfa3ac36ea',\n",
       "   'x-amz-apigw-id': 'Y9PaEGUboAMEqpg=',\n",
       "   'x-amzn-trace-id': 'Root=1-6661f90c-4b2fc158002310d23f85a892'},\n",
       "  'RetryAttempts': 0},\n",
       " 'agentAlias': {'agentAliasArn': 'arn:aws:bedrock:us-east-1:381492259435:agent-alias/LM2XDYWOVS/W4SOFANPKV',\n",
       "  'agentAliasId': 'W4SOFANPKV',\n",
       "  'agentAliasName': 'l292976e-workshop-alias',\n",
       "  'agentAliasStatus': 'CREATING',\n",
       "  'agentId': 'LM2XDYWOVS',\n",
       "  'createdAt': datetime.datetime(2024, 6, 6, 17, 59, 41, 77698, tzinfo=tzlocal()),\n",
       "  'routingConfiguration': [{}],\n",
       "  'updatedAt': datetime.datetime(2024, 6, 6, 17, 59, 41, 77698, tzinfo=tzlocal())}}"
      ]
     },
     "execution_count": 19,
     "metadata": {},
     "output_type": "execute_result"
    }
   ],
   "source": [
    "agent_alias"
   ]
  },
  {
   "cell_type": "markdown",
   "metadata": {},
   "source": [
    "### <a name=\"7\">Invoke agent</a>\n",
    "(<a href=\"#0\">Go to top</a>)\n",
    "\n",
    "Now that we've created the agent, let's use the bedrock-agent-runtime client to invoke this agent and perform some tasks.\n",
    "\n",
    "<b> Note: If your kernel session is active, you will need to re-run this section for any new prompts you want to try once the session is over </b>\n",
    "\n",
    "\n"
   ]
  },
  {
   "cell_type": "code",
   "execution_count": 20,
   "metadata": {},
   "outputs": [
    {
     "name": "stdout",
     "output_type": "stream",
     "text": [
      "agent_alias_id :::: W4SOFANPKV\n",
      "agent_id :::: LM2XDYWOVS\n"
     ]
    }
   ],
   "source": [
    "\n",
    "# Extract the agentAliasId from the response\n",
    "agent_alias_id = agent_alias['agentAlias']['agentAliasId']\n",
    "\n",
    "print(f\"agent_alias_id :::: {agent_alias_id}\")\n",
    "print(f\"agent_id :::: {agent_id}\")"
   ]
  },
  {
   "cell_type": "markdown",
   "metadata": {},
   "source": [
    "### Turn 1 : First user interaction with agent"
   ]
  },
  {
   "cell_type": "code",
   "execution_count": 21,
   "metadata": {
    "scrolled": true,
    "tags": []
   },
   "outputs": [
    {
     "name": "stdout",
     "output_type": "stream",
     "text": [
      "session_id :::: 922e78e2-242e-11ef-8ec6-16fff8208ff5\n"
     ]
    },
    {
     "name": "stderr",
     "output_type": "stream",
     "text": [
      "[2024-06-06 17:59:58,284] p20896 {agents_utils.py:87} INFO - Final answer ->\n",
      "Based on the shoe inventory, here are the running shoes that would be a good fit for you:\n",
      "\n",
      "1. Shoe ID: 1 - Lightweight mesh runners in Red and Blue, $129.98\n",
      "2. Shoe ID: 4 - Breathable mesh runners in Pink and Purple, $67.35 \n",
      "3. Shoe ID: 7 - Cushioned running shoes in Black and Lime, $75.99\n",
      "4. Shoe ID: 10 - Lightweight racing flats in Yellow and Orange, $129.99\n",
      "\n",
      "Please let me know if you would like to order any of these running shoes and I can place the order for you.\n"
     ]
    },
    {
     "name": "stdout",
     "output_type": "stream",
     "text": [
      "CPU times: user 22.1 ms, sys: 8.97 ms, total: 31.1 ms\n",
      "Wall time: 7.15 s\n"
     ]
    }
   ],
   "source": [
    "%%time\n",
    "\n",
    "# first question - turn 1\n",
    "session_id:str = str(uuid.uuid1()) # random identifier\n",
    "enable_trace:bool = True\n",
    "end_session:bool = False\n",
    "final_answer = None\n",
    "\n",
    "print(f\"session_id :::: {session_id}\")\n",
    "# replace this with a prompt relevant to your agent\n",
    "input_text:str = \"Hello, My name is John Doe. I am looking to buy running shoes\" \n",
    "\n",
    "final_answer = invoke_agent_generate_response(bedrock_agent_runtime_client,\n",
    "                                               input_text, \n",
    "                                               agent_id, \n",
    "                                               agent_alias_id, \n",
    "                                               session_id, \n",
    "                                               enable_trace,\n",
    "                                               end_session,\n",
    "                                               trace_filename_prefix = 'lab2a_agent_trace',\n",
    "                                               turn_number = 1)"
   ]
  },
  {
   "cell_type": "code",
   "execution_count": 22,
   "metadata": {},
   "outputs": [
    {
     "data": {
      "text/html": [
       "<table border=\"1\" class=\"dataframe\">\n",
       "  <thead>\n",
       "    <tr style=\"text-align: right;\">\n",
       "      <th></th>\n",
       "      <th>User Question</th>\n",
       "      <th>Agent Answer</th>\n",
       "    </tr>\n",
       "  </thead>\n",
       "  <tbody>\n",
       "    <tr>\n",
       "      <th>0</th>\n",
       "      <td>Hello, My name is John Doe. I am looking to buy running shoes</td>\n",
       "      <td>Based on the shoe inventory, here are the running shoes that would be a good fit for you:<br><br>1. Shoe ID: 1 - Lightweight mesh runners in Red and Blue, \\$129.98<br>2. Shoe ID: 4 - Breathable mesh runners in Pink and Purple, \\$67.35 <br>3. Shoe ID: 7 - Cushioned running shoes in Black and Lime, \\$75.99<br>4. Shoe ID: 10 - Lightweight racing flats in Yellow and Orange, \\$129.99<br><br>Please let me know if you would like to order any of these running shoes and I can place the order for you.</td>\n",
       "    </tr>\n",
       "  </tbody>\n",
       "</table>"
      ],
      "text/plain": [
       "<IPython.core.display.HTML object>"
      ]
     },
     "metadata": {},
     "output_type": "display_data"
    }
   ],
   "source": [
    "# Print the final response for turn-1\n",
    "format_final_response(question=input_text, final_answer=final_answer, lab_number=\"2a\", turn_number=\"1\", gen_sql=False)"
   ]
  },
  {
   "cell_type": "code",
   "execution_count": 43,
   "metadata": {
    "tags": []
   },
   "outputs": [
    {
     "name": "stdout",
     "output_type": "stream",
     "text": [
      "The autoreload extension is already loaded. To reload it, use:\n",
      "  %reload_ext autoreload\n",
      "trace_filename_prefix = lab2a_agent_trace and turn_number = 1\n"
     ]
    },
    {
     "data": {
      "application/vnd.jupyter.widget-view+json": {
       "model_id": "2139f347e79f43969d64bff983fc396c",
       "version_major": 2,
       "version_minor": 0
      },
      "text/plain": [
       "ToggleButtons(button_style='success', description='Agent Trace: (Last Logged trace only) Full trace available …"
      ]
     },
     "metadata": {},
     "output_type": "display_data"
    },
    {
     "data": {
      "application/vnd.jupyter.widget-view+json": {
       "model_id": "9666a8b1fa4f44d398058fc33dc373c4",
       "version_major": 2,
       "version_minor": 0
      },
      "text/plain": [
       "Output(layout=Layout(border_bottom='1px solid black', border_left='1px solid black', border_right='1px solid b…"
      ]
     },
     "metadata": {},
     "output_type": "display_data"
    }
   ],
   "source": [
    "# Deep dive into Agent-workflow steps in each of the tab\n",
    "%load_ext autoreload\n",
    "%autoreload 2\n",
    "from mlu_utils.show_trace_widget import *\n",
    "\n",
    "show_tabs(trace_filename_prefix = 'lab2a_agent_trace', turn_number = 1)\n",
    "display(out_2a_tabs_1)"
   ]
  },
  {
   "cell_type": "code",
   "execution_count": 24,
   "metadata": {},
   "outputs": [],
   "source": [
    "# Wait for tab output async processes to complete\n",
    "#time.sleep(10)"
   ]
  },
  {
   "cell_type": "code",
   "execution_count": 25,
   "metadata": {
    "tags": []
   },
   "outputs": [
    {
     "name": "stdout",
     "output_type": "stream",
     "text": [
      ">>>>>>>> complete_log_path to summarize==> trace_files/full_trace_lab2a_agent_trace_1.log\n"
     ]
    },
    {
     "name": "stderr",
     "output_type": "stream",
     "text": [
      "/home/ec2-user/anaconda3/envs/python3/lib/python3.10/site-packages/langchain_core/_api/deprecation.py:117: LangChainDeprecationWarning: The function `__call__` was deprecated in LangChain 0.1.7 and will be removed in 0.2.0. Use invoke instead.\n",
      "  warn_deprecated(\n"
     ]
    },
    {
     "name": "stdout",
     "output_type": "stream",
     "text": [
      "CPU times: user 139 ms, sys: 19 ms, total: 158 ms\n",
      "Wall time: 4.39 s\n"
     ]
    }
   ],
   "source": [
    "%%time\n",
    "# using Claude-v3 Haiku to generate a summary of the agent's workflow for this conversation turn\n",
    "turn_1_summary = summarize_agent_trace(trace_file_base_path= \"trace_files/\", lab_number=\"2a\", turn_number=\"1\")\n",
    "with out_2a_turn_1_summary:\n",
    "    out_2a_turn_1_summary.clear_output()\n",
    "    display(Markdown(turn_1_summary))\n"
   ]
  },
  {
   "cell_type": "code",
   "execution_count": 26,
   "metadata": {},
   "outputs": [
    {
     "data": {
      "application/vnd.jupyter.widget-view+json": {
       "model_id": "bb0a3029d36d428e873328ac30ca344d",
       "version_major": 2,
       "version_minor": 0
      },
      "text/plain": [
       "Output(layout=Layout(border_bottom='1px solid black', border_left='1px solid black', border_right='1px solid b…"
      ]
     },
     "metadata": {},
     "output_type": "display_data"
    }
   ],
   "source": [
    "## Display the summary of the agent workflow trace\n",
    "display(out_2a_turn_1_summary)"
   ]
  },
  {
   "cell_type": "markdown",
   "metadata": {},
   "source": [
    "### <a name=\"8\">Multi-turn conversations / session context management</a>\n",
    "(<a href=\"#0\">Go to top</a>)\n",
    "\n",
    "\n",
    "In this section, we continue with the same user-session using the `session_id` parameter and answer and ask followup questions to the agent.\n",
    "We call every round of conversation a turn, so therefore this chat session can be considered as a multi-turn conversation.\n"
   ]
  },
  {
   "cell_type": "markdown",
   "metadata": {
    "tags": []
   },
   "source": [
    "### Turn 2 : Second user interaction with agent for same session"
   ]
  },
  {
   "cell_type": "code",
   "execution_count": 27,
   "metadata": {
    "scrolled": true,
    "tags": []
   },
   "outputs": [
    {
     "name": "stdout",
     "output_type": "stream",
     "text": [
      "Session ID :: 922e78e2-242e-11ef-8ec6-16fff8208ff5\n"
     ]
    },
    {
     "name": "stderr",
     "output_type": "stream",
     "text": [
      "[2024-06-06 18:00:06,604] p20896 {agents_utils.py:87} INFO - Final answer ->\n",
      "Sure, let me give you more details on Shoe ID 10:\n",
      "\n",
      "Shoe ID: 10\n",
      "Style Description: Lightweight racing flats\n",
      "Colors: Yellow and Orange\n",
      "Price: $129.99\n",
      "Inventory Count: 912\n",
      "\n",
      "These lightweight racing flats are designed for high-performance running. They feature a breathable mesh upper, flexible midsole, and low-profile design to provide a responsive and efficient ride. The yellow and orange color options would give you a bold, eye-catching look on the trails or roads.\n",
      "\n",
      "With 912 pairs in stock, we have plenty available to fulfill your order. These shoes are a great choice if you're looking for a lightweight, fast-feeling running shoe to take your training or racing to the next level. Let me know if you'd like to go ahead and place an order for this shoe.\n"
     ]
    },
    {
     "name": "stdout",
     "output_type": "stream",
     "text": [
      "CPU times: user 14.4 ms, sys: 460 µs, total: 14.9 ms\n",
      "Wall time: 2.85 s\n"
     ]
    }
   ],
   "source": [
    "%%time\n",
    "# Follow-up question - turn 2\n",
    "print(f\"Session ID :: {session_id}\")\n",
    "enable_trace:bool = True\n",
    "end_session:bool = False\n",
    "\n",
    "# Replace this with a prompt relevant to your agent\n",
    "input_text:str = \"Can you elaborate more about Shoe ID 10?\" \n",
    "\n",
    "final_answer = invoke_agent_generate_response(bedrock_agent_runtime_client,\n",
    "                                               input_text, \n",
    "                                               agent_id, \n",
    "                                               agent_alias_id, \n",
    "                                               session_id, \n",
    "                                               enable_trace,\n",
    "                                               end_session,\n",
    "                                               trace_filename_prefix = 'lab2a_agent_trace',\n",
    "                                               turn_number = 2)"
   ]
  },
  {
   "cell_type": "code",
   "execution_count": 28,
   "metadata": {
    "tags": []
   },
   "outputs": [
    {
     "data": {
      "text/html": [
       "<table border=\"1\" class=\"dataframe\">\n",
       "  <thead>\n",
       "    <tr style=\"text-align: right;\">\n",
       "      <th></th>\n",
       "      <th>User Question</th>\n",
       "      <th>Agent Answer</th>\n",
       "    </tr>\n",
       "  </thead>\n",
       "  <tbody>\n",
       "    <tr>\n",
       "      <th>0</th>\n",
       "      <td>Can you elaborate more about Shoe ID 10?</td>\n",
       "      <td>Sure, let me give you more details on Shoe ID 10:<br><br>Shoe ID: 10<br>Style Description: Lightweight racing flats<br>Colors: Yellow and Orange<br>Price: \\$129.99<br>Inventory Count: 912<br><br>These lightweight racing flats are designed for high-performance running. They feature a breathable mesh upper, flexible midsole, and low-profile design to provide a responsive and efficient ride. The yellow and orange color options would give you a bold, eye-catching look on the trails or roads.<br><br>With 912 pairs in stock, we have plenty available to fulfill your order. These shoes are a great choice if you're looking for a lightweight, fast-feeling running shoe to take your training or racing to the next level. Let me know if you'd like to go ahead and place an order for this shoe.</td>\n",
       "    </tr>\n",
       "  </tbody>\n",
       "</table>"
      ],
      "text/plain": [
       "<IPython.core.display.HTML object>"
      ]
     },
     "metadata": {},
     "output_type": "display_data"
    }
   ],
   "source": [
    "# Print the final response for turn-2\n",
    "format_final_response(question=input_text, final_answer=final_answer, lab_number=\"2a\", turn_number=\"2\", gen_sql=False)"
   ]
  },
  {
   "cell_type": "code",
   "execution_count": 44,
   "metadata": {
    "tags": []
   },
   "outputs": [
    {
     "name": "stdout",
     "output_type": "stream",
     "text": [
      "The autoreload extension is already loaded. To reload it, use:\n",
      "  %reload_ext autoreload\n",
      "trace_filename_prefix = lab2a_agent_trace and turn_number = 2\n"
     ]
    },
    {
     "data": {
      "application/vnd.jupyter.widget-view+json": {
       "model_id": "f3a296bf6248463a847d8b680815cebd",
       "version_major": 2,
       "version_minor": 0
      },
      "text/plain": [
       "ToggleButtons(button_style='success', description='Agent Trace: (Last Logged trace only) Full trace available …"
      ]
     },
     "metadata": {},
     "output_type": "display_data"
    },
    {
     "data": {
      "application/vnd.jupyter.widget-view+json": {
       "model_id": "ed339092b20e4e128f7f7fe757642a46",
       "version_major": 2,
       "version_minor": 0
      },
      "text/plain": [
       "Output(layout=Layout(border_bottom='1px solid black', border_left='1px solid black', border_right='1px solid b…"
      ]
     },
     "metadata": {},
     "output_type": "display_data"
    }
   ],
   "source": [
    "# Deep dive into agent-workflow steps in each of the tab\n",
    "%load_ext autoreload\n",
    "%autoreload 2\n",
    "from mlu_utils.show_trace_widget import *\n",
    "\n",
    "show_tabs(trace_filename_prefix = 'lab2a_agent_trace', turn_number = 2)\n",
    "display(out_2a_tabs_2)"
   ]
  },
  {
   "cell_type": "code",
   "execution_count": 30,
   "metadata": {},
   "outputs": [],
   "source": [
    "# Wait for tab output async processes to complete\n",
    "time.sleep(10)"
   ]
  },
  {
   "cell_type": "code",
   "execution_count": 31,
   "metadata": {},
   "outputs": [
    {
     "name": "stdout",
     "output_type": "stream",
     "text": [
      ">>>>>>>> complete_log_path to summarize==> trace_files/full_trace_lab2a_agent_trace_2.log\n",
      "CPU times: user 14 ms, sys: 38 µs, total: 14 ms\n",
      "Wall time: 3.53 s\n"
     ]
    }
   ],
   "source": [
    "%%time\n",
    "# Using Claude-v3 Haiku to generate a summary of the agent's workflow for this conversation turn\n",
    "turn_2_summary = summarize_agent_trace(trace_file_base_path= \"trace_files/\", lab_number=\"2a\", turn_number=\"2\")\n",
    "with out_2a_turn_2_summary:\n",
    "    out_2a_turn_2_summary.clear_output()\n",
    "    display(Markdown(turn_2_summary))\n"
   ]
  },
  {
   "cell_type": "code",
   "execution_count": 32,
   "metadata": {
    "tags": []
   },
   "outputs": [
    {
     "data": {
      "application/vnd.jupyter.widget-view+json": {
       "model_id": "bcd5bb8b364a480280734519d5936866",
       "version_major": 2,
       "version_minor": 0
      },
      "text/plain": [
       "Output(layout=Layout(border_bottom='1px solid black', border_left='1px solid black', border_right='1px solid b…"
      ]
     },
     "metadata": {},
     "output_type": "display_data"
    }
   ],
   "source": [
    "## Display the summary of the agent workflow trace\n",
    "display(out_2a_turn_2_summary)"
   ]
  },
  {
   "cell_type": "markdown",
   "metadata": {
    "tags": []
   },
   "source": [
    "### Turn 3 : Third user interaction with agent for same session"
   ]
  },
  {
   "cell_type": "code",
   "execution_count": 33,
   "metadata": {
    "scrolled": true,
    "tags": []
   },
   "outputs": [
    {
     "name": "stdout",
     "output_type": "stream",
     "text": [
      "Session ID :: 922e78e2-242e-11ef-8ec6-16fff8208ff5\n"
     ]
    },
    {
     "name": "stderr",
     "output_type": "stream",
     "text": [
      "[2024-06-06 18:00:24,275] p20896 {agents_utils.py:87} INFO - Final answer ->\n",
      "Excellent, I have placed the order for Shoe ID 10 for you, John Doe. The order has been successfully processed. You will receive a confirmation email with the order details shortly. Please let me know if there is anything else I can assist you with.\n"
     ]
    },
    {
     "name": "stdout",
     "output_type": "stream",
     "text": [
      "CPU times: user 10.7 ms, sys: 2.81 ms, total: 13.5 ms\n",
      "Wall time: 3.78 s\n"
     ]
    }
   ],
   "source": [
    "%%time\n",
    "# Follow-up question - turn 3\n",
    "print(f\"Session ID :: {session_id}\")\n",
    "enable_trace:bool = True\n",
    "end_session:bool = False\n",
    "\n",
    "# Replace this with a prompt relevant to your agent\n",
    "input_text:str = \"Place order for shoe ID 10\" \n",
    "\n",
    "final_answer = invoke_agent_generate_response(bedrock_agent_runtime_client,\n",
    "                                               input_text, \n",
    "                                               agent_id, \n",
    "                                               agent_alias_id, \n",
    "                                               session_id, \n",
    "                                               enable_trace,\n",
    "                                               end_session,\n",
    "                                               trace_filename_prefix = 'lab2a_agent_trace',\n",
    "                                               turn_number = 3)"
   ]
  },
  {
   "cell_type": "code",
   "execution_count": 34,
   "metadata": {
    "tags": []
   },
   "outputs": [
    {
     "data": {
      "text/html": [
       "<table border=\"1\" class=\"dataframe\">\n",
       "  <thead>\n",
       "    <tr style=\"text-align: right;\">\n",
       "      <th></th>\n",
       "      <th>User Question</th>\n",
       "      <th>Agent Answer</th>\n",
       "    </tr>\n",
       "  </thead>\n",
       "  <tbody>\n",
       "    <tr>\n",
       "      <th>0</th>\n",
       "      <td>Place order for shoe ID 10</td>\n",
       "      <td>Excellent, I have placed the order for Shoe ID 10 for you, John Doe. The order has been successfully processed. You will receive a confirmation email with the order details shortly. Please let me know if there is anything else I can assist you with.</td>\n",
       "    </tr>\n",
       "  </tbody>\n",
       "</table>"
      ],
      "text/plain": [
       "<IPython.core.display.HTML object>"
      ]
     },
     "metadata": {},
     "output_type": "display_data"
    }
   ],
   "source": [
    "# Print the final response for turn-3\n",
    "format_final_response(question=input_text, final_answer=final_answer, lab_number=\"2a\", turn_number=\"3\", gen_sql=False)"
   ]
  },
  {
   "cell_type": "code",
   "execution_count": 45,
   "metadata": {
    "tags": []
   },
   "outputs": [
    {
     "name": "stdout",
     "output_type": "stream",
     "text": [
      "The autoreload extension is already loaded. To reload it, use:\n",
      "  %reload_ext autoreload\n",
      "trace_filename_prefix = lab2a_agent_trace and turn_number = 3\n"
     ]
    },
    {
     "data": {
      "application/vnd.jupyter.widget-view+json": {
       "model_id": "0a9c55302fe64170afe1c4adfd579cd5",
       "version_major": 2,
       "version_minor": 0
      },
      "text/plain": [
       "ToggleButtons(button_style='success', description='Agent Trace: (Last Logged trace only) Full trace available …"
      ]
     },
     "metadata": {},
     "output_type": "display_data"
    },
    {
     "data": {
      "application/vnd.jupyter.widget-view+json": {
       "model_id": "c6a30d2f69e841e9a79f328113cea741",
       "version_major": 2,
       "version_minor": 0
      },
      "text/plain": [
       "Output(layout=Layout(border_bottom='1px solid black', border_left='1px solid black', border_right='1px solid b…"
      ]
     },
     "metadata": {},
     "output_type": "display_data"
    }
   ],
   "source": [
    "# Deep dive into Agent-workflow steps in each of the tab\n",
    "%load_ext autoreload\n",
    "%autoreload 2\n",
    "from mlu_utils.show_trace_widget import *\n",
    "\n",
    "show_tabs(trace_filename_prefix = 'lab2a_agent_trace', turn_number = 3)\n",
    "display(out_2a_tabs_3)"
   ]
  },
  {
   "cell_type": "code",
   "execution_count": 36,
   "metadata": {},
   "outputs": [],
   "source": [
    "# Wait for tab output async processes to complete\n",
    "time.sleep(10)"
   ]
  },
  {
   "cell_type": "code",
   "execution_count": 37,
   "metadata": {
    "tags": []
   },
   "outputs": [
    {
     "name": "stdout",
     "output_type": "stream",
     "text": [
      ">>>>>>>> complete_log_path to summarize==> trace_files/full_trace_lab2a_agent_trace_3.log\n",
      "CPU times: user 12.7 ms, sys: 121 µs, total: 12.8 ms\n",
      "Wall time: 3.45 s\n"
     ]
    }
   ],
   "source": [
    "%%time\n",
    "# Using Claude-v3 Haiku to generate a summary of the agent's workflow for this conversation turn\n",
    "turn_3_summary = summarize_agent_trace(trace_file_base_path= \"trace_files/\", lab_number=\"2a\", turn_number=\"3\")\n",
    "with out_2a_turn_3_summary:\n",
    "    out_2a_turn_3_summary.clear_output()\n",
    "    display(Markdown(turn_3_summary))\n"
   ]
  },
  {
   "cell_type": "code",
   "execution_count": 38,
   "metadata": {},
   "outputs": [
    {
     "data": {
      "application/vnd.jupyter.widget-view+json": {
       "model_id": "f2fd840fc98046a4ac7485dd397b0070",
       "version_major": 2,
       "version_minor": 0
      },
      "text/plain": [
       "Output(layout=Layout(border_bottom='1px solid black', border_left='1px solid black', border_right='1px solid b…"
      ]
     },
     "metadata": {},
     "output_type": "display_data"
    },
    {
     "name": "stdout",
     "output_type": "stream",
     "text": [
      "CPU times: user 2.13 ms, sys: 0 ns, total: 2.13 ms\n",
      "Wall time: 2 ms\n"
     ]
    }
   ],
   "source": [
    "%%time\n",
    "## Display the summary of the agent workflow trace\n",
    "display(out_2a_turn_3_summary)"
   ]
  },
  {
   "cell_type": "markdown",
   "metadata": {},
   "source": [
    "### <a name=\"9\">[Be Frugal] Clean up resources </a>\n",
    "(<a href=\"#0\">Go to top</a>)\n"
   ]
  },
  {
   "cell_type": "markdown",
   "metadata": {},
   "source": [
    "##### In the following cell, we keep an option to raise an exception to avoid auto-executing the next block of lines and optionally cleanup all resources. This is useful when the `Kernel > run all` option is used.\n",
    "\n",
    "`Please be frugal if you choose to enable this exception in the code cell below. By default it is disabled and all resources will be cleaned up immediately to avoid additional costs.`\n",
    "\n",
    "##### Within the same kernel session, this will allow experimentation with different prompts without having to recreate agent resources (takes ~5 minutes)"
   ]
  },
  {
   "cell_type": "code",
   "execution_count": 39,
   "metadata": {
    "tags": []
   },
   "outputs": [],
   "source": [
    "# This avoids auto-cleanup\n",
    "# Raise Exception('Avoiding Auto-Cleanup of Bedrock Agent Resources')\n"
   ]
  },
  {
   "cell_type": "code",
   "execution_count": 40,
   "metadata": {},
   "outputs": [
    {
     "name": "stdout",
     "output_type": "stream",
     "text": [
      "Cleanup completed >>>>>> \n"
     ]
    }
   ],
   "source": [
    "cleanup_infrastructure(agent_action_group_response, lambda_name, lambda_function, lambda_role_name, agent_id, agent_alias_id, agent_role_name, bucket_name, schema_key, agent_bedrock_policy, agent_s3_schema_policy)"
   ]
  },
  {
   "cell_type": "markdown",
   "metadata": {},
   "source": [
    "### <a name=\"10\">Challenge Exercise and Lab Quiz </a>\n",
    "(<a href=\"#0\">Go to top</a>)"
   ]
  },
  {
   "cell_type": "markdown",
   "metadata": {},
   "source": [
    "### Challenge Exercise \n",
    "\n",
    "<div style=\"border: 4px solid coral; text-align: center; margin: auto;\">\n",
    "    <h2><i>Try it Yourself!</i></h2>\n",
    "    <br>\n",
    "    <p style=\"text-align:center;margin:auto;\"><img src=\"./images/challenge.png\" alt=\"Challenge\" width=\"100\" /> </p>\n",
    "    <p style=\" text-align: center; margin: auto;\">Try the following exercise to harness the power of bedrock agents uptil now:</p>\n",
    "    <br>\n",
    "</div>\n",
    "\n",
    "\n",
    "- Try a new set of conversations/prompts to buy another pair of shoes for the same customer and list inventory\n",
    "- Try adding more customer information in the customer retail SQLite DB like maybe your name and preference of shoes and use that in your prompts"
   ]
  },
  {
   "cell_type": "markdown",
   "metadata": {
    "tags": []
   },
   "source": [
    "---\n",
    "\n",
    "### Lab Quiz\n",
    "\n",
    "Well done on completing the lab! Now, it's time for a brief knowledge assessment.\n",
    "\n",
    "<div style=\"border: 4px solid coral; text-align: center; margin: auto;\">\n",
    "    <h2><i>Try it Yourself!</i></h2>\n",
    "    <br>\n",
    "    <p style=\"text-align:center;margin:auto;\"><img src=\"./images/activity.png\" alt=\"Challenge\" width=\"100\" /> </p>\n",
    "    <p style=\" text-align: center; margin: auto;\">Answer the following questions to test your understanding of bedrock agents uptil now.</p>\n",
    "    <br>\n",
    "</div>\n"
   ]
  },
  {
   "cell_type": "code",
   "execution_count": 41,
   "metadata": {
    "tags": []
   },
   "outputs": [
    {
     "data": {
      "text/html": [
       "\n",
       "        <script>var Quiz=function(){\"use strict\";var M=document.createElement(\"style\");M.textContent=`.quiz-wrapper.svelte-fk6ar3{padding:1rem}.footer.svelte-fk6ar3{display:flex;align-items:center}h2.svelte-fk6ar3{font-size:1.5rem;margin-bottom:2rem;color:#232f3e}p.svelte-fk6ar3{font-size:16px}.options.svelte-fk6ar3{display:grid;grid-template-columns:repeat(2,50%);grid-template-rows:repeat(2,1fr);width:100%;margin:auto;justify-content:center}.mlu-quizquestion-option-button.svelte-fk6ar3{padding:1rem;margin:.5rem}.submit-button.svelte-fk6ar3{padding:1rem;margin:.5rem;width:90px;color:#fff;background-color:coral}.active.svelte-fk6ar3{background-color:#232f3e;color:#fff}.correct-answer.svelte-fk6ar3{background-color:green}.incorrect-answer.svelte-fk6ar3{background-color:red;text-decoration:line-through}.available.svelte-fk6ar3{pointer-events:none;opacity:.6}\n",
       "`,document.head.appendChild(M);function I(){}function P(e){return e()}function W(){return Object.create(null)}function O(e){e.forEach(P)}function X(e){return typeof e==\"function\"}function Z(e,t){return e!=e?t==t:e!==t||e&&typeof e==\"object\"||typeof e==\"function\"}function x(e){return Object.keys(e).length===0}function m(e,t){e.appendChild(t)}function j(e,t,n){e.insertBefore(t,n||null)}function z(e){e.parentNode&&e.parentNode.removeChild(e)}function ee(e,t){for(let n=0;n<e.length;n+=1)e[n]&&e[n].d(t)}function k(e){return document.createElement(e)}function A(e){return document.createTextNode(e)}function S(){return A(\" \")}function te(){return A(\"\")}function Y(e,t,n,r){return e.addEventListener(t,n,r),()=>e.removeEventListener(t,n,r)}function v(e,t,n){n==null?e.removeAttribute(t):e.getAttribute(t)!==n&&e.setAttribute(t,n)}function ne(e){return Array.from(e.childNodes)}function T(e,t){t=\"\"+t,e.wholeText!==t&&(e.data=t)}function p(e,t,n){e.classList[n?\"add\":\"remove\"](t)}let L;function N(e){L=e}const $=[],D=[],Q=[],F=[],re=Promise.resolve();let B=!1;function oe(){B||(B=!0,re.then(H))}function R(e){Q.push(e)}const G=new Set;let E=0;function H(){if(E!==0)return;const e=L;do{try{for(;E<$.length;){const t=$[E];E++,N(t),le(t.$$)}}catch(t){throw $.length=0,E=0,t}for(N(null),$.length=0,E=0;D.length;)D.pop()();for(let t=0;t<Q.length;t+=1){const n=Q[t];G.has(n)||(G.add(n),n())}Q.length=0}while($.length);for(;F.length;)F.pop()();B=!1,G.clear(),N(e)}function le(e){if(e.fragment!==null){e.update(),O(e.before_update);const t=e.dirty;e.dirty=[-1],e.fragment&&e.fragment.p(e.ctx,t),e.after_update.forEach(R)}}const ie=new Set;function se(e,t){e&&e.i&&(ie.delete(e),e.i(t))}function ce(e,t,n,r){const{fragment:l,after_update:i}=e.$$;l&&l.m(t,n),r||R(()=>{const s=e.$$.on_mount.map(P).filter(X);e.$$.on_destroy?e.$$.on_destroy.push(...s):O(s),e.$$.on_mount=[]}),i.forEach(R)}function fe(e,t){const n=e.$$;n.fragment!==null&&(O(n.on_destroy),n.fragment&&n.fragment.d(t),n.on_destroy=n.fragment=null,n.ctx=[])}function ue(e,t){e.$$.dirty[0]===-1&&($.push(e),oe(),e.$$.dirty.fill(0)),e.$$.dirty[t/31|0]|=1<<t%31}function ae(e,t,n,r,l,i,s,g=[-1]){const c=L;N(e);const o=e.$$={fragment:null,ctx:[],props:i,update:I,not_equal:l,bound:W(),on_mount:[],on_destroy:[],on_disconnect:[],before_update:[],after_update:[],context:new Map(t.context||(c?c.$$.context:[])),callbacks:W(),dirty:g,skip_bound:!1,root:t.target||c.$$.root};s&&s(o.root);let b=!1;if(o.ctx=n?n(e,t.props||{},(a,q,...y)=>{const h=y.length?y[0]:q;return o.ctx&&l(o.ctx[a],o.ctx[a]=h)&&(!o.skip_bound&&o.bound[a]&&o.bound[a](h),b&&ue(e,a)),q}):[],o.update(),b=!0,O(o.before_update),o.fragment=r?r(o.ctx):!1,t.target){if(t.hydrate){const a=ne(t.target);o.fragment&&o.fragment.l(a),a.forEach(z)}else o.fragment&&o.fragment.c();t.intro&&se(e.$$.fragment),ce(e,t.target,t.anchor,t.customElement),H()}N(c)}class de{$destroy(){fe(this,1),this.$destroy=I}$on(t,n){if(!X(n))return I;const r=this.$$.callbacks[t]||(this.$$.callbacks[t]=[]);return r.push(n),()=>{const l=r.indexOf(n);l!==-1&&r.splice(l,1)}}$set(t){this.$$set&&!x(t)&&(this.$$.skip_bound=!0,this.$$set(t),this.$$.skip_bound=!1)}}const be=\"\";function J(e,t,n){const r=e.slice();return r[11]=t[n],r[13]=n,r}function K(e){let t,n=e[11]+\"\",r,l,i,s;function g(){return e[9](e[13])}return{c(){t=k(\"button\"),r=A(n),l=S(),v(t,\"class\",\"mlu-quizquestion-option-button button svelte-fk6ar3\"),p(t,\"active\",e[5]===e[13]),p(t,\"correct-answer\",e[1]&&e[5]===e[13]&&e[2]==e[0].correctIndex),p(t,\"incorrect-answer\",e[1]&&e[5]===e[13]&&e[2]!=e[0].correctIndex),p(t,\"available\",e[4]&&e[1])},m(c,o){j(c,t,o),m(t,r),m(t,l),i||(s=Y(t,\"click\",g),i=!0)},p(c,o){e=c,o&1&&n!==(n=e[11]+\"\")&&T(r,n),o&32&&p(t,\"active\",e[5]===e[13]),o&39&&p(t,\"correct-answer\",e[1]&&e[5]===e[13]&&e[2]==e[0].correctIndex),o&39&&p(t,\"incorrect-answer\",e[1]&&e[5]===e[13]&&e[2]!=e[0].correctIndex),o&18&&p(t,\"available\",e[4]&&e[1])},d(c){c&&z(t),i=!1,s()}}}function U(e){let t;function n(i,s){return i[3]==!0?he:_e}let r=n(e),l=r(e);return{c(){l.c(),t=te()},m(i,s){l.m(i,s),j(i,t,s)},p(i,s){r!==(r=n(i))&&(l.d(1),l=r(i),l&&(l.c(),l.m(t.parentNode,t)))},d(i){l.d(i),i&&z(t)}}}function _e(e){let t;return{c(){t=k(\"p\"),t.textContent=\"This is not the correct answer. Try again!\",v(t,\"class\",\"svelte-fk6ar3\")},m(n,r){j(n,t,r)},d(n){n&&z(t)}}}function he(e){let t;return{c(){t=k(\"p\"),t.textContent=\"Good! You got the correct answer.\",v(t,\"class\",\"svelte-fk6ar3\")},m(n,r){j(n,t,r)},d(n){n&&z(t)}}}function me(e){let t,n,r=e[0].question+\"\",l,i,s,g,c,o,b=e[1]?\"Retry\":\"Submit\",a,q,y,h,C=e[0].options,d=[];for(let f=0;f<C.length;f+=1)d[f]=K(J(e,C,f));let _=e[1]&&U(e);return{c(){t=k(\"div\"),n=k(\"h2\"),l=A(r),i=S(),s=k(\"div\");for(let f=0;f<d.length;f+=1)d[f].c();g=S(),c=k(\"div\"),o=k(\"button\"),a=A(b),q=S(),_&&_.c(),v(n,\"class\",\"svelte-fk6ar3\"),v(s,\"class\",\"options svelte-fk6ar3\"),v(o,\"class\",\"submit-button svelte-fk6ar3\"),p(o,\"available\",!e[4]),v(c,\"class\",\"footer svelte-fk6ar3\"),v(t,\"class\",\"quiz-wrapper svelte-fk6ar3\")},m(f,w){j(f,t,w),m(t,n),m(n,l),m(t,i),m(t,s);for(let u=0;u<d.length;u+=1)d[u].m(s,null);m(t,g),m(t,c),m(c,o),m(o,a),m(c,q),_&&_.m(c,null),y||(h=Y(o,\"click\",e[10]),y=!0)},p(f,[w]){if(w&1&&r!==(r=f[0].question+\"\")&&T(l,r),w&311){C=f[0].options;let u;for(u=0;u<C.length;u+=1){const V=J(f,C,u);d[u]?d[u].p(V,w):(d[u]=K(V),d[u].c(),d[u].m(s,null))}for(;u<d.length;u+=1)d[u].d(1);d.length=C.length}w&2&&b!==(b=f[1]?\"Retry\":\"Submit\")&&T(a,b),w&16&&p(o,\"available\",!f[4]),f[1]?_?_.p(f,w):(_=U(f),_.c(),_.m(c,null)):_&&(_.d(1),_=null)},i:I,o:I,d(f){f&&z(t),ee(d,f),_&&_.d(),y=!1,h()}}}function pe(e,t,n){let{question:r={question:\"Who didn't attend this meeting?\",options:[\"Xin\",\"Anand\",\"Brent\"],correctIndex:2}}=t,l=!1,i=-1,s=\"no\",g=!1,c;function o(){n(4,g=!1),n(1,l=!1),n(2,i=-1),n(5,c=-1),n(3,s=\"no\")}function b(){n(1,l=!0),n(3,s=i==r.correctIndex)}function a(h){n(4,g=!0),n(2,i=h),n(5,c=h)}const q=h=>a(h),y=()=>l?o():b();return e.$$set=h=>{\"question\"in h&&n(0,r=h.question)},[r,l,i,s,g,c,o,b,a,q,y]}class ge extends de{constructor(t){super(),ae(this,t,pe,me,Z,{question:0})}}return ge}();\n",
       "</script>\n",
       "        \n",
       "        <div id=\"Quiz-2b43d66b\"></div>\n",
       "        <script>\n",
       "        (() => {\n",
       "            var data = {\n",
       "\"question\": {\n",
       "\"question\": \"What are some of the valid forms of retrieval?\",\n",
       "\"options\": [\n",
       "\"Rule Based\",\n",
       "\"Transactional\",\n",
       "\"Semantic Search\",\n",
       "\"All of the above\"\n",
       "],\n",
       "\"correctIndex\": 3\n",
       "}\n",
       "};\n",
       "            window.Quiz_data = data;\n",
       "            var Quiz_inst = new Quiz({\n",
       "                \"target\": document.getElementById(\"Quiz-2b43d66b\"),\n",
       "                \"props\": data\n",
       "            });\n",
       "        })();\n",
       "        </script>\n",
       "        \n",
       "        "
      ],
      "text/plain": [
       "<mlu_utils.agents_quiz.Quiz at 0x7f35833d01c0>"
      ]
     },
     "execution_count": 41,
     "metadata": {},
     "output_type": "execute_result"
    }
   ],
   "source": [
    "from mlu_utils.agents_quiz import *\n",
    "\n",
    "lab2a_question1"
   ]
  },
  {
   "cell_type": "code",
   "execution_count": 42,
   "metadata": {
    "tags": []
   },
   "outputs": [
    {
     "data": {
      "text/html": [
       "\n",
       "        <script>var Quiz=function(){\"use strict\";var M=document.createElement(\"style\");M.textContent=`.quiz-wrapper.svelte-fk6ar3{padding:1rem}.footer.svelte-fk6ar3{display:flex;align-items:center}h2.svelte-fk6ar3{font-size:1.5rem;margin-bottom:2rem;color:#232f3e}p.svelte-fk6ar3{font-size:16px}.options.svelte-fk6ar3{display:grid;grid-template-columns:repeat(2,50%);grid-template-rows:repeat(2,1fr);width:100%;margin:auto;justify-content:center}.mlu-quizquestion-option-button.svelte-fk6ar3{padding:1rem;margin:.5rem}.submit-button.svelte-fk6ar3{padding:1rem;margin:.5rem;width:90px;color:#fff;background-color:coral}.active.svelte-fk6ar3{background-color:#232f3e;color:#fff}.correct-answer.svelte-fk6ar3{background-color:green}.incorrect-answer.svelte-fk6ar3{background-color:red;text-decoration:line-through}.available.svelte-fk6ar3{pointer-events:none;opacity:.6}\n",
       "`,document.head.appendChild(M);function I(){}function P(e){return e()}function W(){return Object.create(null)}function O(e){e.forEach(P)}function X(e){return typeof e==\"function\"}function Z(e,t){return e!=e?t==t:e!==t||e&&typeof e==\"object\"||typeof e==\"function\"}function x(e){return Object.keys(e).length===0}function m(e,t){e.appendChild(t)}function j(e,t,n){e.insertBefore(t,n||null)}function z(e){e.parentNode&&e.parentNode.removeChild(e)}function ee(e,t){for(let n=0;n<e.length;n+=1)e[n]&&e[n].d(t)}function k(e){return document.createElement(e)}function A(e){return document.createTextNode(e)}function S(){return A(\" \")}function te(){return A(\"\")}function Y(e,t,n,r){return e.addEventListener(t,n,r),()=>e.removeEventListener(t,n,r)}function v(e,t,n){n==null?e.removeAttribute(t):e.getAttribute(t)!==n&&e.setAttribute(t,n)}function ne(e){return Array.from(e.childNodes)}function T(e,t){t=\"\"+t,e.wholeText!==t&&(e.data=t)}function p(e,t,n){e.classList[n?\"add\":\"remove\"](t)}let L;function N(e){L=e}const $=[],D=[],Q=[],F=[],re=Promise.resolve();let B=!1;function oe(){B||(B=!0,re.then(H))}function R(e){Q.push(e)}const G=new Set;let E=0;function H(){if(E!==0)return;const e=L;do{try{for(;E<$.length;){const t=$[E];E++,N(t),le(t.$$)}}catch(t){throw $.length=0,E=0,t}for(N(null),$.length=0,E=0;D.length;)D.pop()();for(let t=0;t<Q.length;t+=1){const n=Q[t];G.has(n)||(G.add(n),n())}Q.length=0}while($.length);for(;F.length;)F.pop()();B=!1,G.clear(),N(e)}function le(e){if(e.fragment!==null){e.update(),O(e.before_update);const t=e.dirty;e.dirty=[-1],e.fragment&&e.fragment.p(e.ctx,t),e.after_update.forEach(R)}}const ie=new Set;function se(e,t){e&&e.i&&(ie.delete(e),e.i(t))}function ce(e,t,n,r){const{fragment:l,after_update:i}=e.$$;l&&l.m(t,n),r||R(()=>{const s=e.$$.on_mount.map(P).filter(X);e.$$.on_destroy?e.$$.on_destroy.push(...s):O(s),e.$$.on_mount=[]}),i.forEach(R)}function fe(e,t){const n=e.$$;n.fragment!==null&&(O(n.on_destroy),n.fragment&&n.fragment.d(t),n.on_destroy=n.fragment=null,n.ctx=[])}function ue(e,t){e.$$.dirty[0]===-1&&($.push(e),oe(),e.$$.dirty.fill(0)),e.$$.dirty[t/31|0]|=1<<t%31}function ae(e,t,n,r,l,i,s,g=[-1]){const c=L;N(e);const o=e.$$={fragment:null,ctx:[],props:i,update:I,not_equal:l,bound:W(),on_mount:[],on_destroy:[],on_disconnect:[],before_update:[],after_update:[],context:new Map(t.context||(c?c.$$.context:[])),callbacks:W(),dirty:g,skip_bound:!1,root:t.target||c.$$.root};s&&s(o.root);let b=!1;if(o.ctx=n?n(e,t.props||{},(a,q,...y)=>{const h=y.length?y[0]:q;return o.ctx&&l(o.ctx[a],o.ctx[a]=h)&&(!o.skip_bound&&o.bound[a]&&o.bound[a](h),b&&ue(e,a)),q}):[],o.update(),b=!0,O(o.before_update),o.fragment=r?r(o.ctx):!1,t.target){if(t.hydrate){const a=ne(t.target);o.fragment&&o.fragment.l(a),a.forEach(z)}else o.fragment&&o.fragment.c();t.intro&&se(e.$$.fragment),ce(e,t.target,t.anchor,t.customElement),H()}N(c)}class de{$destroy(){fe(this,1),this.$destroy=I}$on(t,n){if(!X(n))return I;const r=this.$$.callbacks[t]||(this.$$.callbacks[t]=[]);return r.push(n),()=>{const l=r.indexOf(n);l!==-1&&r.splice(l,1)}}$set(t){this.$$set&&!x(t)&&(this.$$.skip_bound=!0,this.$$set(t),this.$$.skip_bound=!1)}}const be=\"\";function J(e,t,n){const r=e.slice();return r[11]=t[n],r[13]=n,r}function K(e){let t,n=e[11]+\"\",r,l,i,s;function g(){return e[9](e[13])}return{c(){t=k(\"button\"),r=A(n),l=S(),v(t,\"class\",\"mlu-quizquestion-option-button button svelte-fk6ar3\"),p(t,\"active\",e[5]===e[13]),p(t,\"correct-answer\",e[1]&&e[5]===e[13]&&e[2]==e[0].correctIndex),p(t,\"incorrect-answer\",e[1]&&e[5]===e[13]&&e[2]!=e[0].correctIndex),p(t,\"available\",e[4]&&e[1])},m(c,o){j(c,t,o),m(t,r),m(t,l),i||(s=Y(t,\"click\",g),i=!0)},p(c,o){e=c,o&1&&n!==(n=e[11]+\"\")&&T(r,n),o&32&&p(t,\"active\",e[5]===e[13]),o&39&&p(t,\"correct-answer\",e[1]&&e[5]===e[13]&&e[2]==e[0].correctIndex),o&39&&p(t,\"incorrect-answer\",e[1]&&e[5]===e[13]&&e[2]!=e[0].correctIndex),o&18&&p(t,\"available\",e[4]&&e[1])},d(c){c&&z(t),i=!1,s()}}}function U(e){let t;function n(i,s){return i[3]==!0?he:_e}let r=n(e),l=r(e);return{c(){l.c(),t=te()},m(i,s){l.m(i,s),j(i,t,s)},p(i,s){r!==(r=n(i))&&(l.d(1),l=r(i),l&&(l.c(),l.m(t.parentNode,t)))},d(i){l.d(i),i&&z(t)}}}function _e(e){let t;return{c(){t=k(\"p\"),t.textContent=\"This is not the correct answer. Try again!\",v(t,\"class\",\"svelte-fk6ar3\")},m(n,r){j(n,t,r)},d(n){n&&z(t)}}}function he(e){let t;return{c(){t=k(\"p\"),t.textContent=\"Good! You got the correct answer.\",v(t,\"class\",\"svelte-fk6ar3\")},m(n,r){j(n,t,r)},d(n){n&&z(t)}}}function me(e){let t,n,r=e[0].question+\"\",l,i,s,g,c,o,b=e[1]?\"Retry\":\"Submit\",a,q,y,h,C=e[0].options,d=[];for(let f=0;f<C.length;f+=1)d[f]=K(J(e,C,f));let _=e[1]&&U(e);return{c(){t=k(\"div\"),n=k(\"h2\"),l=A(r),i=S(),s=k(\"div\");for(let f=0;f<d.length;f+=1)d[f].c();g=S(),c=k(\"div\"),o=k(\"button\"),a=A(b),q=S(),_&&_.c(),v(n,\"class\",\"svelte-fk6ar3\"),v(s,\"class\",\"options svelte-fk6ar3\"),v(o,\"class\",\"submit-button svelte-fk6ar3\"),p(o,\"available\",!e[4]),v(c,\"class\",\"footer svelte-fk6ar3\"),v(t,\"class\",\"quiz-wrapper svelte-fk6ar3\")},m(f,w){j(f,t,w),m(t,n),m(n,l),m(t,i),m(t,s);for(let u=0;u<d.length;u+=1)d[u].m(s,null);m(t,g),m(t,c),m(c,o),m(o,a),m(c,q),_&&_.m(c,null),y||(h=Y(o,\"click\",e[10]),y=!0)},p(f,[w]){if(w&1&&r!==(r=f[0].question+\"\")&&T(l,r),w&311){C=f[0].options;let u;for(u=0;u<C.length;u+=1){const V=J(f,C,u);d[u]?d[u].p(V,w):(d[u]=K(V),d[u].c(),d[u].m(s,null))}for(;u<d.length;u+=1)d[u].d(1);d.length=C.length}w&2&&b!==(b=f[1]?\"Retry\":\"Submit\")&&T(a,b),w&16&&p(o,\"available\",!f[4]),f[1]?_?_.p(f,w):(_=U(f),_.c(),_.m(c,null)):_&&(_.d(1),_=null)},i:I,o:I,d(f){f&&z(t),ee(d,f),_&&_.d(),y=!1,h()}}}function pe(e,t,n){let{question:r={question:\"Who didn't attend this meeting?\",options:[\"Xin\",\"Anand\",\"Brent\"],correctIndex:2}}=t,l=!1,i=-1,s=\"no\",g=!1,c;function o(){n(4,g=!1),n(1,l=!1),n(2,i=-1),n(5,c=-1),n(3,s=\"no\")}function b(){n(1,l=!0),n(3,s=i==r.correctIndex)}function a(h){n(4,g=!0),n(2,i=h),n(5,c=h)}const q=h=>a(h),y=()=>l?o():b();return e.$$set=h=>{\"question\"in h&&n(0,r=h.question)},[r,l,i,s,g,c,o,b,a,q,y]}class ge extends de{constructor(t){super(),ae(this,t,pe,me,Z,{question:0})}}return ge}();\n",
       "</script>\n",
       "        \n",
       "        <div id=\"Quiz-13d724e2\"></div>\n",
       "        <script>\n",
       "        (() => {\n",
       "            var data = {\n",
       "\"question\": {\n",
       "\"question\": \"We should choose RAG if real-time data is required. (for example, weather for a zip code right now)\",\n",
       "\"options\": [\n",
       "\"True, RAG works\",\n",
       "\"False, Tools/API are the appropriate choice\"\n",
       "],\n",
       "\"correctIndex\": 1\n",
       "}\n",
       "};\n",
       "            window.Quiz_data = data;\n",
       "            var Quiz_inst = new Quiz({\n",
       "                \"target\": document.getElementById(\"Quiz-13d724e2\"),\n",
       "                \"props\": data\n",
       "            });\n",
       "        })();\n",
       "        </script>\n",
       "        \n",
       "        "
      ],
      "text/plain": [
       "<mlu_utils.agents_quiz.Quiz at 0x7f35833d08e0>"
      ]
     },
     "execution_count": 42,
     "metadata": {},
     "output_type": "execute_result"
    }
   ],
   "source": [
    "lab2a_question2"
   ]
  },
  {
   "cell_type": "code",
   "execution_count": null,
   "metadata": {},
   "outputs": [],
   "source": []
  }
 ],
 "metadata": {
  "kernelspec": {
   "display_name": "conda_python3",
   "language": "python",
   "name": "conda_python3"
  },
  "language_info": {
   "codemirror_mode": {
    "name": "ipython",
    "version": 3
   },
   "file_extension": ".py",
   "mimetype": "text/x-python",
   "name": "python",
   "nbconvert_exporter": "python",
   "pygments_lexer": "ipython3",
   "version": "3.10.14"
  }
 },
 "nbformat": 4,
 "nbformat_minor": 4
}
