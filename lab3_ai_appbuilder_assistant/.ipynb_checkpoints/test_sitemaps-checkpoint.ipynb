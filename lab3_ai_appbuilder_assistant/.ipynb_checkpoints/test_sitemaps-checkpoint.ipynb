{
 "cells": [
  {
   "cell_type": "markdown",
   "id": "d61bbdf3-d01c-4e14-9a8b-73d9e8d9809f",
   "metadata": {},
   "source": [
    "## test ingestion\n"
   ]
  },
  {
   "cell_type": "code",
   "execution_count": 1,
   "id": "88d13c78-b135-47f8-bb66-abd0f872bf94",
   "metadata": {
    "tags": []
   },
   "outputs": [],
   "source": [
    "#%%capture\n",
    "!pip3 install opensearch-py\n",
    "!pip3 install requests-aws4auth\n",
    "!pip3 install -U boto3\n",
    "!pip3 install -U botocore\n",
    "!pip3 install -U awscli\n",
    "\n",
    "## ingest\n",
    "!pip3 install -U langchain\n",
    "\n",
    "!pip install --upgrade --quiet  nest_asyncio\n",
    "!pip install lxml\n",
    "\n",
    "'''\n",
    "!pip install fake_useragent\n",
    "!pip install --upgrade --quiet  \"unstructured[all-docs]\"\n",
    "'''"
   ]
  },
  {
   "cell_type": "code",
   "execution_count": 2,
   "id": "d1ff5100-6ce7-4c02-8592-8376a710a5bb",
   "metadata": {
    "tags": []
   },
   "outputs": [
    {
     "name": "stderr",
     "output_type": "stream",
     "text": [
      "Exception ignored in: <bound method IPythonKernel._clean_thread_parent_frames of <ipykernel.ipkernel.IPythonKernel object at 0x7f7a981df940>>\n",
      "Traceback (most recent call last):\n",
      "  File \"/home/ec2-user/anaconda3/envs/pytorch_p310/lib/python3.10/site-packages/ipykernel/ipkernel.py\", line 770, in _clean_thread_parent_frames\n",
      "    def _clean_thread_parent_frames(\n",
      "KeyboardInterrupt: \n",
      "\n",
      "KeyboardInterrupt\n",
      "\n"
     ]
    }
   ],
   "source": [
    "import logging\n",
    "import boto3\n",
    "import random\n",
    "import time\n",
    "import zipfile\n",
    "from io import BytesIO\n",
    "import json\n",
    "import uuid\n",
    "import pprint\n",
    "import os\n",
    "from opensearchpy import OpenSearch, RequestsHttpConnection\n",
    "from requests_aws4auth import AWS4Auth\n",
    "from fetch_aws_best_practices import *\n",
    "\n",
    "from mlu_utils.agents_utils import *\n"
   ]
  },
  {
   "cell_type": "code",
   "execution_count": null,
   "id": "f7b36160-714c-4bfc-81c2-9349ef34131f",
   "metadata": {
    "tags": []
   },
   "outputs": [],
   "source": [
    "# setting logger\n",
    "logging.basicConfig(format='[%(asctime)s] p%(process)s {%(filename)s:%(lineno)d} %(levelname)s - %(message)s', level=logging.INFO)\n",
    "logger = logging.getLogger(__name__)\n",
    "\n",
    "pp = pprint.PrettyPrinter(width=41, compact=True)"
   ]
  },
  {
   "cell_type": "code",
   "execution_count": null,
   "id": "6faa3568-897d-4184-864c-087d7a0c27e8",
   "metadata": {
    "tags": []
   },
   "outputs": [],
   "source": [
    "get_aws_best_practices()"
   ]
  },
  {
   "cell_type": "code",
   "execution_count": null,
   "id": "95ab3504-4c6e-476d-9f36-e47e12682b3c",
   "metadata": {},
   "outputs": [],
   "source": []
  }
 ],
 "metadata": {
  "kernelspec": {
   "display_name": "conda_pytorch_p310",
   "language": "python",
   "name": "conda_pytorch_p310"
  },
  "language_info": {
   "codemirror_mode": {
    "name": "ipython",
    "version": 3
   },
   "file_extension": ".py",
   "mimetype": "text/x-python",
   "name": "python",
   "nbconvert_exporter": "python",
   "pygments_lexer": "ipython3",
   "version": "3.10.13"
  }
 },
 "nbformat": 4,
 "nbformat_minor": 5
}
