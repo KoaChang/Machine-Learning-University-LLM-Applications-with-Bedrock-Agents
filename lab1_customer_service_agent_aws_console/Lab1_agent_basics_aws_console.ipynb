{
 "cells": [
  {
   "cell_type": "markdown",
   "id": "1ffe3757-c786-4f3b-8ad4-225ce90b9f24",
   "metadata": {},
   "source": [
    "<p style=\"padding: 10px; border: 1px solid black;\">\n",
    "<img src=\"../images/MLU-NEW-logo.png\" alt=\"drawing\" width=\"400\"/> <br/>\n",
    "\n",
    "\n",
    "# <a name=\"0\">Building Applications with Bedrock Agents</a>\n",
    "## <a name=\"0\">Lab 1: Amazon Bedrock Agent Basics with AWS console</a>\n",
    "\n",
    "\n",
    "This lab demonstrates how to build a foundation model (FM) powered customer service bot with Agents for Amazon Bedrock. Reference: [Build a foundation model (FM) powered customer service bot with agents for Amazon Bedrock](https://aws.amazon.com/blogs/machine-learning/build-a-foundation-model-fm-powered-customer-service-bot-with-agents-for-amazon-bedrock/).\n",
    "\n",
    "\n",
    "It demonstrates how to:\n",
    "1. Select the underlying foundation model (FM) for your agent \n",
    "2. Provide a clear and concise agent instruction \n",
    "3. Create an action group with an API Schema and a Lambda function \n",
    "4. Test and deploy your agent\n",
    "5. Create a knowledge base using the AWS console\n",
    "\n",
    "This folder contains the API schema, AWS Lambda function and SQLite database required for the use case.\n",
    "You can find detailed instructions on how to create the Agent using the AWS console on the [Bedrock Workshop](https://catalog.us-east-1.prod.workshops.aws/workshops/a4bdb007-5600-4368-81c5-ff5b4154f518/en-US/90-agents)\n",
    "\n",
    "\n",
    "We provide a step-by-step guide with building blocks to create a customer service bot. We use a text generation model ([Anthropic Claude V2](https://www.anthropic.com/index/claude-2)) and agents for Amazon Bedrock for this solution. Then we walk you through steps to create an agent for Amazon Bedrock.\n",
    "\n",
    "\n",
    "<div style=\"border: 4px solid coral; text-align: left; margin: auto; padding-left: 20px; padding-right: 20px\">\n",
    "    <h4>This lab avoids auto-cleans up resources to allow you to create agent(s) with the provisioned resources. </h4>\n",
    "    You can visit this section (<a href=\"#10\"> Clean-up Resources</a>) to change the setting. Please run clean-up resources after you are done with experiments. <br/>\n",
    "</div>\n",
    "<br/>\n",
    "\n",
    "1. <a href=\"#1\">How do agents work?</a>\n",
    "2. <a href=\"#2\">Lab Use Case: Retail agent solution overview</a>\n",
    "3. <a href=\"#3\">Script-based provisioning of agent support infrastructure like S3, Lambda, IAM resources</a>\n",
    "4. <a href=\"#4\">[USE THESE VALUES FOR All LAB TO-DO(s) SECTION] Parameter values for infrastructure components like S3, Lambda, IAM, Agent created via scripts</a>\n",
    "5. <a href=\"#5\"> Walkthrough of all infrastructure components created via script</a>\n",
    "6. <a href=\"#6\">[LAB TO-DO(s)] Setting up action groups</a>\n",
    "7. <a href=\"#7\">[LAB TO-DO(s)] Bedrock agent setup</a>\n",
    "8. <a href=\"#8\">[LAB TO-DO(s)] Testing agent</a>\n",
    "9. <a href=\"#9\">[LAB TO-DO(s)] Deploying agent</a>\n",
    "10. <a href=\"#10\">[LAB TO-DO(s)] Resource cleanup</a>\n",
    "11. <a href=\"#11\">Challenge exercise and lab quiz</a>\n",
    "12. <a href=\"#12\">[LAB EXTRA(S)]Create knowledge base via AWS console</a>\n",
    "13. <a href=\"#12\">Conclusion</a>\n",
    "    \n",
    "\n",
    "Please work on the steps from the top to the bottom of this notebook and don't skip sections as this could lead to error messages due to missing code/components.\n",
    "\n",
    "---\n",
    "\n",
    "You will be presented with two kinds of exercises throughout the notebook: Activities and challenges. <br/>\n",
    "\n",
    "| <img style=\"float: center;\" src=\"../images/activity.png\" alt=\"Activity\" width=\"125\"/>| <img style=\"float: center;\" src=\"../images/challenge.png\" alt=\"Challenge\" width=\"125\"/>|\n",
    "| --- | --- |\n",
    "|<p style=\"text-align:center;\">No coding is needed for an activity. You try to understand a concept, <br/>answer questions, or run a code cell.</p> |<p style=\"text-align:center;\">Challenges are where you test your understanding by taking a short quiz.</p> |\n",
    "\n",
    "---- "
   ]
  },
  {
   "cell_type": "code",
   "execution_count": 1,
   "id": "41319cca-29fd-4458-98b8-65d92b2b4b79",
   "metadata": {
    "tags": []
   },
   "outputs": [],
   "source": [
    "%%capture\n",
    "!pip3 install -r requirements.txt --quiet"
   ]
  },
  {
   "cell_type": "code",
   "execution_count": 2,
   "id": "be5ce78c-ad85-4750-9419-cd722d14bd44",
   "metadata": {
    "tags": []
   },
   "outputs": [
    {
     "name": "stderr",
     "output_type": "stream",
     "text": [
      "[2024-07-11 16:40:35,028] p17072 {credentials.py:1075} INFO - Found credentials from IAM Role: BaseNotebookInstanceEc2InstanceRole\n"
     ]
    }
   ],
   "source": [
    "%load_ext autoreload\n",
    "%autoreload 2\n",
    "import pandas as pd\n",
    "import boto3\n",
    "from mlu_utils.agents_infra_utils_no_kb_setup_lab1 import *\n",
    "from IPython.display import Markdown\n",
    "from IPython.display import JSON"
   ]
  },
  {
   "cell_type": "code",
   "execution_count": 3,
   "id": "5f9b8de8-676d-4ebc-80d8-5c58642d22e4",
   "metadata": {},
   "outputs": [],
   "source": [
    "import ipywidgets as widgets\n",
    "from IPython.display import JSON\n",
    "\n",
    "infra_response_display = widgets.Output(layout=widgets.Layout(border = '1px solid black', width = '100%',))\n",
    "action_group_display = widgets.Output(layout=widgets.Layout(border = '1px solid black', width = '100%',))\n",
    "create_agent_display = widgets.Output(layout=widgets.Layout(border = '1px solid black', width = '100%',))"
   ]
  },
  {
   "cell_type": "markdown",
   "id": "e6de1910-04a3-4c98-af36-77d8a4b93bb5",
   "metadata": {
    "jp-MarkdownHeadingCollapsed": true,
    "tags": []
   },
   "source": [
    "### <a name=\"1\">How do agents work?</a>\n",
    "(<a href=\"#0\">Go to top</a>)\n",
    "\n",
    "#### ReAct Prompting\n",
    "\n",
    "FMs determine how to solve user-requested tasks with a technique called [ReAct](https://react-lm.github.io/). It’s a general paradigm that combines reasoning and acting with FMs. ReAct prompts FMs to generate verbal reasoning traces and actions for a task. This allows the system to perform dynamic reasoning to create, maintain, and adjust plans for acting while incorporating additional information into the reasoning. The structured prompts include a sequence of question-thought-action-observation examples.\n",
    "\n",
    "* The question is the user-requested task or problem to solve. \n",
    "* The thought is a reasoning step that helps demonstrate to the FM how to tackle the problem and identify an action to take. \n",
    "* The action is an API that the model can invoke from an allowed set of APIs. \n",
    "* The observation is the result of carrying out the action.\n",
    "\n",
    "#### Components in agents for Amazon Bedrock\n",
    "\n",
    "Behind the scenes, agents for Amazon Bedrock automate the prompt engineering and orchestration of user-requested tasks. They can securely augment the prompts with company-specific information to provide responses back to the user in natural language. The agent breaks the user-requested task into multiple steps and orchestrates subtasks with the help of FMs. Action groups are tasks that the agent can perform autonomously. Action groups are mapped to an [AWS Lambda](https://aws.amazon.com/lambda/) function and related API schema to perform API calls. The following diagram depicts the agent structure.\n",
    "\n",
    "<br/> <center><img src=\"./images/agents_components.png\" alt=\"Agent Overview - what does agent need?: instructions, actions, knowledge bases and foundation model.\" width=\"500\"/></center> <br/>\n",
    "\n",
    "<br/> <center><img src=\"./images/agents-components1.png\" alt=\"Agent components including action groups and Lambda functions. Action groups include API schemas and Lambda references. Lambda functions usually include different API methods.\" width=\"500\" /></center> <br/>"
   ]
  },
  {
   "cell_type": "markdown",
   "id": "05f70b43-ac7b-4f98-b856-23a17e0f783e",
   "metadata": {
    "tags": []
   },
   "source": [
    "---\n",
    "### <a name=\"2\">Lab Use Case: Retail agent solution overview</a>\n",
    "(<a href=\"#0\">Go to top</a>)"
   ]
  },
  {
   "cell_type": "markdown",
   "id": "110de498-ecf6-47cd-97d6-b0ae8967de46",
   "metadata": {},
   "source": [
    "Agents can be used in a diverse set of use cases. From the simplest instruction only agent to complex assistants that combine action groups with knowledge bases, you can use the power of agents to quickly develop your Generative API application.\n",
    "\n",
    "We use a shoe retailer use case to build the customer service bot. The bot helps customers purchase shoes by providing options in a humanlike conversation. Customers converse with the bot in natural language with multiple steps invoking external APIs to accomplish subtasks. The following diagram illustrates the sample process flow.\n",
    "\n",
    "\n",
    "\n",
    "<br/> <center><img src=\"./images/sequence-flow-agents.png\" alt=\"This figure is to show the sequence diagram to capture user and agent interaction for every conversation in the chat session to buy a pair of shoes. The bot gets customer information by asking the customer for their name, and then gets their details. Then the bot uses those details to find the right kinds of shoes for them, then checks its inventory database to be sure they're in stock, then creates a prompt that asks the FM to generate a response to the customer. Then the bot places an order on behalf of a customer.\" width=\"1000\" height=\"1200\" /></center> <br/>\n",
    "\n",
    "\n",
    "The agent created can handle the following tasks:\n",
    "\n",
    "* Get customer information based on the customer name\n",
    "* Place an order on behalf of a customer\n",
    "* Check inventory for available products\n",
    "\n",
    "\n",
    "The following diagram depicts a high-level architecture of this solution.\n",
    "\n",
    "\n",
    "<br/> <center><img src=\"./images/agents-arch-diagram.png\" alt=\"This figure is to show the diagram that diagram depicts a high-level architecture of this solution.The user request is captured by agents to generate a plan and then it calls lambda to execute the API which can call any database, aws service like email or other applications.\" width=\"1000\" height=\"1200\" /></center> <br/>\n",
    "\n"
   ]
  },
  {
   "cell_type": "markdown",
   "id": "e6d5fb82-9eb7-48ae-9be4-ab7bc448ed5c",
   "metadata": {},
   "source": [
    "1. You can create an agent with Bedrock-supported FMs such as Anthropic Claude V2.\n",
    "\n",
    "2. Attach an API schema, residing in an [Amazon Simple Storage Service (Amazon S3)](https://aws.amazon.com/s3/) bucket, and a Lambda function containing the business logic to the agent. (Note: This is a one-time setup step.)\n",
    "\n",
    "3. The agent uses customer requests to create a prompt using the ReAct framework. It, then, uses the API schema to invoke corresponding code in the Lambda function.\n",
    "\n",
    "4. You can perform a variety of tasks including sending email notifications, writing to databases, triggering application APIs in the Lambda functions.\n",
    "\n",
    "In this lab, we use the Lambda function to retrieve customer details, list shoes matching customer-preferred activity, and finally, place orders. Our code is backed by an in-memory SQLite database. You can use similar constructs to write to a persistent data store."
   ]
  },
  {
   "cell_type": "markdown",
   "id": "4e1a6317-e884-4a9a-9cce-9bb15964a7fa",
   "metadata": {},
   "source": [
    "---\n",
    "### <a name=\"3\">Script-based provisioning of agent support infrastructure like S3, Lambda, IAM resources </a>\n",
    "(<a href=\"#0\">Go to top</a>)\n",
    "\n",
    "\n",
    "Note you should use the following parameter values when creating and configuring your agent and linking it to Lambda, S3 and other resources. These have been created with the appropriate permissions via the `setup_agent_infrastructure` API inside `mlu_utils`. "
   ]
  },
  {
   "cell_type": "code",
   "execution_count": 4,
   "id": "2eedd0de-5696-4152-83bc-151ca30e8cf4",
   "metadata": {},
   "outputs": [
    {
     "name": "stderr",
     "output_type": "stream",
     "text": [
      "[2024-07-11 16:40:35,736] p17072 {agents_infra_utils_no_kb_setup_lab1.py:57} INFO - random_uuid :: 281b904f-e1b8-40fb-b284-7fc43dded972 prefix_infra :: l2281b90 prefix_iam :: l2e1b8\n",
      "[2024-07-11 16:40:36,000] p17072 {agents_infra_utils_no_kb_setup_lab1.py:124} INFO - kb_db_files_path :: retail_db kb_db_key :: kbdb_l2281b90\n",
      "[2024-07-11 16:40:57,350] p17072 {agents_infra_utils_no_kb_setup_lab1.py:275} INFO - bucket_name :: l2281b90-agent-kb-339712993987 \n",
      " agent_name :: l2281b90-agent-kb \n",
      " agent_alias_name :: l2281b90-workshop-alias \n",
      " schema_key :: l2281b90-agent-kb-schema.json  \n"
     ]
    },
    {
     "name": "stdout",
     "output_type": "stream",
     "text": [
      "CPU times: user 72.7 ms, sys: 12.8 ms, total: 85.5 ms\n",
      "Wall time: 21.6 s\n"
     ]
    }
   ],
   "source": [
    "%%time\n",
    "infra_response = setup_agent_infrastructure(schema_filename='customer_service_agent_openapi_schema.json', \n",
    "                                            kb_db_file_uri='retail_db', \n",
    "                                            lambda_code_uri='customer_service_agent_lambda_function.py')\n"
   ]
  },
  {
   "cell_type": "code",
   "execution_count": 5,
   "id": "e5453a03-644d-47b8-99fb-99d6983aaaea",
   "metadata": {},
   "outputs": [],
   "source": [
    "agent_name = infra_response[\"agent_name\"]\n",
    "agent_alias_name = infra_response[\"agent_alias_name\"]\n",
    "agent_role = infra_response[\"agent_role\"]\n",
    "bucket_name = infra_response[\"bucket_name\"]\n",
    "schema_key = infra_response[\"schema_key\"]\n",
    "lambda_name = infra_response[\"lambda_name\"]\n",
    "lambda_function = infra_response[\"lambda_function\"]\n",
    "agent_bedrock_policy = infra_response[\"agent_bedrock_policy\"]\n",
    "agent_s3_schema_policy = infra_response[\"agent_s3_schema_policy\"]\n",
    "agent_role_name = infra_response[\"agent_role_name\"]\n",
    "lambda_role_name = infra_response[\"lambda_role_name\"]\n",
    "\n"
   ]
  },
  {
   "cell_type": "code",
   "execution_count": 6,
   "id": "25d3f5c5-0b11-474f-a838-dc234dd02a0d",
   "metadata": {},
   "outputs": [],
   "source": [
    "with infra_response_display:\n",
    "    infra_response_display.clear_output()\n",
    "    display(JSON(infra_response))\n"
   ]
  },
  {
   "cell_type": "markdown",
   "id": "0f8805d4-112a-4506-9787-cc0e7b61ecd0",
   "metadata": {
    "tags": []
   },
   "source": [
    "---\n",
    "### <a name=\"4\">[USE THESE VALUES FOR All LAB TO-DO(s) SECTION] Parameter values for infrastructure components like S3, Lambda, IAM, Agent created via scripts </a>\n",
    "(<a href=\"#0\">Go to top</a>)"
   ]
  },
  {
   "cell_type": "code",
   "execution_count": 7,
   "id": "74922b16-181e-42ed-ba01-8b9a2c1e5ccb",
   "metadata": {
    "tags": []
   },
   "outputs": [
    {
     "data": {
      "application/vnd.jupyter.widget-view+json": {
       "model_id": "6603e53456f04bb5ae4c1776d05d3700",
       "version_major": 2,
       "version_minor": 0
      },
      "text/plain": [
       "Output(layout=Layout(border_bottom='1px solid black', border_left='1px solid black', border_right='1px solid b…"
      ]
     },
     "metadata": {},
     "output_type": "display_data"
    },
    {
     "name": "stdout",
     "output_type": "stream",
     "text": [
      "CPU times: user 1.77 ms, sys: 294 µs, total: 2.06 ms\n",
      "Wall time: 1.66 ms\n"
     ]
    }
   ],
   "source": [
    "%%time\n",
    "## Display the infra_response values\n",
    "display(infra_response_display)"
   ]
  },
  {
   "cell_type": "code",
   "execution_count": 8,
   "id": "d1cc0326-7a4e-4cbd-b96f-fedadaafc8dc",
   "metadata": {
    "tags": []
   },
   "outputs": [
    {
     "data": {
      "text/plain": [
       "('us-east-1', '339712993987')"
      ]
     },
     "execution_count": 8,
     "metadata": {},
     "output_type": "execute_result"
    }
   ],
   "source": [
    "session = boto3.session.Session()\n",
    "region = session.region_name\n",
    "account_id = sts_client.get_caller_identity()[\"Account\"]\n",
    "region, account_id"
   ]
  },
  {
   "cell_type": "markdown",
   "id": "d5e5ddc1-1559-4600-bdf0-4184df4cb1bb",
   "metadata": {
    "tags": []
   },
   "source": [
    "---\n",
    "### <a name=\"5\">Walkthrough of all infrastructure components created via script. This section is just for your understanding. </a>\n",
    "(<a href=\"#0\">Go to top</a>)"
   ]
  },
  {
   "cell_type": "markdown",
   "id": "7da15fd4-1b57-4872-a975-b11dc4166512",
   "metadata": {
    "tags": []
   },
   "source": [
    "To implement the solution, you should have an AWS account and access to Amazon Bedrock with agents enabled. [Burner accounts](https://conduit.security.a2z.com/burner-accounts) can be used for this solution.\n",
    "\n",
    "\n",
    "We will create two IAM roles. Update these roles to apply least-privilege permissions as discussed in [Security best practices](https://docs.aws.amazon.com/IAM/latest/UserGuide/best-practices.html#grant-least-privilege). Click [here](https://docs.aws.amazon.com/bedrock/latest/userguide/security_iam_service-with-iam-agent.html) to learn what IAM features are available to use with Agents for Amazon Bedrock.\n",
    "\n",
    "1. `LambdaBasicExecutionRole` with S3 full access and CloudWatch access for logging.\n",
    "2. `AmazonBedrockExecutionRoleForAgents` with S3 full access and Lambda full access. \n",
    "\n",
    "**Important:** Agents for Amazon Bedrock requires the role name to be prefixed by `AmazonBedrockExecutionRoleForAgents_*`\n",
    "\n",
    "#### [Already Created via script] The IAM roles \n",
    "This step is optional. If you skip this step, you can create and use a new service role in the later step.\n",
    "Or you can follow the step here and then later use an existing service role.\n",
    "\n",
    "1. In your console, go to your [IAM Dashboard](https://us-east-1.console.aws.amazon.com/iam/).\n",
    "2. Go to Policies in the right-hand side menu.\n",
    "3. Create one policy named for example Bedrock-InvokeModel-Policy\n",
    "   \n",
    "   ```json\n",
    "    \n",
    "    {\n",
    "        \"Version\": \"2012-10-17\",\n",
    "        \"Statement\": [\n",
    "            {\n",
    "                \"Sid\": \"AmazonBedrockAgentBedrockFoundationModelPolicyProd\",\n",
    "                \"Effect\": \"Allow\",\n",
    "                \"Action\": \"bedrock:InvokeModel\",\n",
    "                \"Resource\": [\n",
    "                    \"arn:aws:bedrock:us-east-1::foundation-model/*\"\n",
    "                ]\n",
    "            }\n",
    "        ]\n",
    "    }\n",
    "   ```\n",
    "\n",
    "4. Create one policy (name it something like Bedrock-S3-GetObject)\n",
    "    ```json\n",
    "    \n",
    "    {\n",
    "        \"Version\": \"2012-10-17\",\n",
    "        \"Statement\": [\n",
    "            {\n",
    "                \"Sid\": \"AmazonBedrockAgentS3PolicyProd\",\n",
    "                \"Effect\": \"Allow\",\n",
    "                \"Action\": [\n",
    "                    \"s3:GetObject\"\n",
    "                ],\n",
    "                \"Resource\": [\n",
    "                    \"arn:aws:s3:::customer-support-bucket-agent-us-east-1-account/customer_service_agent_openapi_schema.json\"\n",
    "                ]\n",
    "            }\n",
    "        ]\n",
    "    }\n",
    "    ```\n",
    "\n",
    "\n",
    "5. Create a role named AmazonBedrockExecutionRoleForAgents_<your alias> and attach the two policies we just created previously. \n",
    "    \n",
    "    Click Add permissions, and then search for the policies ``AmazonBedrockAgentBedrockFoundationModelPolicyProd`` and ``AmazonBedrockAgentS3PolicyProd``. Then attach them to your role ``AmazonBedrockExecutionRoleForAgents_<your alias>``.\n",
    "\n",
    "    \n"
   ]
  },
  {
   "cell_type": "markdown",
   "id": "043ae08a-44b9-4c90-9e08-3fddb510e025",
   "metadata": {
    "tags": []
   },
   "source": [
    "#### [Already Created via script] S3 Bucket and storing API schema and SQLite files on it \n",
    "\n",
    "Next, you need to create an S3 bucket to store the API Schema and SQLite files. To do so, first [navigate to `S3` on your AWS console](https://s3.console.aws.amazon.com/s3) .\n",
    "\n",
    "Click on `Create bucket` and select a unique name for your bucket.\n",
    "\n",
    "_Tip: Include your account number and region on the bucket name to ensure it is unique._\n",
    "\n",
    "First select the AWS Region (us-east-1) and then add the bucket name. You can use the bucket name shown in the figure: ``customer-support-bucket-agent-<region>-<account>``. Please replace the region and account with your own account settings.\n",
    "\n",
    "\n",
    "You will need to upload the files the **OpenAPI Schema** (customer_service_agent_openapi_schema.json) and **SQLite Database** (customer_service_agent_sqlite_db) to your S3 bucket. First click the S3 bucket that you just created and then click the upload button, select the files and then save them in the S3 bucket.\n",
    "\n",
    "\n"
   ]
  },
  {
   "cell_type": "markdown",
   "id": "763b2021-0ce1-4c2d-8c0f-76acfce09ef7",
   "metadata": {},
   "source": [
    "#### [Already Created via script] Creating Action Group Lambda Function\n",
    "\n",
    "\n",
    "When creating an Action group, you need to define a Lambda function to program the business logic for your action group and to customize how you want the API response to be returned. You use the variables from the input event to define your functions and return a response to the agent. To write your function, you will need to understand the format of the input event and expected response. You must attach a resource-based policy to your Lambda function. For more information about resource-based policies in Lambda, see [Using resource-based policies for Lambda](https://docs.aws.amazon.com/lambda/latest/dg/access-control-resource-based.html) .\n"
   ]
  },
  {
   "cell_type": "markdown",
   "id": "bcaebfb2-ea25-4f6e-bc2d-15d2b2ba4b23",
   "metadata": {
    "tags": []
   },
   "source": [
    "This function uses a SQLite database that will be stored in your S3 bucket. We will copy the files to a newly created bucket in the next step.\n",
    "\n",
    "To create the Lambda function via AWS console, open your console and navigate to AWS Lambda \n",
    "\n",
    "Create a new Lambda function named ``customer_support_bot_agent``, with `Python 3.12` as runtime language and `x86_64` as the architecture. Other settings we can keep as the default values.\n",
    "\n",
    "\n",
    "Now, you should get a message that says \"Successfully created the function customer_support_bot_agent.\""
   ]
  },
  {
   "cell_type": "markdown",
   "id": "dbddd3b6-4802-4219-b34b-861818db4181",
   "metadata": {},
   "source": [
    "Replace the function code for the Lambda function (lambda_function.py) with the below code:\n",
    "\n",
    "<!-- <br/> <center><img src=\"./images/lambda-deploy.png\" alt=\"This figure is to show that where you can replace the lambda function code for your agent.\" width=\"800\" /></center> <br/> -->\n",
    "\n",
    "\n",
    "For the use case, let's use the following code to replace the function code for the Lambda function (lambda_function.py ):\n",
    "\n",
    "```python\n",
    "\n",
    "import json\n",
    "import boto3\n",
    "import sqlite3\n",
    "from datetime import datetime\n",
    "import logging\n",
    "import os\n",
    "\n",
    "logger = logging.getLogger()\n",
    "logger.setLevel(logging.INFO)\n",
    "\n",
    "s3 = boto3.client('s3')\n",
    "bucket = os.environ['S3_BUCKET']  # Name of bucket with data file and OpenAPI file\n",
    "db_name = 'customer_service_agent_sqlite_db'  # Location of data file in S3\n",
    "local_db = '/tmp/csbot.db'  # Location in Lambda /tmp folder where data file will be copied\n",
    "\n",
    "# Download data file from S3 to your local lambda storage\n",
    "print(bucket, db_name, local_db)\n",
    "s3.download_file(bucket, db_name, local_db)\n",
    "\n",
    "cursor = None\n",
    "conn = None\n",
    "\n",
    "\n",
    "def get_named_parameter(event, name):\n",
    "    \"\"\"\n",
    "    Function that gets the parameter 'name' from the lambda event object\n",
    "    Args:\n",
    "        event: lambda event\n",
    "        name: name of the parameter to return\n",
    "    Returns:\n",
    "        parameter value\n",
    "    \"\"\"\n",
    "    return next(item for item in event['parameters'] if item['name'] == name)['value']\n",
    "\n",
    "\n",
    "def get_named_property(event, name):\n",
    "    \"\"\"\n",
    "    get the named property 'name' from the lambda event object\n",
    "    Args:        \n",
    "        event: lambda event\n",
    "        name: name of the named property to return\n",
    "    Returns:\n",
    "        named property value\n",
    "    \"\"\"\n",
    "    return next(item for item in event['requestBody']['content']['application/json']['properties'] if item['name'] == name)['value']\n",
    "\n",
    "\n",
    "def load_data():\n",
    "    \"\"\"\n",
    "    Initial data load and SQLite3 cursor creation\n",
    "    Returns:\n",
    "        a cursor for the connection\n",
    "    \"\"\"\n",
    "    # load SQL Lite database from S3\n",
    "    # create the db\n",
    "    global conn\n",
    "    conn = sqlite3.connect(local_db)\n",
    "    c = conn.cursor()\n",
    "    logger.info('Completed initial data load ')\n",
    "    return c\n",
    "\n",
    "\n",
    "def return_customer_info(cust_name, c):\n",
    "    \"\"\"\n",
    "    Function returns all customer info for a particular cust_name\n",
    "    Args:\n",
    "        cust_name (str): customer name to query database\n",
    "        c: a cursor for the connection\n",
    "    Returns:\n",
    "        customer information\n",
    "    \"\"\"\n",
    "    query = 'SELECT customerId, customerName, Addr1, Addr2, City, State, Zipcode, PreferredActivity, ShoeSize, OtherInfo FROM CustomerInfo WHERE customerName LIKE \"%' + cust_name + '%\"'\n",
    "    c.execute(query)\n",
    "    resp = c.fetchall()\n",
    "    # adding column names to response values\n",
    "    names = [description[0] for description in c.description]\n",
    "    val_dict = {}\n",
    "    index = 0\n",
    "    for name in names:\n",
    "        val_dict[name] = resp[0][index]\n",
    "        index = index + 1\n",
    "    logger.info('Customer Info retrieved')\n",
    "    return val_dict\n",
    "\n",
    "\n",
    "#\n",
    "def return_shoe_inventory(c):\n",
    "    \"\"\"\n",
    "    Function returns shoes inventory\n",
    "    Args:\n",
    "        c: a cursor for the connection\n",
    "    Returns:\n",
    "        Shoes inventory\n",
    "    \"\"\"\n",
    "    query = 'SELECT ShoeID, BestFitActivity, StyleDesc, ShoeColors, Price, InvCount FROM ShoeInventory'\n",
    "    c.execute(query)\n",
    "    resp = c.fetchall()\n",
    "\n",
    "    # adding column names to response values\n",
    "    names = [description[0] for description in c.description]\n",
    "    val_dict = []\n",
    "    index = 0\n",
    "    for item in resp:\n",
    "        interim_dict = {}\n",
    "        for name in names:\n",
    "            interim_dict[name] = item[index]\n",
    "            index = index + 1\n",
    "        index = 0\n",
    "        val_dict.append(interim_dict)\n",
    "    logger.info('Shoe info retrieved')\n",
    "    return val_dict\n",
    "\n",
    "\n",
    "def place_shoe_order(shoe_id, cust_id, c, db_conn):\n",
    "    \"\"\"\n",
    "    function places order -- reduces shoe inventory, updates order_details table --> all actions resulting from a shoe purchase\n",
    "    Args:\n",
    "        shoe_id (int): shoe id\n",
    "        cust_id (int): customer id\n",
    "        c: a cursor for the connection\n",
    "        db_conn: database connector\n",
    "    Returns:\n",
    "        c: a cursor for the connection\n",
    "    \"\"\"\n",
    "    query = 'Update ShoeInventory set InvCount = InvCount - 1 where ShoeID = ' + str(shoe_id)\n",
    "    c.execute(query)\n",
    "\n",
    "    today = datetime.today().strftime('%Y-%m-%d')\n",
    "    query = 'INSERT INTO OrderDetails (orderdate, shoeId, CustomerId) VALUES (\"' + today + '\",' + str(shoe_id) + ',' + str(cust_id) + ')'\n",
    "    c.execute(query)\n",
    "    db_conn.commit()\n",
    "\n",
    "    # Writing updated db file to S3 and setting cursor to None to force reload of data\n",
    "    s3.upload_file(local_db, bucket, db_name)\n",
    "    c = None\n",
    "    logger.info('Shoe order placed')\n",
    "    return c\n",
    "\n",
    "\n",
    "def lambda_handler(event, context):\n",
    "    responses = []\n",
    "    global cursor\n",
    "    if cursor is None:\n",
    "        cursor = load_data()\n",
    "    shoe_id = ''\n",
    "    api_path = event['apiPath']\n",
    "    logger.info('API Path')\n",
    "    logger.info(api_path)\n",
    "    body = \"\"\n",
    "    if api_path == '/attributes/{CustomerName}':\n",
    "        c_name = get_named_parameter(event, \"CustomerName\")\n",
    "        body = return_customer_info(c_name, cursor)\n",
    "    elif api_path == '/transaction':\n",
    "        shoe_id = get_named_parameter(event, \"ShoeID\")\n",
    "        cid = get_named_parameter(event, \"CustomerID\")\n",
    "        parameters = event['parameters']\n",
    "        body = place_shoe_order(shoe_id, cid, cursor, conn)\n",
    "    elif api_path == '/assets':\n",
    "        body = return_shoe_inventory(cursor)\n",
    "    else:\n",
    "        body = {\"{} is not a valid api, try another one.\".format(api_path)}\n",
    "\n",
    "    response_body = {\n",
    "        'application/json': {\n",
    "            'body': json.dumps(body)\n",
    "        }\n",
    "    }\n",
    "\n",
    "    action_response = {\n",
    "        'actionGroup': event['actionGroup'],\n",
    "        'apiPath': event['apiPath'],\n",
    "        'httpMethod': event['httpMethod'],\n",
    "        'httpStatusCode': 200,\n",
    "        'responseBody': response_body\n",
    "    }\n",
    "\n",
    "    responses.append(action_response)\n",
    "\n",
    "    api_response = {\n",
    "        'messageVersion': '1.0',\n",
    "        'response': action_response}\n",
    "\n",
    "    return api_response\n",
    "```"
   ]
  },
  {
   "cell_type": "markdown",
   "id": "ba9f7372-8e6b-4a5b-88f4-d5b9b6426f2c",
   "metadata": {},
   "source": [
    "Next you need to create an environmental variable that has the name of your recently created bucket. To do so, return to your Lambda function and navigate to `Configuration > Environment variables`. \n",
    "\n",
    "In the Environment variables menu, click the Edit button.\n",
    "\n",
    "\n",
    "Then create a new environmental variable called `S3_BUCKET` and having as value the name of the bucket you just created. Clicking Save when done.\n",
    "\n",
    "If you've successfully created this environment variable, you should see one named S3_BUCKET with your bucket's name as its value here."
   ]
  },
  {
   "cell_type": "markdown",
   "id": "b58c126a-5381-4050-9cfe-11dd01af34b3",
   "metadata": {},
   "source": [
    "Now you need to allow your Lambda function to access S3 location containing the database file. To do so, navigate to the Lambda IAM role and add attach the `AmazonS3FullAccess` policy \n",
    "\n",
    "* Click on the IAM role `customer_support_bot_agent-role-****` \n",
    "* Click `Add permissions` button\n",
    "* Select `Attach policies`\n",
    "* Search for the policy `AmazonS3FullAccess`\n",
    "* Click `Add permissions` button\n",
    "\n",
    "\n",
    "<!-- <br/> <center><img src=\"./images/lambda-role-attach-policy1.png\" alt=\"This figure is to show when the policy was successfully attached to the role.\" width=\"800\" /></center> <br/> -->\n",
    "You should now see a message that says, \"Policy was successfully attached to role.\"\n",
    "\n",
    "\n"
   ]
  },
  {
   "cell_type": "markdown",
   "id": "520f26ac-787a-4d6b-924c-344dd0848498",
   "metadata": {},
   "source": [
    "#### Creating OpenAPI Schema file\n",
    "When you create an action group, you must define the APIs that the agent can invoke with an OpenAPI schema in JSON or YAML format. You can create OpenAPI schema files yourself and upload them to Amazon S3 buckets, or you can use the OpenAPI text editor in order to easily validate your schema. The text editor is available after you create the agent. You can use the text editor when you add an action group to an agent or edit an existing one (for more information, see [Manage your agent](https://docs.aws.amazon.com/bedrock/latest/userguide/agents-edit.html) ).\n",
    "* **Pro-tip**: Avoid using path names and operation IDs that may be exact matches to words that would be used in the user request or agent response to avoid REDACTIONS on your agent’s answers.\n",
    "* You can also create your OpenAPI schema file directly on Bedrock by using the console editor - To do so, create your Agent without an action group and once the Agent is available, edit it to include an action group with an OpenAPI schema\n",
    "\n",
    "The following is the general format of an OpenAPI schema for an action group.\n",
    "\n",
    "```json\n",
    "{\n",
    "    \"openapi\": \"3.0.0\",\n",
    "    \"paths\": {\n",
    "        \"/path\": {\n",
    "            \"method\": {\n",
    "                \"description\": \"string\",\n",
    "                \"operationId\": \"string\",\n",
    "                \"parameters\": [ ... ],\n",
    "                \"requestBody\": { ... },\n",
    "                \"responses\": { ... }\n",
    "           }\n",
    "       }\n",
    "    }\n",
    "}\n",
    "```\n",
    "Minimally, each method requires:\n",
    "\n",
    "- description – A description of the API operation. Use this field to inform the agent when this API should be called and what it does.\n",
    "- responses – The properties defined for the operation response are not just used for constructing prompts. They are used for accurately processing the results of an API call, and for determining a proper set of steps for carrying out a task. By knowing the response coming back from one operation, the agent can know that those values can be used as inputs for subsequent steps in the process.\n",
    "\n",
    "For this use case, you will use the API Schema available in the lab1 folder ``customer_service_agent_openapi_schema.json``. It consists of 3 paths:\n",
    "\n",
    "- `/attributes/{CustomerName}`: Based on provided customer name, return customer information like customer ID, preferred activity and others\n",
    "- `/transaction`: Place an order for a shoe by creating an Order record and updating inventory in the database\n",
    "- `/assets`: Checks inventory for shoes and returns all available information about available shoes, including shoe ID, shoe colors, inventory, best fit activity, style description and price\n"
   ]
  },
  {
   "cell_type": "markdown",
   "id": "e4524287-c151-4ffa-814d-be5f0a7e2a7c",
   "metadata": {},
   "source": [
    "<div style=\"border: 4px solid coral; text-align: left; margin: auto; padding-left: 20px; padding-right: 20px\">\n",
    "    <h4>[LAB TO-DOs START] This NEXT section is what you will be creating using the AWS console in this Lab. </h4>\n",
    "    You will need to use the previously created infrastructure components like S3, Lambda, IAM roles setup in the cells above to create agents and associate them with the respective components. <br/>\n",
    "</div>\n",
    "<br/>"
   ]
  },
  {
   "cell_type": "markdown",
   "id": "cc3a2edc-6774-4eaf-8074-90c49e5b8d05",
   "metadata": {},
   "source": [
    "---\n",
    "### <a name=\"6\">[LAB TO-DO(s)] Setting up Action Groups</a>\n",
    "(<a href=\"#0\">Go to top</a>)\n",
    "\n",
    "<a href=\"#4\">[USE THESE VALUES FOR All LAB TO-DO(s) SECTION] Parameter values for infrastructure components like S3, Lambda, IAM, Agent created via scripts</a>\n",
    "\n",
    "Action Group Description: An overview of the actions provided, helping the agent know when this action group is relevant.\n",
    "\n",
    "\n",
    "Before you create your agent, you should set up action groups and knowledge bases that you want to add to your agent.\n",
    "\n",
    "* **Action groups** define the tasks that you want your agent to help customers carry out.\n",
    "\n",
    "* **Knowledge bases** provide a repository of information that the agent can query to answer customer queries and improve its generated responses. For more information, see knowledge base for Amazon Bedrock.\n",
    "\n",
    "An action group consists of the following components, which you will set up: \n",
    "\n",
    "* An **OpenAPI schema** that define the APIs that your action group should call. Your agent uses the API schema to determine the fields it needs to elicit from the customer to populate for the API request.\n",
    "    * Rich description of each action, so agents know when to use it, and exactly how to call it and use results\n",
    "    * Operation name, input parameters, data types, response details\n",
    "    * Language agnostic\n",
    "    * Uses industry-standard schema\n",
    "    * OpenAPI schema file in JSON or YAML format\n",
    "    * Requires OpenAPI version “3.0.0” or higher\n",
    " <p>    \n",
    "    \n",
    "* A **Lambda function** that defines the business logic for the action that your agent will carry out. You need to create a Lambda function to process your API paths. Create Lambda function and add Lambda invocation permissions to your agent by attaching a resource-based policy to your Lambda.\n",
    "    * Process input event from Amazon Bedrock to identify requested action\n",
    "    * Perform Agent action\n",
    "    * Return Lambda response with output from the action\n",
    "    * Contains business logic, or wraps microservices, databases, or tools\n",
    "    * Serverless, scalable, secure\n",
    "    * Flexible programming language choice (Python, C#, JavaScript, Java, ...)\n",
    "\n",
    "You will need to create a new action group on your Agent and link it with your API schema and your Lambda function."
   ]
  },
  {
   "cell_type": "code",
   "execution_count": 9,
   "id": "a44ba610-c46c-49d9-8c15-9af18d202f98",
   "metadata": {
    "tags": []
   },
   "outputs": [],
   "source": [
    "action_group_setup_params = {\"agent_name\": agent_name, \"lambda_name\": lambda_name, \"s3_bucket_name\": bucket_name, \"region\": region, \"account_id\": account_id}\n",
    "\n",
    "with action_group_display:\n",
    "    action_group_display.clear_output()\n",
    "    display(JSON(action_group_setup_params))"
   ]
  },
  {
   "cell_type": "markdown",
   "id": "93326e6b-4c8e-4c96-8acf-83706c468763",
   "metadata": {},
   "source": [
    "----\n",
    "#### 1. [LAB TO-DO] Permissions to create and manage an agent inside the `Lambda configuration`\n",
    "Add permissions to create and invoke Lambda functions by attaching a resource-based policy to your Lambda.\n",
    "\n",
    "\n",
    "#### TODO: \n",
    "Add resource-based policy for Bedrock to invoke the model. In the `Lambda function`, first go to the`Configuration/Permissions` panel and then scroll down to `Resource-based policy statements` and click on `Add permissions`, choose `AWS Service` > `other` from that dropdown of listed AWS services.\n",
    "\n",
    " 1. Set statement-id can be anything meaningful like `my-custom-id-0001`\n",
    " 2. Set principal to `bedrock.amazonaws.com` \n",
    " 3. Set source ARN to `arn:aws:bedrock:<REGION>:<ACCOUNT_NUMBER>:agent/*` \n",
    " 4. Set Action to `lambda:InvokeFunction`\n",
    "and click on `Save` to continue\n",
    "\n",
    "Example:\n",
    "\n",
    "\n",
    "Template:\n",
    "```json\n",
    "{\n",
    "  \"Version\": \"2012-10-17\",\n",
    "  \"Id\": \"default\",\n",
    "  \"Statement\": [\n",
    "    {\n",
    "      \"Sid\": \"<statement-name>\",\n",
    "      \"Effect\": \"Allow\",\n",
    "      \"Principal\": {\n",
    "        \"Service\": \"bedrock.amazonaws.com\"\n",
    "      },\n",
    "      \"Action\": \"lambda:InvokeFunction\",\n",
    "      \"Resource\": \"arn:aws:lambda:<region>:<account-id>:function:<function-name>\",\n",
    "      \"Condition\": {\n",
    "        \"ArnLike\": {\n",
    "          \"AWS:SourceArn\": \"arn:aws:bedrock:<region>:<account-id>:agent/*\"\n",
    "        }\n",
    "      }\n",
    "    }\n",
    "  ]\n",
    "}\n",
    "```\n",
    "\n",
    "\n",
    "#### After adding and saving the resource based policy, it will reflect in the lambda function settings \n"
   ]
  },
  {
   "cell_type": "markdown",
   "id": "c0d1fda4-59f3-4b0e-ba67-5a82484bf9a3",
   "metadata": {
    "tags": []
   },
   "source": [
    "----\n",
    "### [Reading] Link between the action group(s) and Lambda(s)"
   ]
  },
  {
   "cell_type": "markdown",
   "id": "af008f7f-f398-4692-8cad-9aae100df2c2",
   "metadata": {},
   "source": [
    "----\n",
    "#### Creating an Action Group - Input Event\n",
    "Process the input event from Amazon Bedrock to identify the requested action\n",
    "\n",
    "    \"messageVersion\": \"1.0\", \n",
    "    \"agent\": { … },  ->   Agent name, id, alias and version\n",
    "    \"inputText\": \"string\",  ->   User input for the conversation\n",
    "    \"sessionId\": \"string\",  ->   Unique identifier of agent session \n",
    "    \"actionGroup\": \"string\",  ->   Action Group name\n",
    "    \"apiPath\": \"string\",  ->   The path to the API operation\n",
    "    \"httpMethod\": \"string\",  ->   HTTP method of the API operation (“GET”, “POST”, …)\n",
    "    \"parameters\": [ … ],  ->   List of parameter objects. Each object contains the name, type, and value of a parameter\n",
    "    \"requestBody\": { … },  -> Request body and its properties\n",
    "    \"sessionAttributes\": { … },\n",
    "    \"promptSessionAttributes\": { … }\n",
    "\n",
    "\n",
    "<!-- <br/> <center><img src=\"./images/input-event.png\" alt=\"This figure is show the description of each parameter in an input event.\" width=\"800\" /></center> <br/> -->\n"
   ]
  },
  {
   "cell_type": "markdown",
   "id": "318eb323-db75-4d30-88dc-4f72c9472599",
   "metadata": {},
   "source": [
    "----\n",
    "#### Creating an Action Group – Processing Inputs\n",
    "Process input event from Amazon Bedrock to identify requested action\n",
    "\n",
    "Examples of event processing:\n",
    "\n",
    "* Getting event API path: \n",
    "```python\n",
    "def lambda_handler(event, context):\n",
    "    api_path = event['apiPath']\n",
    "```\n",
    "* Process data shared via GET HTTP method: \n",
    "```python\n",
    "def get_named_parameter(event, name):\n",
    "    return next(i for i in event['parameters'] if i['name'] == name)['value']\n",
    "```\n",
    "* Process data shared via POST HTTP method: \n",
    "```python\n",
    "def get_named_property(event, name):\n",
    "    prop = event['requestBody']['content']['application/json']['properties']\n",
    "    return next(i for i in prop if i['name'] == name)['value']\n",
    "```\n"
   ]
  },
  {
   "cell_type": "markdown",
   "id": "10a24bd3-2861-4b6e-8bdc-c0189fa1a932",
   "metadata": {},
   "source": [
    "----\n",
    "#### Creating an Action Group – Creating Lambda Function\n",
    "\n",
    "Creating a Lambda function to perform agent actions -\n",
    "The action performed by the Lambda function is flexible. You can invoke other APIs, another agent or any AWS service as long as your Lambda function has the correct permissions for it.\n",
    "\n",
    "```python\n",
    "    api_path = event['apiPath']\n",
    "    body = \"\"\n",
    "    if api_path == '/attributes/{CustomerName}':\n",
    "        c_name = get_named_parameter(event, \"CustomerName\")\n",
    "        body = return_customer_info(c_name, cursor)\n",
    "    elif api_path == '/transaction':\n",
    "        shoe_id = get_named_parameter(event, \"ShoeID\")\n",
    "        cid = get_named_parameter(event, \"CustomerID\")\n",
    "        parameters = event['parameters']\n",
    "        body = place_shoe_order(shoe_id, cid, cursor, conn)\n",
    "    elif api_path == '/assets':\n",
    "        body = return_shoe_inventory(cursor)\n",
    "    else:\n",
    "        body = {\n",
    "            \"{}::{} is not a valid api, try another one.\".format(\n",
    "                action_group,\n",
    "                api_path\n",
    "            )\n",
    "        }\n",
    "```\n",
    "---\n",
    "**Notes:** \n",
    "\n",
    "The Lambda functions defined for action groups can have different implementations based on the specific requirements and use cases. These are some potential variances:\n",
    "\n",
    "- Language: Lambda functions can be written in various languages supported by AWS Lambda, such as Python, Node.js, Java, C#, Go, and more. The choice of language may depend on the development team's expertise or the specific requirements of the action being performed.\n",
    "\n",
    "- Synchronous vs. Asynchronous: The Lambda function can be implemented to run synchronously, where it waits for the API invocation to complete and returns the result. Alternatively, it can be implemented asynchronously, where it initiates the API call and returns immediately, allowing the agent to continue its orchestration while the API call is processed in the background.\n",
    "\n",
    "- Error Handling: Different strategies can be employed for handling errors and exceptions that may occur during the API invocation. The Lambda function can implement retries, fallback mechanisms, or logging and monitoring capabilities.\n",
    "\n",
    "- Data Transformation: Depending on the API being invoked and the data formats involved, the Lambda function may need to perform data transformations, such as converting between JSON, XML, or other formats, or mapping data structures to match the expected input/output formats.\n",
    "\n",
    "- Authentication and Authorization: If the API invocation requires authentication or authorization, the Lambda function may need to handle token generation, credential management, or other security-related tasks.\n",
    "\n",
    "- External Dependencies: The Lambda function may need to interact with external services, databases, or other resources beyond the API invocation itself. This could involve making additional calls, querying data stores, or integrating with third-party services.\n",
    "\n",
    "- Parallelization and Batching: For scenarios involving multiple API invocations or large data sets, the Lambda function could implement parallelization or batching strategies to improve performance and efficiency.\n",
    "\n",
    "- Logging and Monitoring: Different logging and monitoring strategies can be implemented within the Lambda function to track execution, capture metrics, or integrate with observability tools for debugging and troubleshooting purposes.\n",
    "\n",
    "- These are just a few examples of potential variances in Lambda implementations for action groups. The specific implementation details will depend on the requirements of the actions being performed, the APIs being invoked, and the overall architecture and design decisions made by the development team.\n"
   ]
  },
  {
   "cell_type": "markdown",
   "id": "67cd8902-eee3-4cad-b027-5aec0580837b",
   "metadata": {},
   "source": [
    "---\n",
    "### <a name=\"7\">[LAB TO-DO(s)] Bedrock agent setup</a>\n",
    "(<a href=\"#0\">Go to top</a>)\n",
    "\n",
    "<a href=\"#4\">[USE THESE VALUES FOR All LAB TO-DO(s) SECTION] Parameter values for infrastructure components like S3, Lambda, IAM, Agent created via scripts</a>"
   ]
  },
  {
   "cell_type": "markdown",
   "id": "d2e815f0-c8d0-4895-81ed-23f14041e02d",
   "metadata": {
    "tags": []
   },
   "source": [
    "Now that you have all the pre-requisites in place, let's create the Bedrock agent. To do so, first navigate to Bedrock on your AWS console.\n",
    "\n",
    "#### Create an Agent for Amazon Bedrock\n",
    "\n",
    "To create an Agent, open the [Amazon Bedrock console](https://console.aws.amazon.com/bedrock/home) and choose **Agents** in the left navigation pane from the Orchestration drop-down menu. \n",
    "\n",
    "\n",
    "Then select **Create Agent**.\n"
   ]
  },
  {
   "cell_type": "code",
   "execution_count": 10,
   "id": "7bd0995d-c4d0-4a3a-807a-7db978ee03c1",
   "metadata": {
    "tags": []
   },
   "outputs": [
    {
     "name": "stdout",
     "output_type": "stream",
     "text": [
      "USE agent_name ::: l2281b90-agent-kb\n"
     ]
    }
   ],
   "source": [
    "print(f\"USE agent_name ::: {agent_name}\")"
   ]
  },
  {
   "cell_type": "markdown",
   "id": "77d38a40-60e4-4d83-aabe-cced4a47fe87",
   "metadata": {},
   "source": [
    "Use the Agent name provided and set a description to your Agent. Use the `Create and use a new service role` option for your IAM role.\n",
    "\n",
    "\n",
    "#### Setting Agent's instructions\n",
    "\n",
    "We now need to set clear and specific instructions for the task the Agent will perform. Provide clear and precise instructions to the Agent about what tasks to perform and how to interact with the users. Copy the following text on your instructions field. \n",
    "\n",
    "**Select a foundation model:** In the **Select model** screen, select `Claude V3 Haiku` as your foundation model"
   ]
  },
  {
   "cell_type": "code",
   "execution_count": 11,
   "id": "f91d9395-6b58-4f6e-a77d-f0c2644df150",
   "metadata": {
    "tags": []
   },
   "outputs": [
    {
     "name": "stdout",
     "output_type": "stream",
     "text": [
      "Use lambda_name :: l2281b90-agent-kb-339712993987 Use S3 bucket_name :: l2281b90-agent-kb-339712993987\n"
     ]
    }
   ],
   "source": [
    "print(f\"Use lambda_name :: {lambda_name} Use S3 bucket_name :: {bucket_name}\")"
   ]
  },
  {
   "cell_type": "markdown",
   "id": "030c0252-2030-4084-91f8-ddd347089d4f",
   "metadata": {},
   "source": [
    "```text\n",
    "You are an agent that helps customers purchase shoes. You can \n",
    "1/ Retrieve customer details like customer ID and preferred activities based on the customer name. \n",
    "2/ Check shoe inventory and find the best fit product to match customer's preferred activities. \n",
    "3/ Generate a response with shoe’s ID, style, description and colors based on shoe’s inventory details. \n",
    "4/ If multiple matches exist, replay all of them to the customer. \n",
    "5/ After the customer indicates that they would like to order the shoe, you can use the shoe’s ID corresponding to the customer choice and the customer ID from the customer details retrieved to place an order for the requested shoe.\n",
    "If no clear instructions are provided, ask for the customer's name in order to retrieve their details\n",
    "```\n",
    "\n",
    "##### Note: click `Save` button first before moving to next section. \n",
    "Otherwise you might get the following `Error message You must save your agent with an Agent Resource Role defined before adding an action group that uses an API schema from S3.` when trying to create action groups.\n",
    "\n",
    "#### Creating Agent's action group\n",
    "<!-- \n",
    "An action is a task the agent can perform by making API calls. A set of actions comprise an action group. You provide an API schema that defines all the APIs in the action group. You must provide an API schema in the [OpenAPI schema](https://swagger.io/specification/) JSON format. The Lambda function contains the business logic needed to perform API calls. You must associate a Lambda function to each action group. -->\n",
    "\n",
    "\n",
    "To create the action group that connects the Lambda function and OpenAPI schema created before. You should also set a description for your action group that informs the Agent about the functionalities available. Give the action group a name and a description for the action. Copy the following text on the description field:\n",
    "\n",
    "```text\n",
    "Action group that provides agent functionality for 1/ get customer information 2/ place shoe order 3/ check shoe inventory\n",
    "```\n",
    "\n",
    "Choose `Define with API schemas` option in `Action Group Type` and then :\n",
    "\n",
    "1. From `Action group invocation`, Select the option `existing Lambda function` and choose the lambda name given above.\n",
    "2. From `Action group schema`, choose `select an existing API schema` and browse the file from s3 uri `s3://{bucket_name}/*-agent-kb-schema.json`(bucket name above), which is the `API schema` file we automatically uploaded to the newly created S3 bucket, and select **Next**.\n",
    "\n",
    "\n",
    "As you are not adding a knowledge base at the moment, you can skip this step and save your Agent.\n",
    "\n",
    "In the final step, review the Agent configuration and use **`Save` or `Save and exit` button to save your new Agent**.\n",
    "\n"
   ]
  },
  {
   "cell_type": "markdown",
   "id": "8a94cf2f-051e-433b-841a-3aaef9488edb",
   "metadata": {
    "tags": []
   },
   "source": [
    "---\n",
    "### <a name=\"8\">[LAB TO-DO(s)] Testing agent</a>\n",
    "(<a href=\"#0\">Go to top</a>)\n",
    "\n",
    "<a href=\"#4\">[USE THESE VALUES FOR All LAB TO-DO(s) SECTION] Parameter values for infrastructure components like S3, Lambda, IAM, Agent created via scripts</a>"
   ]
  },
  {
   "cell_type": "markdown",
   "id": "54aac0c8-409d-4d98-9c42-215b15491d05",
   "metadata": {},
   "source": [
    "**Test the Agent:** \n",
    "\n",
    "Now that you've created your first Agent, it is time to `prepare` the Agent for testing.\n",
    "\n",
    "After the Agent is prepared, a dialog box shows the Agent overview along with a working draft. The Amazon Bedrock console provides a UI to test your Agent.\n",
    "\n",
    "When you first create an Agent, you will have a working draft version and a `TestAlias` alias that points to it. The working draft is a version of the Agent that you can use to iteratively build the Agent. By default, you can interact with the working draft with the `TestAlias`, You can also select a different alias to test. In the test window, you can choose to show the trace for each response. The trace shows the agent's reasoning process, step-by-step, and is a useful tool for debugging your agent. To learn more about the trace, see [Trace events](https://docs.aws.amazon.com/bedrock/latest/userguide/trace-events.html) .\n",
    "\n",
    "Let's ask some questions to the agent. For example, we can ask `hello, I am John Doe, I want to buy running shoes` first. Then the agent will reply: `Here are the running shoe options that would be a good fit for you, John Doe: 1. ShoeID 1: Lightweight mesh runners in Red and Blue, $129.98 2. ShoeID 4: Breathable mesh runners in Pink and Purple, $67.35 3. ShoeID 7: Cushioned running shoes in Black and Lime, $75.99 4. ShoeID 10: Lightweight racing flats in Yellow and Orange, $129.99 Please let me know which of these shoes you would like to order and I'll place the order for you.`. Then we can ask for more details for any particular ShoeID like `Give me more details on Shoe ID 7`. If happy with the details for the Shoe, we can order the shoe like this `Place the order for Shoe ID 7`.\n",
    "\n",
    "\n",
    "To understand the Agent's reasoning you can use the `Show trace >` link\n",
    "\n"
   ]
  },
  {
   "cell_type": "markdown",
   "id": "ac65e1ee-4c3c-4c90-af5d-33ebfd774a32",
   "metadata": {
    "tags": []
   },
   "source": [
    "You can now update your Agent instruction, OpenAPI Schema and Lambda functions and use the Amazon Bedrock console testing functionalities to test the reactions of your Agent."
   ]
  },
  {
   "cell_type": "markdown",
   "id": "7e14a099-8540-481e-89e8-fcc19b742d24",
   "metadata": {},
   "source": [
    "<div style=\"border: 4px solid coral; text-align: center; margin: auto;\">\n",
    "    <h2><i>Try it Yourself!</i></h2>\n",
    "    <br>\n",
    "    <p style=\"text-align:center;margin:auto;\"><img src=\"../images/activity.png\" alt=\"Activity\" width=\"100\" /> </p>\n",
    "    <p style=\" text-align: center; margin: auto;\">Try different prompts and observe the responses generated by the model. You can now update your agent instruction, OpenAPI Schema and Lambda functions and use the Amazon Bedrock console testing functionalities to test the reactions of your Agent.</p>\n",
    "    <br>\n",
    "</div>\n"
   ]
  },
  {
   "cell_type": "markdown",
   "id": "8272f84f-7e27-40e1-b5b3-51726dd33719",
   "metadata": {},
   "source": [
    "---\n",
    "### <a name=\"9\">[LAB TO-DO(s)] Deploying Agent</a>\n",
    "(<a href=\"#0\">Go to top</a>)\n",
    "\n",
    "<a href=\"#4\">[USE THESE VALUES FOR All LAB TO-DO(s) SECTION] Parameter values for infrastructure components like S3, Lambda, IAM, Agent created via scripts</a>\n",
    "\n",
    "**Deploy:** After successful testing, you can deploy your Agent."
   ]
  },
  {
   "cell_type": "markdown",
   "id": "6f662070-0810-4c8e-bda1-5bbdda70eb98",
   "metadata": {},
   "source": [
    "After you have sufficiently iterated on your working draft and are satisfied with the behavior of your Agent, you can set it up for deployment and integration into your application by creating aliases of your Agent. To deploy an Agent in your application, you must create an alias. Amazon Bedrock then automatically creates a version for that alias.\n",
    "\n",
    "To deploy your Agent, you need to create an alias. During alias creation, Amazon Bedrock automatically creates a version of your Agent. The alias points to this newly created version. You can point the alias to a previously created version if necessary. You then configure your application to make API calls to that alias.\n",
    "\n",
    "The version is a snapshot that preserves the resource as it exists at the time it was created. We can keep modifying the working draft and create new aliases (and consequently, versions) of your agent as necessary. In Amazon Bedrock, you create a new version of your Agent by creating an alias that points to the new version by default. Amazon Bedrock creates versions in numerical order, starting from 1. Because a version acts as a snapshot of your Agent at the time you created it, it is immutable.\n",
    "\n",
    "Aliases let you efficiently switch between different versions of your Agent without requiring the application to keep track of the version. For example, you can change an alias to point to a previous version of your Agent if there are changes that you need to quickly revert.\n",
    "\n",
    "The working draft version is `DRAFT` and the alias that points to it is the `TestAlias`.\n",
    "\n",
    "To create a new Alias, you need to navigate to the agent page and click on the `Create Alias` button.\n",
    "\n",
    "\n",
    "Provide a new Alias and click on `Create Alias`. We can set the alias name as `customer-support-bot-v1`. The description part is optional. Or we can write `version 1.0 of customer support bot` to describe the alias.\n",
    "\n"
   ]
  },
  {
   "cell_type": "markdown",
   "id": "28f4cfb0-f638-40d9-b670-a0cab0585fa0",
   "metadata": {},
   "source": [
    "---\n",
    "### <a name=\"10\">[LAB TO-DO(s)] Resource Cleanup</a>\n",
    "(<a href=\"#0\">Go to top</a>)\n",
    "\n",
    "Auto-clean up resources"
   ]
  },
  {
   "cell_type": "code",
   "execution_count": 12,
   "id": "1494099b-5930-4e45-bc19-e78febbe093b",
   "metadata": {
    "tags": []
   },
   "outputs": [
    {
     "ename": "Exception",
     "evalue": "Avoiding Auto-Cleanup of Bedrock Agent Resources",
     "output_type": "error",
     "traceback": [
      "\u001b[0;31m---------------------------------------------------------------------------\u001b[0m",
      "\u001b[0;31mException\u001b[0m                                 Traceback (most recent call last)",
      "Cell \u001b[0;32mIn[12], line 2\u001b[0m\n\u001b[1;32m      1\u001b[0m \u001b[38;5;66;03m# This avoids auto-cleanup so that Agents can be setup with the resources created\u001b[39;00m\n\u001b[0;32m----> 2\u001b[0m \u001b[38;5;28;01mraise\u001b[39;00m \u001b[38;5;167;01mException\u001b[39;00m(\u001b[38;5;124m'\u001b[39m\u001b[38;5;124mAvoiding Auto-Cleanup of Bedrock Agent Resources\u001b[39m\u001b[38;5;124m'\u001b[39m)\n",
      "\u001b[0;31mException\u001b[0m: Avoiding Auto-Cleanup of Bedrock Agent Resources"
     ]
    }
   ],
   "source": [
    "# This avoids auto-cleanup so that Agents can be setup with the resources created\n",
    "raise Exception('Avoiding Auto-Cleanup of Bedrock Agent Resources')\n"
   ]
  },
  {
   "cell_type": "code",
   "execution_count": null,
   "id": "b7236c77-5c65-4f77-aefb-5c11e3ad2754",
   "metadata": {
    "tags": []
   },
   "outputs": [],
   "source": [
    "%load_ext autoreload\n",
    "%autoreload 2\n",
    "from mlu_utils.agents_infra_utils_no_kb_setup_lab1 import *\n",
    "cleanup_infrastructure_lab1(lambda_name, lambda_role_name, bucket_name, schema_key, agent_bedrock_policy, agent_s3_schema_policy)"
   ]
  },
  {
   "cell_type": "markdown",
   "id": "e003dbbf-a7cd-4e6a-ba43-ef6492724042",
   "metadata": {},
   "source": [
    "---\n",
    "### <a name=\"11\">Challenge Exercise and Lab Quiz</a>\n",
    "(<a href=\"#0\">Go to top</a>)"
   ]
  },
  {
   "cell_type": "markdown",
   "id": "8911e68c-c434-45fd-b014-4adaafe421fa",
   "metadata": {
    "tags": []
   },
   "source": [
    "### Challenge Exercise \n",
    "\n",
    "<div style=\"border: 4px solid coral; text-align: center; margin: auto;\">\n",
    "    <h2><i>Try it Yourself!</i></h2>\n",
    "    <br>\n",
    "    <p style=\"text-align:center;margin:auto;\"><img src=\"../images/activity.png\" alt=\"Activity\" width=\"100\" /> </p>\n",
    "    <p style=\" text-align: center; margin: auto;\">Now, try to ask more questions to your built Bedrock Agent and see what response you will get. Observe what works and what does not.</p>\n",
    "    <br>\n",
    "</div>\n",
    "\n"
   ]
  },
  {
   "cell_type": "markdown",
   "id": "57db3e41-5743-4ea8-b1ed-bbd6f3a72af6",
   "metadata": {
    "tags": []
   },
   "source": [
    "### Lab Quiz\n",
    "\n",
    "Well done on completing the lab! Now, it's time for a brief knowledge assessment.\n",
    "\n",
    "<div style=\"border: 4px solid coral; text-align: center; margin: auto;\">\n",
    "    <h2><i>Try it Yourself!</i></h2>\n",
    "    <br>\n",
    "    <p style=\"text-align:center;margin:auto;\"><img src=\"../images/activity.png\" alt=\"Activity\" width=\"100\" /> </p>\n",
    "    <p style=\" text-align: center; margin: auto;\">Answer the following questions to test your understanding of using Agents for Amazon bedrock.</p>\n",
    "    <br>\n",
    "</div>"
   ]
  },
  {
   "cell_type": "code",
   "execution_count": null,
   "id": "b46efb07-d6b1-470b-a4bd-5add994926a1",
   "metadata": {
    "tags": []
   },
   "outputs": [],
   "source": [
    "from mlu_utils.agents_quiz import *\n",
    "\n",
    "lab1_question1"
   ]
  },
  {
   "cell_type": "code",
   "execution_count": null,
   "id": "dda971d2-c30f-42e8-9746-8788fe7d73fe",
   "metadata": {
    "tags": []
   },
   "outputs": [],
   "source": [
    "lab1_question2"
   ]
  },
  {
   "cell_type": "markdown",
   "id": "df91a06a-64ea-480b-8388-4c6c01210d1f",
   "metadata": {
    "tags": []
   },
   "source": [
    "---\n",
    "### <a name=\"12\">[LAB EXTRA(S)]Create knowledge base via AWS console</a>\n",
    "(<a href=\"#0\">Go to top</a>)"
   ]
  },
  {
   "cell_type": "markdown",
   "id": "54a1891b-ab0b-409e-91ce-fb12a932b775",
   "metadata": {
    "tags": []
   },
   "source": [
    "In your AWS console under Amazon Bedrock, in the left hand menu bar, under the `Builder Tools` sub-heading you will find the `knowledge base` menu.\n",
    "\n",
    "Step 1: You can click on the `Knowledge Bases` link to refresh the page and then proceed to `Create Knowledge Base` button.\n"
   ]
  },
  {
   "cell_type": "markdown",
   "id": "3bad9851-e610-45e7-81eb-037c21ae4eff",
   "metadata": {
    "tags": []
   },
   "source": [
    "Step 2: You will need to provide knowledge base details, including name, description and IAM service role\n"
   ]
  },
  {
   "cell_type": "markdown",
   "id": "37cbd958-1613-4e2d-a233-ff1e73d19ea2",
   "metadata": {
    "tags": []
   },
   "source": [
    "Step 3: You can either create a new IAM service role or use an existing service role\n"
   ]
  },
  {
   "cell_type": "markdown",
   "id": "8987d3ec-ec8c-469d-b9ea-90e65bec13d6",
   "metadata": {
    "tags": []
   },
   "source": [
    "Step 4: Next, set up a data source\n",
    "\n"
   ]
  },
  {
   "cell_type": "markdown",
   "id": "f358065a-539d-4114-8d58-c5db5e609359",
   "metadata": {},
   "source": [
    "Step 5: Next, configure vector store using an embedding model and create a new vector store by default\n"
   ]
  },
  {
   "cell_type": "markdown",
   "id": "e6de99b9-b71e-4486-a9dd-7cd431d79438",
   "metadata": {
    "tags": []
   },
   "source": [
    "Step 6: More optional settings are available under `configure vector store`\n"
   ]
  },
  {
   "cell_type": "markdown",
   "id": "a3a432d9-76fd-4de1-abfc-cf8c6a57eb93",
   "metadata": {
    "tags": []
   },
   "source": [
    "Step 7: Review and create the knowledge base\n"
   ]
  },
  {
   "cell_type": "markdown",
   "id": "5013102c-fb74-476a-8301-4e22dc20f1a4",
   "metadata": {
    "tags": []
   },
   "source": [
    "Step 8: After knowledge base has been created, you can click sync button to create embeddings from the documents at the S3 bucket\n"
   ]
  },
  {
   "cell_type": "markdown",
   "id": "b219fcc1-ecb8-4ce1-9372-7b6cdb5216d5",
   "metadata": {
    "tags": []
   },
   "source": [
    "Step 9: You will see the status changes to ready from syncing after the syncing is finished\n"
   ]
  },
  {
   "cell_type": "markdown",
   "id": "d3aac41f-f651-4826-8fd9-e77e1bd4547c",
   "metadata": {},
   "source": [
    "---\n",
    "### <a name=\"13\">Conclusion</a>\n",
    "(<a href=\"#0\">Go to top</a>)"
   ]
  },
  {
   "cell_type": "markdown",
   "id": "ad15b923-c27e-4241-9fb3-bbd5cdfcc20a",
   "metadata": {},
   "source": [
    "Agents for Amazon Bedrock can help you increase productivity, improve your customer service experience, or automate DevOps tasks. In this lab, we showed you how to set up agents for Amazon Bedrock to create a customer service bot.\n",
    "\n",
    "We encourage you to learn more by reviewing the [User Guide ](https://docs.aws.amazon.com/bedrock/latest/userguide/agents.html) and [additional features](https://aws.amazon.com/bedrock/knowledge-bases/) of agents for Amazon Bedrock. In the next lab 2a, we show you the boto3 API version of the lab.\n"
   ]
  },
  {
   "cell_type": "markdown",
   "id": "e941e69a-d03f-4117-8cca-22051579968a",
   "metadata": {},
   "source": [
    "<p style=\"padding: 10px; border: 1px solid black;\">\n",
    "<img src=\"../images/MLU-NEW-logo.png\" alt=\"drawing\" width=\"400\"/> <br/>\n",
    "\n",
    "# Thank you!"
   ]
  }
 ],
 "metadata": {
  "kernelspec": {
   "display_name": "conda_python3",
   "language": "python",
   "name": "conda_python3"
  },
  "language_info": {
   "codemirror_mode": {
    "name": "ipython",
    "version": 3
   },
   "file_extension": ".py",
   "mimetype": "text/x-python",
   "name": "python",
   "nbconvert_exporter": "python",
   "pygments_lexer": "ipython3",
   "version": "3.10.14"
  }
 },
 "nbformat": 4,
 "nbformat_minor": 5
}
